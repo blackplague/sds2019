{
 "cells": [
  {
   "cell_type": "markdown",
   "metadata": {
    "slideshow": {
     "slide_type": "slide"
    }
   },
   "source": [
    "# Session 8\n",
    "## Scraping 1 - Data Collection\n",
    "*Snorre Ralund *"
   ]
  },
  {
   "cell_type": "markdown",
   "metadata": {
    "slideshow": {
     "slide_type": "subslide"
    }
   },
   "source": [
    "## Motivation\n",
    "<table><tr><td><img src='https://i.imgflip.com/2fg9un.jpg' style=\"width: 400px;\"></td><td><img src='http://bigdataanalyticsnews.com/wp-content/uploads/2013/11/big-data.png' style=\"width: 400px;\"></td></tr></table>"
   ]
  },
  {
   "cell_type": "markdown",
   "metadata": {
    "slideshow": {
     "slide_type": "subslide"
    }
   },
   "source": [
    "Getting information and data on a subject of interest is no longer reduced to *tedious* survey designs, and *expensive* collections, *time consuming* interviews and *standardized* register data. \n",
    "\n",
    "This session will teach you how to harvest some of the billions of data points being generated and shared on the internet everyday.\n",
    "\n",
    "** Scraping skills allow you to: ** \n",
    "- singlehandedly create powerful datasets.\n",
    "- Pose new questions that was very expensive or impossible with existing data sources."
   ]
  },
  {
   "cell_type": "markdown",
   "metadata": {
    "slideshow": {
     "slide_type": "slide"
    }
   },
   "source": [
    "## Agenda\n",
    "**Collecting raw data** (*Tomorrow we shall focus on parsing and cleaning*)\n",
    "\n",
    "* The basics of webscraping\n",
    "    * Connecting, Crawling, Parsing,Storing, Logging.\n",
    "* Hands-on examples.\n",
    "* Ethical and Legal issues around scraping publicly available data.\n",
    "* Hacks: Backdoors, url construction and analyzing webpages.\n",
    "* Reliability of your data collection!"
   ]
  },
  {
   "cell_type": "markdown",
   "metadata": {
    "slideshow": {
     "slide_type": "subslide"
    }
   },
   "source": [
    "**Main take-aways**\n",
    "- Utilize the data sources around you. Combine them to reach new potentials. \n",
    "- Knowing how to build your own custom datasets from web sources, without having to spend a month manually curating the data.\n",
    "- Get to know some of the most valuable tricks, \n",
    "- And instructions on how to Handle with care."
   ]
  },
  {
   "cell_type": "markdown",
   "metadata": {
    "slideshow": {
     "slide_type": "slide"
    }
   },
   "source": [
    "<img src=\"https://i.imgflip.com/2fgdqb.jpg\" title=\"made at imgflip.com\"/></a>\n"
   ]
  },
  {
   "cell_type": "markdown",
   "metadata": {
    "slideshow": {
     "slide_type": "subslide"
    }
   },
   "source": [
    "## Ethics / Legal Issues\n",
    "* If a regular user can’t access it, we shouldn’t try to get it (That is considered hacking)https://www.dr.dk/nyheder/penge/gjorde-opmaerksom-paa-cpr-hul-nu-bliver-han-politianmeldt-hacking. \n",
    "* Don't hit it to fast: Essentially a DENIAL OF SERVICE attack (DOS). [Again considered hacking](https://www.dr.dk/nyheder/indland/folketingets-hjemmeside-ramt-af-hacker-angreb). \n",
    "* Add headers stating your name and email with your requests to ensure transparency. \n",
    "* Be careful with copyrighted material.\n",
    "* Fair use (don't take everything)\n",
    "* If monetizing on the data, be careful not to be in direct competition with whom you are taking the data from."
   ]
  },
  {
   "cell_type": "markdown",
   "metadata": {
    "slideshow": {
     "slide_type": "subslide"
    }
   },
   "source": [
    "<img src=\"https://github.com/snorreralund/images/raw/master/Sk%C3%A6rmbillede%202017-08-03%2014.46.32.png\"/>"
   ]
  },
  {
   "cell_type": "markdown",
   "metadata": {
    "slideshow": {
     "slide_type": "slide"
    }
   },
   "source": [
    "# quick 101"
   ]
  },
  {
   "cell_type": "markdown",
   "metadata": {
    "slideshow": {
     "slide_type": "subslide"
    }
   },
   "source": [
    "![](overview_images/1.png)"
   ]
  },
  {
   "cell_type": "markdown",
   "metadata": {
    "slideshow": {
     "slide_type": "subslide"
    }
   },
   "source": [
    "![](overview_images/2.png)\n"
   ]
  },
  {
   "cell_type": "markdown",
   "metadata": {
    "slideshow": {
     "slide_type": "subslide"
    }
   },
   "source": [
    "<img src=overview_images/2.png style=\"width:500px;\" />\n",
    "\n",
    "To scrape information from the web is:\n",
    "\n",
    "\t    1. MAPPING: Finding URLs of the pages containing the information you want.\n",
    "\t    2. DOWNLOAD: Fetching the pages via HTTP.\n",
    "\t    3. PARSE: Extracting the information from HTML.\n",
    "\t    4. REPEAT: Finding more URL containing what you want, go back to 2.\n",
    "\n",
    "**Crawling** is when your collection spans unknown domains and is generally much harder."
   ]
  },
  {
   "cell_type": "markdown",
   "metadata": {
    "slideshow": {
     "slide_type": "subslide"
    }
   },
   "source": [
    "### Packages used\n",
    "Today we will mainly build on the python skills you have gotten so far, and tomorrow we will look into more specialized packages.\n",
    "\n",
    "* for connecting to the internet we use: **requests**\n",
    "* for parsing: **beautifulsoup** and **regex**\n",
    "* for automatic browsing / screen scraping (not covered in detail here): **selenium** \n",
    "* for behaving responsibly we use: **time** and ***our minds***\n",
    "\n",
    "We will write our scrapers with basic python, for larger projects consider looking into the packages **scrapy** or **pyspider**"
   ]
  },
  {
   "cell_type": "code",
   "execution_count": 8,
   "metadata": {
    "slideshow": {
     "slide_type": "subslide"
    }
   },
   "outputs": [],
   "source": [
    "import requests, re, time\n",
    "from bs4 import BeautifulSoup"
   ]
  },
  {
   "cell_type": "markdown",
   "metadata": {
    "slideshow": {
     "slide_type": "slide"
    }
   },
   "source": [
    "## Connecting to the Internet"
   ]
  },
  {
   "cell_type": "code",
   "execution_count": 9,
   "metadata": {
    "slideshow": {
     "slide_type": "fragment"
    }
   },
   "outputs": [
    {
     "data": {
      "text/plain": [
       "'<!doctype html><html itemscope=\"\" itemtype=\"http://schema.org/WebPage\" lang=\"da\"><head><meta content=\"text/html; charset=UTF-8\" http-equiv=\"Content-Type\"><meta content=\"/logos/doodles/2019/louisa-aldrich-blakes-154th-birthday-4903591901921280-l.png\" itemprop=\"image\"><meta content=\"Louisa Aldrich-Blakes 154 års fødselsdag\" property=\"twitter:title\"><meta content=\"Louisa Aldrich-Blakes 154 års fødselsdag #GoogleDoodle\" property=\"twitter:description\"><meta content=\"Louisa Aldrich-Blakes 154 års fødselsdag #GoogleDoodle\" property=\"og:description\"><meta content=\"summary_large_image\" property=\"twitter:card\"><meta content=\"@GoogleDoodles\" property=\"twitter:site\"><meta content=\"https://www.google.com/logos/doodles/2019/louisa-aldrich-blakes-154th-birthday-4903591901921280-2x.jpg\" property=\"twitter:image\"><meta content=\"https://www.google.com/logos/doodles/2019/louisa-aldrich-blakes-154th-birthday-4903591901921280-2x.jpg\" property=\"og:image\"><meta content=\"1000\" property=\"og:image:width\"><meta content=\"429\" property=\"og:image:height\"><title>Google</title><script nonce=\"EOl/5sE1XBmTIo24pEp+dA==\">(function(){window.google={kEI:\\'_VlVXburGI3qrgTYy5fACw\\',kEXPI:\\'0,1353746,58,1958,2422,1225,591,139,224,510,1065,3152,57,321,206,397,620,53,122,1309,703,10,50,212,80,371,338,20,2330374,329482,1294,12383,4855,32691,15248,864,12166,7235,9286,363,3320,5505,2442,5367,575,1119,2,579,727,2431,1362,4323,4967,774,2248,3685,1061,2900,223,6191,670,1049,1808,1478,7,491,10953,4604,691,1675,343,38,920,753,120,1217,1364,1611,2736,1558,1509,2,626,2402,837,44,370,4413,1160,2079,2884,20,317,236,883,904,101,2024,1,368,1317,1461,520,399,992,98,1187,10,107,2539,1115,48,553,11,14,10,1269,390,1822,202,39,128,158,5,60,960,223,7,840,108,216,193,1261,261,157,663,2620,335,483,260,52,1137,2,679,830,554,606,789,1041,9,184,545,50,1702,360,192,58,1337,450,297,245,72,112,44,1024,6,72,328,1284,16,84,135,201,81,2426,1401,238,608,90,10,144,229,363,767,209,729,501,263,294,476,195,1516,82,1,823,134,773,41,219,1288,150,90,285,6,504,15,209,592,523,72,979,1115,394,2,326,499,639,107,297,796,2,33,425,763,11,41,1000,16,1143,103,33,1356,855,632,528,5902836,2886,8797454,4,1572,549,333,444,1,2,80,1,900,579,13,304,1,8,1,2,2132,1,1,1,1,1,414,1,748,141,59,736,563,1,3132,2,25,8,33,9,23,2,12,196,6,46,4,2,2796519,17949964\\',authuser:0,kscs:\\'c9c918f0__VlVXburGI3qrgTYy5fACw\\',kGL:\\'DK\\',kBL:\\'d31E\\'};google.sn=\\'webhp\\';google.kHL=\\'da\\';google.jsfs=\\'Ffpdje\\';})();(function(){google.lc=[];google.li=0;google.getEI=function(a){for(var b;a&&(!a.getAttribute||!(b=a.getAttribute(\"eid\")));)a=a.parentNode;return b||google.kEI};google.getLEI=function(a){for(var b=null;a&&(!a.getAttribute||!(b=a.getAttribute(\"leid\")));)a=a.parentNode;return b};google.https=function(){return\"https:\"==window.location.protocol};google.ml=function(){return null};google.time=function(){return(new Date).getTime()};google.log=function(a,b,e,c,g){if(a=google.logUrl(a,b,e,c,g)){b=new Image;var d=google.lc,f=google.li;d[f]=b;b.onerror=b.onload=b.onabort=function(){delete d[f]};google.vel&&google.vel.lu&&google.vel.lu(a);b.src=a;google.li=f+1}};google.logUrl=function(a,b,e,c,g){var d=\"\",f=google.ls||\"\";e||-1!=b.search(\"&ei=\")||(d=\"&ei=\"+google.getEI(c),-1==b.search(\"&lei=\")&&(c=google.getLEI(c))&&(d+=\"&lei=\"+c));c=\"\";!e&&google.cshid&&-1==b.search(\"&cshid=\")&&\"slh\"!=a&&(c=\"&cshid=\"+google.cshid);a=e||\"/\"+(g||\"gen_204\")+\"?atyp=i&ct=\"+a+\"&cad=\"+b+d+f+\"&zx=\"+google.time()+c;/^http:/i.test(a)&&google.https()&&(google.ml(Error(\"a\"),!1,{src:a,glmm:1}),a=\"\");return a};}).call(this);(function(){google.y={};google.x=function(a,b){if(a)var c=a.id;else{do c=Math.random();while(google.y[c])}google.y[c]=[a,b];return!1};google.lm=[];google.plm=function(a){google.lm.push.apply(google.lm,a)};google.lq=[];google.load=function(a,b,c){google.lq.push([[a],b,c])};google.loadAll=function(a,b){google.lq.push([a,b])};}).call(this);google.f={};var a=window.location,b=a.href.indexOf(\"#\");if(0<=b){var c=a.href.substring(b+1);/(^|&)q=/.test(c)&&-1==c.indexOf(\"#\")&&a.replace(\"/search?\"+c.replace(/(^|&)fp=[^&]*/g,\"\")+\"&cad=h\")};</script><style>#gbar,#guser{font-size:13px;padding-top:1px !important;}#gbar{height:22px}#guser{padding-bottom:7px !important;text-align:right}.gbh,.gbd{border-top:1px solid #c9d7f1;font-size:1px}.gbh{height:0;position:absolute;top:24px;width:100%}@media all{.gb1{height:22px;margin-right:.5em;vertical-align:top}#gbar{float:left}}a.gb1,a.gb4{text-decoration:underline !important}a.gb1,a.gb4{color:#00c !important}.gbi .gb4{color:#dd8e27 !important}.gbf .gb4{color:#900 !important}\\n</style><style>body,td,a,p,.h{font-family:arial,sans-serif}body{margin:0;overflow-y:scroll}#gog{padding:3px 8px 0}td{line-height:.8em}.gac_m td{line-height:17px}form{margin-bottom:20px}.h{color:#36c}.q{color:#00c}.ts td{padding:0}.ts{border-collapse:collapse}em{font-weight:bold;font-style:normal}.lst{height:25px;width:496px}.gsfi,.lst{font:18px arial,sans-serif}.gsfs{font:17px arial,sans-serif}.ds{display:inline-box;display:inline-block;margin:3px 0 4px;margin-left:4px}input{font-family:inherit}a.gb1,a.gb2,a.gb3,a.gb4{color:#11c !important}body{background:#fff;color:black}a{color:#11c;text-decoration:none}a:hover,a:active{text-decoration:underline}.fl a{color:#36c}a:visited{color:#551a8b}a.gb1,a.gb4{text-decoration:underline}a.gb3:hover{text-decoration:none}#ghead a.gb2:hover{color:#fff !important}.sblc{padding-top:5px}.sblc a{display:block;margin:2px 0;margin-left:13px;font-size:11px}.lsbb{background:#eee;border:solid 1px;border-color:#ccc #999 #999 #ccc;height:30px}.lsbb{display:block}.ftl,#fll a{display:inline-block;margin:0 12px}.lsb{background:url(/images/nav_logo229.png) 0 -261px repeat-x;border:none;color:#000;cursor:pointer;height:30px;margin:0;outline:0;font:15px arial,sans-serif;vertical-align:top}.lsb:active{background:#ccc}.lst:focus{outline:none}.tiah{width:458px}</style><script nonce=\"EOl/5sE1XBmTIo24pEp+dA==\"></script></head><body bgcolor=\"#fff\"><script nonce=\"EOl/5sE1XBmTIo24pEp+dA==\">(function(){var src=\\'/images/nav_logo229.png\\';var iesg=false;document.body.onload = function(){window.n && window.n();if (document.images){new Image().src=src;}\\nif (!iesg){document.f&&document.f.q.focus();document.gbqf&&document.gbqf.q.focus();}\\n}\\n})();</script><div id=\"mngb\"> <div id=gbar><nobr><b class=gb1>Søgning</b> <a class=gb1 href=\"https://www.google.dk/imghp?hl=da&tab=wi\">Billeder</a> <a class=gb1 href=\"https://maps.google.dk/maps?hl=da&tab=wl\">Maps</a> <a class=gb1 href=\"https://play.google.com/?hl=da&tab=w8\">Play</a> <a class=gb1 href=\"https://www.youtube.com/?gl=DK&tab=w1\">YouTube</a> <a class=gb1 href=\"https://mail.google.com/mail/?tab=wm\">Gmail</a> <a class=gb1 href=\"https://drive.google.com/?tab=wo\">Drev</a> <a class=gb1 href=\"https://www.google.com/calendar?tab=wc\">Kalender</a> <a class=gb1 style=\"text-decoration:none\" href=\"https://www.google.dk/intl/da/about/products?tab=wh\"><u>Mere</u> &raquo;</a></nobr></div><div id=guser width=100%><nobr><span id=gbn class=gbi></span><span id=gbf class=gbf></span><span id=gbe></span><a href=\"http://www.google.dk/history/optout?hl=da\" class=gb4>Webhistorik</a> | <a  href=\"/preferences?hl=da\" class=gb4>Indstillinger</a> | <a target=_top id=gb_70 href=\"https://accounts.google.com/ServiceLogin?hl=da&passive=true&continue=https://www.google.com/\" class=gb4>Log ind</a></nobr></div><div class=gbh style=left:0></div><div class=gbh style=right:0></div> </div><center><br clear=\"all\" id=\"lgpd\"><div id=\"lga\"><a href=\"/search?ie=UTF-8&amp;q=Louisa+Aldrich-Blake&amp;oi=ddle&amp;ct=119274380&amp;hl=da&amp;kgmid=/m/02q3tp9&amp;sa=X&amp;ved=0ahUKEwj7nYvj-YTkAhUNtYsKHdjlBbgQPQgD\"><img alt=\"Louisa Aldrich-Blakes 154 års fødselsdag\" border=\"0\" height=\"214\" src=\"/logos/doodles/2019/louisa-aldrich-blakes-154th-birthday-4903591901921280-l.png\" title=\"Louisa Aldrich-Blakes 154 års fødselsdag\" width=\"500\" id=\"hplogo\"><br></a><br></div><form action=\"/search\" name=\"f\"><table cellpadding=\"0\" cellspacing=\"0\"><tr valign=\"top\"><td width=\"25%\">&nbsp;</td><td align=\"center\" nowrap=\"\"><input name=\"ie\" value=\"ISO-8859-1\" type=\"hidden\"><input value=\"da\" name=\"hl\" type=\"hidden\"><input name=\"source\" type=\"hidden\" value=\"hp\"><input name=\"biw\" type=\"hidden\"><input name=\"bih\" type=\"hidden\"><div class=\"ds\" style=\"height:32px;margin:4px 0\"><div style=\"position:relative;zoom:1\"><input style=\"color:#000;margin:0;padding:5px 8px 0 6px;vertical-align:top;padding-right:38px\" autocomplete=\"off\" class=\"lst tiah\" value=\"\" title=\"Google-søgning\" maxlength=\"2048\" name=\"q\" size=\"57\"><img src=\"/textinputassistant/tia.png\" style=\"position:absolute;cursor:pointer;right:5px;top:4px;z-index:300\" data-script-url=\"/textinputassistant/11/da_tia.js\" alt=\"\" height=\"23\" onclick=\"var s=document.createElement(\\'script\\');s.src=this.getAttribute(\\'data-script-url\\');(document.getElementById(\\'xjsc\\')||document.body).appendChild(s);\" width=\"27\"></div></div><br style=\"line-height:0\"><span class=\"ds\"><span class=\"lsbb\"><input class=\"lsb\" value=\"Google-søgning\" name=\"btnG\" type=\"submit\"></span></span><span class=\"ds\"><span class=\"lsbb\"><input class=\"lsb\" value=\"Jeg prøver lykken\" name=\"btnI\" onclick=\"if(this.form.q.value)this.checked=1; else top.location=\\'/doodles/\\'\" type=\"submit\"></span></span></td><td class=\"fl sblc\" align=\"left\" nowrap=\"\" width=\"25%\"><a href=\"/advanced_search?hl=da&amp;authuser=0\">Avanceret søgning</a><a href=\"/language_tools?hl=da&amp;authuser=0\">Sprogværktøjer</a></td></tr></table><input id=\"gbv\" name=\"gbv\" type=\"hidden\" value=\"1\"><script nonce=\"EOl/5sE1XBmTIo24pEp+dA==\">(function(){var a,b=\"1\";if(document&&document.getElementById)if(\"undefined\"!=typeof XMLHttpRequest)b=\"2\";else if(\"undefined\"!=typeof ActiveXObject){var c,d,e=[\"MSXML2.XMLHTTP.6.0\",\"MSXML2.XMLHTTP.3.0\",\"MSXML2.XMLHTTP\",\"Microsoft.XMLHTTP\"];for(c=0;d=e[c++];)try{new ActiveXObject(d),b=\"2\"}catch(h){}}a=b;if(\"2\"==a&&-1==location.search.indexOf(\"&gbv=2\")){var f=google.gbvu,g=document.getElementById(\"gbv\");g&&(g.value=a);f&&window.setTimeout(function(){location.href=f},0)};}).call(this);</script></form><div id=\"gac_scont\"></div><div style=\"font-size:83%;min-height:3.5em\"><br><div id=\"gws-output-pages-elements-homepage_additional_languages__als\"><style>#gws-output-pages-elements-homepage_additional_languages__als{font-size:small;margin-bottom:24px}#SIvCob{display:inline-block;line-height:28px;}#SIvCob a{padding:0 3px;}.H6sW5{display:inline-block;margin:0 2px;white-space:nowrap}.z4hgWe{display:inline-block;margin:0 2px}</style><div id=\"SIvCob\">Google er tilgængelig på:  <a href=\"https://www.google.com/setprefs?sig=0_jabCfP0SzSOV9q7gfbT1GC_V6_k%3D&amp;hl=fo&amp;source=homepage&amp;sa=X&amp;ved=0ahUKEwj7nYvj-YTkAhUNtYsKHdjlBbgQ2ZgBCAU\">Føroyskt</a>  </div></div></div><span id=\"footer\"><div style=\"font-size:10pt\"><div style=\"margin:19px auto;text-align:center\" id=\"fll\"><a href=\"/intl/da/ads/\">Annoncér med Google</a><a href=\"http://www.google.dk/intl/da/services/\">Virksomhedsløsninger</a><a href=\"/intl/da/about.html\">Alt om Google</a><a href=\"https://www.google.com/setprefdomain?prefdom=DK&amp;prev=https://www.google.dk/&amp;sig=K_3Ug68RcS0z25MmwmPTIBys4pS8I%3D\">Google.dk</a></div></div><p style=\"color:#767676;font-size:8pt\">&copy; 2019 - <a href=\"/intl/da/policies/privacy/\">Privatliv</a> - <a href=\"/intl/da/policies/terms/\">Vilkår</a></p></span></center><script nonce=\"EOl/5sE1XBmTIo24pEp+dA==\">(function(){window.google.cdo={height:0,width:0};(function(){var a=window.innerWidth,b=window.innerHeight;if(!a||!b){var c=window.document,d=\"CSS1Compat\"==c.compatMode?c.documentElement:c.body;a=d.clientWidth;b=d.clientHeight}a&&b&&(a!=google.cdo.width||b!=google.cdo.height)&&google.log(\"\",\"\",\"/client_204?&atyp=i&biw=\"+a+\"&bih=\"+b+\"&ei=\"+google.kEI);}).call(this);})();(function(){var u=\\'/xjs/_/js/k\\\\x3dxjs.hp.en.3XKde6U3F_E.O/m\\\\x3dsb_he,d/am\\\\x3dABbUBA/d\\\\x3d1/rs\\\\x3dACT90oHt9X-Rgf7Gz8qpHDO3yg4xHrSv3Q\\';setTimeout(function(){var a=document.createElement(\"script\");a.src=u;google.timers&&google.timers.load&&google.tick&&google.tick(\"load\",\"xjsls\");document.body.appendChild(a)},0);})();(function(){window.google.xjsu=\\'/xjs/_/js/k\\\\x3dxjs.hp.en.3XKde6U3F_E.O/m\\\\x3dsb_he,d/am\\\\x3dABbUBA/d\\\\x3d1/rs\\\\x3dACT90oHt9X-Rgf7Gz8qpHDO3yg4xHrSv3Q\\';})();function _DumpException(e){throw e;}\\nfunction _F_installCss(c){}\\n(function(){google.spjs=false;google.snet=true;google.em=[];google.emw=false;})();google.sm=1;(function(){var pmc=\\'{\\\\x22Qnk92g\\\\x22:{},\\\\x22RWGcrA\\\\x22:{},\\\\x22U5B21g\\\\x22:{},\\\\x22YFCs/g\\\\x22:{},\\\\x22ZI/YVQ\\\\x22:{},\\\\x22d\\\\x22:{},\\\\x22mVopag\\\\x22:{},\\\\x22sb_he\\\\x22:{\\\\x22agen\\\\x22:true,\\\\x22cgen\\\\x22:true,\\\\x22client\\\\x22:\\\\x22heirloom-hp\\\\x22,\\\\x22dh\\\\x22:true,\\\\x22dhqt\\\\x22:true,\\\\x22ds\\\\x22:\\\\x22\\\\x22,\\\\x22ffql\\\\x22:\\\\x22en\\\\x22,\\\\x22fl\\\\x22:true,\\\\x22host\\\\x22:\\\\x22google.com\\\\x22,\\\\x22isbh\\\\x22:28,\\\\x22jsonp\\\\x22:true,\\\\x22msgs\\\\x22:{\\\\x22cibl\\\\x22:\\\\x22Ryd søgning\\\\x22,\\\\x22dym\\\\x22:\\\\x22Mente du:\\\\x22,\\\\x22lcky\\\\x22:\\\\x22Jeg prøver lykken\\\\x22,\\\\x22lml\\\\x22:\\\\x22Få flere oplysninger\\\\x22,\\\\x22oskt\\\\x22:\\\\x22Inputværktøjer\\\\x22,\\\\x22psrc\\\\x22:\\\\x22Denne søgning blev fjernet fra din \\\\\\\\u003Ca href\\\\x3d\\\\\\\\\\\\x22/history\\\\\\\\\\\\x22\\\\\\\\u003EWebhistorik\\\\\\\\u003C/a\\\\\\\\u003E\\\\x22,\\\\x22psrl\\\\x22:\\\\x22Fjern\\\\x22,\\\\x22sbit\\\\x22:\\\\x22Søg efter billede\\\\x22,\\\\x22srch\\\\x22:\\\\x22Google-søgning\\\\x22},\\\\x22ovr\\\\x22:{},\\\\x22pq\\\\x22:\\\\x22\\\\x22,\\\\x22refpd\\\\x22:true,\\\\x22rfs\\\\x22:[],\\\\x22sbpl\\\\x22:24,\\\\x22sbpr\\\\x22:24,\\\\x22scd\\\\x22:10,\\\\x22sce\\\\x22:5,\\\\x22stok\\\\x22:\\\\x229be0op_N-MSSHAWM8j9lxtZ62BY\\\\x22,\\\\x22uhde\\\\x22:false}}\\';google.pmc=JSON.parse(pmc);})();</script>        </body></html>'"
      ]
     },
     "execution_count": 9,
     "metadata": {},
     "output_type": "execute_result"
    }
   ],
   "source": [
    "import requests\n",
    "response = requests.get('https://www.google.com')\n",
    "response.text"
   ]
  },
  {
   "cell_type": "markdown",
   "metadata": {
    "slideshow": {
     "slide_type": "subslide"
    }
   },
   "source": [
    "**Connecting to the internet**\n",
    "**HTTP**\n",
    "\n",
    "*URL* : the adressline in our browser.\n",
    "\n",
    "Via HTTP we send a **get** request to an *address* with *instructions* ( - or rather our dns service provider redirects our request to the right address)\n",
    "\n",
    "*Address / Domain*: www.google.com\n",
    "\n",
    "*Instructions*: /trends?query=social+data+science\n",
    "\n",
    "*Header*: information send along with the request, including user agent (operating system, browser), cookies, and prefered encoding.\n",
    "\n",
    "*HTML*: HyperTextMarkupLanguage the language of displaying web content. More on this tomorrow.\n",
    "\n"
   ]
  },
  {
   "cell_type": "markdown",
   "metadata": {
    "slideshow": {
     "slide_type": "slide"
    }
   },
   "source": [
    "## Reliability and data quality issues: A first primer\n",
    "- You are in charge of the data quality!\n",
    "\n",
    "- **Everything** can go wrong. \n",
    "    - **Program** errors.\n",
    "    - Connection errors\n",
    "    - Domain wants to avoid scrapers and change the behavior of the site. \n",
    "    - Parsing errors.\n",
    "    \n",
    "You will be graded based on your ability to document your data collection and your **critical** and **informed** inspection of data quality based on logs.\n"
   ]
  },
  {
   "cell_type": "code",
   "execution_count": 10,
   "metadata": {
    "slideshow": {
     "slide_type": "slide"
    }
   },
   "outputs": [],
   "source": [
    "## SOLUTION\n",
    "\n",
    "import requests,os,time\n",
    "def ratelimit():\n",
    "    \"A function that handles the rate of your calls.\"\n",
    "    time.sleep(1) # sleep one second.\n",
    "\n",
    "class Connector():\n",
    "  def __init__(self,logfile,overwrite_log=False,connector_type='requests',session=False,path2selenium='',n_tries = 5,timeout=30):\n",
    "    \"\"\"This Class implements a method for reliable connection to the internet and monitoring. \n",
    "    It handles simple errors due to connection problems, and logs a range of information for basic quality assessments\n",
    "    \n",
    "    Keyword arguments:\n",
    "    logfile -- path to the logfile\n",
    "    overwrite_log -- bool, defining if logfile should be cleared (rarely the case). \n",
    "    connector_type -- use the 'requests' module or the 'selenium'. Will have different since the selenium webdriver does not have a similar response object when using the get method, and monitoring the behavior cannot be automated in the same way.\n",
    "    session -- requests.session object. For defining custom headers and proxies.\n",
    "    path2selenium -- str, sets the path to the geckodriver needed when using selenium.\n",
    "    n_tries -- int, defines the number of retries the *get* method will try to avoid random connection errors.\n",
    "    timeout -- int, seconds the get request will wait for the server to respond, again to avoid connection errors.\n",
    "    \"\"\"\n",
    "    \n",
    "    ## Initialization function defining parameters. \n",
    "    self.n_tries = n_tries # For avoiding triviel error e.g. connection errors, this defines how many times it will retry.\n",
    "    self.timeout = timeout # Defining the maximum time to wait for a server to response.\n",
    "    ## not implemented here, if you use selenium.\n",
    "    if connector_type=='selenium':\n",
    "      assert path2selenium!='', \"You need to specify the path to you geckodriver if you want to use Selenium\"\n",
    "      from selenium import webdriver \n",
    "      ## HIN download the latest geckodriver here: https://github.com/mozilla/geckodriver/releases\n",
    "\n",
    "      assert os.path.isfile(path2selenium),'You need to insert a valid path2selenium the path to your geckodriver. You can download the latest geckodriver here: https://github.com/mozilla/geckodriver/releases'\n",
    "      self.browser = webdriver.Firefox(executable_path=path2selenium) # start the browser with a path to the geckodriver.\n",
    "\n",
    "    self.connector_type = connector_type # set the connector_type\n",
    "    \n",
    "    if session: # set the custom session\n",
    "      self.session = session\n",
    "    else:\n",
    "      self.session = requests.session()\n",
    "    self.logfilename = logfile # set the logfile path\n",
    "    ## define header for the logfile\n",
    "    header = ['id','project','connector_type','t', 'delta_t', 'url', 'redirect_url','response_size', 'response_code','success','error']\n",
    "    if os.path.isfile(logfile):        \n",
    "      if overwrite_log==True:\n",
    "        self.log = open(logfile,'w')\n",
    "        self.log.write(';'.join(header))\n",
    "      else:\n",
    "        self.log = open(logfile,'a')\n",
    "    else:\n",
    "      self.log = open(logfile,'w')\n",
    "      self.log.write(';'.join(header))\n",
    "    ## load log \n",
    "    with open(logfile,'r') as f: # open file\n",
    "        \n",
    "      l = f.read().split('\\n') # read and split file by newlines.\n",
    "      ## set id\n",
    "      if len(l)<=1:\n",
    "        self.id = 0\n",
    "      else:\n",
    "        self.id = int(l[-1][0])+1\n",
    "            \n",
    "  def get(self,url,project_name):\n",
    "    \"\"\"Method for connector reliably to the internet, with multiple tries and simple error handling, as well as default logging function.\n",
    "    Input url and the project name for the log (i.e. is it part of mapping the domain, or is it the part of the final stage in the data collection).\n",
    "    \n",
    "    Keyword arguments:\n",
    "    url -- str, url\n",
    "    project_name -- str, Name used for analyzing the log. Use case could be the 'Mapping of domain','Meta_data_collection','main data collection'. \n",
    "    \"\"\"\n",
    "     \n",
    "    project_name = project_name.replace(';','-') # make sure the default csv seperator is not in the project_name.\n",
    "    if self.connector_type=='requests': # Determine connector method.\n",
    "      for _ in range(self.n_tries): # for loop defining number of retries with the requests method.\n",
    "        ratelimit()\n",
    "        t = time.time()\n",
    "        try: # error handling \n",
    "          response = self.session.get(url,timeout = self.timeout) # make get call\n",
    "\n",
    "          err = '' # define python error variable as empty assumming success.\n",
    "          success = True # define success variable\n",
    "          redirect_url = response.url # log current url, after potential redirects \n",
    "          dt = t - time.time() # define delta-time waiting for the server and downloading content.\n",
    "          size = len(response.text) # define variable for size of html content of the response.\n",
    "          response_code = response.status_code # log status code.\n",
    "          ## log...\n",
    "          call_id = self.id # get current unique identifier for the call\n",
    "          self.id+=1 # increment call id\n",
    "          #['id','project_name','connector_type','t', 'delta_t', 'url', 'redirect_url','response_size', 'response_code','success','error']\n",
    "          row = [call_id,project_name,self.connector_type,t,dt,url,redirect_url,size,response_code,success,err] # define row to be written in the log.\n",
    "          self.log.write('\\n'+';'.join(map(str,row))) # write log.\n",
    "          return response,call_id # return response and unique identifier.\n",
    "\n",
    "        except Exception as e: # define error condition\n",
    "          err = str(e) # python error\n",
    "          response_code = '' # blank response code \n",
    "          success = False # call success = False\n",
    "          size = 0 # content is empty.\n",
    "          redirect_url = '' # redirect url empty \n",
    "          dt = t - time.time() # define delta t\n",
    "\n",
    "          ## log...\n",
    "          call_id = self.id # define unique identifier\n",
    "          self.id+=1 # increment call_id\n",
    "\n",
    "          row = [call_id,project_name,self.connector_type,t,dt,url,redirect_url,size,response_code,success,err] # define row\n",
    "          self.log.write('\\n'+';'.join(map(str,row))) # write row to log.\n",
    "    else:\n",
    "      t = time.time()\n",
    "      ratelimit()\n",
    "      self.browser.get(url) # use selenium get method\n",
    "      ## log\n",
    "      call_id = self.id # define unique identifier for the call. \n",
    "      self.id+=1 # increment the call_id\n",
    "      err = '' # blank error message\n",
    "      success = '' # success blank\n",
    "      redirect_url = self.browser.current_url # redirect url.\n",
    "      dt = t - time.time() # get time for get method ... NOTE: not necessarily the complete load time.\n",
    "      size = len(self.browser.page_source) # get size of content ... NOTE: not necessarily correct, since selenium works in the background, and could still be loading.\n",
    "      response_code = '' # empty response code.\n",
    "      row = [call_id,project_name,self.connector_type,t,dt,url,redirect_url,size,response_code,success,err] # define row \n",
    "      self.log.write('\\n'+';'.join(map(str,row))) # write row to log file.\n",
    "    # Using selenium it will not return a response object, instead you should call the browser object of the connector.\n",
    "    ## connector.browser.page_source will give you the html.\n",
    "      return call_id"
   ]
  },
  {
   "cell_type": "code",
   "execution_count": 11,
   "metadata": {
    "slideshow": {
     "slide_type": "slide"
    }
   },
   "outputs": [],
   "source": [
    "### Here we define our connection to the internet\n",
    "connector = Connector('logfile_sds_lecture8.csv')\n",
    "## Test the get method. It takes a url, and name for the log. In this case test call. \n",
    "## Ideally you should name it after the project, and subpart of that project. \n",
    "## E.g. mapping_jobposting referring to the initial mapping of the domain.\n",
    "response,call_id = connector.get('https://www.google.com','test_call')\n",
    "\n"
   ]
  },
  {
   "cell_type": "code",
   "execution_count": 12,
   "metadata": {},
   "outputs": [
    {
     "data": {
      "text/plain": [
       "'<!doctype html><html itemscope=\"\" itemtype=\"http://schema.org/WebPage\" lang=\"da\"><head><meta content=\"text/html; charset=UTF-8\" http-equiv=\"Content-Type\"><meta content=\"/logos/doodles/2019/louisa-aldrich-blakes-154th-birthday-4903591901921280-l.png\" itemprop=\"image\"><meta content=\"Louisa Aldrich-Blakes 154 års fødselsdag\" property=\"twitter:title\"><meta content=\"Louisa Aldrich-Blakes 154 års fødselsdag #GoogleDoodle\" property=\"twitter:description\"><meta content=\"Louisa Aldrich-Blakes 154 års fødselsdag #GoogleDoodle\" property=\"og:description\"><meta content=\"summary_large_image\" property=\"twitter:card\"><meta content=\"@GoogleDoodles\" property=\"twitter:site\"><meta content=\"https://www.google.com/logos/doodles/2019/louisa-aldrich-blakes-154th-birthday-4903591901921280-2x.jpg\" property=\"twitter:image\"><meta content=\"https://www.google.com/logos/doodles/2019/louisa-aldrich-blakes-154th-birthday-4903591901921280-2x.jpg\" property=\"og:image\"><meta content=\"1000\" property=\"og:image:width\"><meta content=\"429\" property=\"og:image:height\"><title>Google</title><script nonce=\"APimhIyUsfy7XszJTRn6Ew==\">(function(){window.google={kEI:\\'BFpVXav5A8X4qwHW2Z-oAw\\',kEXPI:\\'0,1353747,57,1958,2422,1225,730,224,510,1065,3152,377,207,397,620,54,121,888,421,703,10,262,74,6,371,338,1132466,143,1197704,329563,1294,12383,4855,32692,15247,867,12163,16521,369,3314,5505,2442,5367,575,1119,2,578,728,2432,1361,4323,4968,773,2250,4744,7,9307,669,1050,1808,1478,7,491,10953,4604,693,2017,37,920,754,119,1217,1364,4346,1559,1503,2,631,2403,837,44,4782,1162,2078,2884,20,317,1119,904,101,2024,1,368,1317,1461,520,399,992,509,776,8,109,2513,174,218,669,80,48,553,11,14,10,657,612,2212,202,323,5,1023,222,7,327,513,324,196,1519,820,2620,335,483,109,151,52,1137,2,1509,554,606,1830,9,184,77,468,50,1182,520,360,142,108,1337,242,2,205,298,29,190,26,71,113,44,1023,4,75,328,1284,16,84,135,201,81,507,1919,1402,237,608,90,10,373,1130,210,728,501,59,204,294,476,195,1516,259,648,133,502,272,40,219,957,332,85,438,7,504,224,592,523,76,690,287,1113,394,2,368,457,369,269,109,293,834,444,184,560,1052,15,1143,104,33,1641,241,329,1160,5902836,8800340,4,1572,549,333,444,1,2,80,1,900,583,9,304,1,8,1,2,2132,1,1,1,1,1,414,1,748,141,59,736,563,1,3128,2,4,30,36,9,35,178,21,22,29,4,2,20746483\\',authuser:0,kscs:\\'c9c918f0_BFpVXav5A8X4qwHW2Z-oAw\\',kGL:\\'DK\\',kBL:\\'d31E\\'};google.sn=\\'webhp\\';google.kHL=\\'da\\';google.jsfs=\\'Ffpdje\\';})();(function(){google.lc=[];google.li=0;google.getEI=function(a){for(var b;a&&(!a.getAttribute||!(b=a.getAttribute(\"eid\")));)a=a.parentNode;return b||google.kEI};google.getLEI=function(a){for(var b=null;a&&(!a.getAttribute||!(b=a.getAttribute(\"leid\")));)a=a.parentNode;return b};google.https=function(){return\"https:\"==window.location.protocol};google.ml=function(){return null};google.time=function(){return(new Date).getTime()};google.log=function(a,b,e,c,g){if(a=google.logUrl(a,b,e,c,g)){b=new Image;var d=google.lc,f=google.li;d[f]=b;b.onerror=b.onload=b.onabort=function(){delete d[f]};google.vel&&google.vel.lu&&google.vel.lu(a);b.src=a;google.li=f+1}};google.logUrl=function(a,b,e,c,g){var d=\"\",f=google.ls||\"\";e||-1!=b.search(\"&ei=\")||(d=\"&ei=\"+google.getEI(c),-1==b.search(\"&lei=\")&&(c=google.getLEI(c))&&(d+=\"&lei=\"+c));c=\"\";!e&&google.cshid&&-1==b.search(\"&cshid=\")&&\"slh\"!=a&&(c=\"&cshid=\"+google.cshid);a=e||\"/\"+(g||\"gen_204\")+\"?atyp=i&ct=\"+a+\"&cad=\"+b+d+f+\"&zx=\"+google.time()+c;/^http:/i.test(a)&&google.https()&&(google.ml(Error(\"a\"),!1,{src:a,glmm:1}),a=\"\");return a};}).call(this);(function(){google.y={};google.x=function(a,b){if(a)var c=a.id;else{do c=Math.random();while(google.y[c])}google.y[c]=[a,b];return!1};google.lm=[];google.plm=function(a){google.lm.push.apply(google.lm,a)};google.lq=[];google.load=function(a,b,c){google.lq.push([[a],b,c])};google.loadAll=function(a,b){google.lq.push([a,b])};}).call(this);google.f={};var a=window.location,b=a.href.indexOf(\"#\");if(0<=b){var c=a.href.substring(b+1);/(^|&)q=/.test(c)&&-1==c.indexOf(\"#\")&&a.replace(\"/search?\"+c.replace(/(^|&)fp=[^&]*/g,\"\")+\"&cad=h\")};</script><style>#gbar,#guser{font-size:13px;padding-top:1px !important;}#gbar{height:22px}#guser{padding-bottom:7px !important;text-align:right}.gbh,.gbd{border-top:1px solid #c9d7f1;font-size:1px}.gbh{height:0;position:absolute;top:24px;width:100%}@media all{.gb1{height:22px;margin-right:.5em;vertical-align:top}#gbar{float:left}}a.gb1,a.gb4{text-decoration:underline !important}a.gb1,a.gb4{color:#00c !important}.gbi .gb4{color:#dd8e27 !important}.gbf .gb4{color:#900 !important}\\n</style><style>body,td,a,p,.h{font-family:arial,sans-serif}body{margin:0;overflow-y:scroll}#gog{padding:3px 8px 0}td{line-height:.8em}.gac_m td{line-height:17px}form{margin-bottom:20px}.h{color:#36c}.q{color:#00c}.ts td{padding:0}.ts{border-collapse:collapse}em{font-weight:bold;font-style:normal}.lst{height:25px;width:496px}.gsfi,.lst{font:18px arial,sans-serif}.gsfs{font:17px arial,sans-serif}.ds{display:inline-box;display:inline-block;margin:3px 0 4px;margin-left:4px}input{font-family:inherit}a.gb1,a.gb2,a.gb3,a.gb4{color:#11c !important}body{background:#fff;color:black}a{color:#11c;text-decoration:none}a:hover,a:active{text-decoration:underline}.fl a{color:#36c}a:visited{color:#551a8b}a.gb1,a.gb4{text-decoration:underline}a.gb3:hover{text-decoration:none}#ghead a.gb2:hover{color:#fff !important}.sblc{padding-top:5px}.sblc a{display:block;margin:2px 0;margin-left:13px;font-size:11px}.lsbb{background:#eee;border:solid 1px;border-color:#ccc #999 #999 #ccc;height:30px}.lsbb{display:block}.ftl,#fll a{display:inline-block;margin:0 12px}.lsb{background:url(/images/nav_logo229.png) 0 -261px repeat-x;border:none;color:#000;cursor:pointer;height:30px;margin:0;outline:0;font:15px arial,sans-serif;vertical-align:top}.lsb:active{background:#ccc}.lst:focus{outline:none}.tiah{width:458px}</style><script nonce=\"APimhIyUsfy7XszJTRn6Ew==\"></script></head><body bgcolor=\"#fff\"><script nonce=\"APimhIyUsfy7XszJTRn6Ew==\">(function(){var src=\\'/images/nav_logo229.png\\';var iesg=false;document.body.onload = function(){window.n && window.n();if (document.images){new Image().src=src;}\\nif (!iesg){document.f&&document.f.q.focus();document.gbqf&&document.gbqf.q.focus();}\\n}\\n})();</script><div id=\"mngb\"> <div id=gbar><nobr><b class=gb1>Søgning</b> <a class=gb1 href=\"https://www.google.dk/imghp?hl=da&tab=wi\">Billeder</a> <a class=gb1 href=\"https://maps.google.dk/maps?hl=da&tab=wl\">Maps</a> <a class=gb1 href=\"https://play.google.com/?hl=da&tab=w8\">Play</a> <a class=gb1 href=\"https://www.youtube.com/?gl=DK&tab=w1\">YouTube</a> <a class=gb1 href=\"https://mail.google.com/mail/?tab=wm\">Gmail</a> <a class=gb1 href=\"https://drive.google.com/?tab=wo\">Drev</a> <a class=gb1 href=\"https://www.google.com/calendar?tab=wc\">Kalender</a> <a class=gb1 style=\"text-decoration:none\" href=\"https://www.google.dk/intl/da/about/products?tab=wh\"><u>Mere</u> &raquo;</a></nobr></div><div id=guser width=100%><nobr><span id=gbn class=gbi></span><span id=gbf class=gbf></span><span id=gbe></span><a href=\"http://www.google.dk/history/optout?hl=da\" class=gb4>Webhistorik</a> | <a  href=\"/preferences?hl=da\" class=gb4>Indstillinger</a> | <a target=_top id=gb_70 href=\"https://accounts.google.com/ServiceLogin?hl=da&passive=true&continue=https://www.google.com/\" class=gb4>Log ind</a></nobr></div><div class=gbh style=left:0></div><div class=gbh style=right:0></div> </div><center><br clear=\"all\" id=\"lgpd\"><div id=\"lga\"><a href=\"/search?ie=UTF-8&amp;q=Louisa+Aldrich-Blake&amp;oi=ddle&amp;ct=119274380&amp;hl=da&amp;kgmid=/m/02q3tp9&amp;sa=X&amp;ved=0ahUKEwiri6Lm-YTkAhVF_CoKHdbsBzUQPQgD\"><img alt=\"Louisa Aldrich-Blakes 154 års fødselsdag\" border=\"0\" height=\"214\" src=\"/logos/doodles/2019/louisa-aldrich-blakes-154th-birthday-4903591901921280-l.png\" title=\"Louisa Aldrich-Blakes 154 års fødselsdag\" width=\"500\" id=\"hplogo\"><br></a><br></div><form action=\"/search\" name=\"f\"><table cellpadding=\"0\" cellspacing=\"0\"><tr valign=\"top\"><td width=\"25%\">&nbsp;</td><td align=\"center\" nowrap=\"\"><input name=\"ie\" value=\"ISO-8859-1\" type=\"hidden\"><input value=\"da\" name=\"hl\" type=\"hidden\"><input name=\"source\" type=\"hidden\" value=\"hp\"><input name=\"biw\" type=\"hidden\"><input name=\"bih\" type=\"hidden\"><div class=\"ds\" style=\"height:32px;margin:4px 0\"><div style=\"position:relative;zoom:1\"><input style=\"color:#000;margin:0;padding:5px 8px 0 6px;vertical-align:top;padding-right:38px\" autocomplete=\"off\" class=\"lst tiah\" value=\"\" title=\"Google-søgning\" maxlength=\"2048\" name=\"q\" size=\"57\"><img src=\"/textinputassistant/tia.png\" style=\"position:absolute;cursor:pointer;right:5px;top:4px;z-index:300\" data-script-url=\"/textinputassistant/11/da_tia.js\" alt=\"\" height=\"23\" onclick=\"var s=document.createElement(\\'script\\');s.src=this.getAttribute(\\'data-script-url\\');(document.getElementById(\\'xjsc\\')||document.body).appendChild(s);\" width=\"27\"></div></div><br style=\"line-height:0\"><span class=\"ds\"><span class=\"lsbb\"><input class=\"lsb\" value=\"Google-søgning\" name=\"btnG\" type=\"submit\"></span></span><span class=\"ds\"><span class=\"lsbb\"><input class=\"lsb\" value=\"Jeg prøver lykken\" name=\"btnI\" onclick=\"if(this.form.q.value)this.checked=1; else top.location=\\'/doodles/\\'\" type=\"submit\"></span></span></td><td class=\"fl sblc\" align=\"left\" nowrap=\"\" width=\"25%\"><a href=\"/advanced_search?hl=da&amp;authuser=0\">Avanceret søgning</a><a href=\"/language_tools?hl=da&amp;authuser=0\">Sprogværktøjer</a></td></tr></table><input id=\"gbv\" name=\"gbv\" type=\"hidden\" value=\"1\"><script nonce=\"APimhIyUsfy7XszJTRn6Ew==\">(function(){var a,b=\"1\";if(document&&document.getElementById)if(\"undefined\"!=typeof XMLHttpRequest)b=\"2\";else if(\"undefined\"!=typeof ActiveXObject){var c,d,e=[\"MSXML2.XMLHTTP.6.0\",\"MSXML2.XMLHTTP.3.0\",\"MSXML2.XMLHTTP\",\"Microsoft.XMLHTTP\"];for(c=0;d=e[c++];)try{new ActiveXObject(d),b=\"2\"}catch(h){}}a=b;if(\"2\"==a&&-1==location.search.indexOf(\"&gbv=2\")){var f=google.gbvu,g=document.getElementById(\"gbv\");g&&(g.value=a);f&&window.setTimeout(function(){location.href=f},0)};}).call(this);</script></form><div id=\"gac_scont\"></div><div style=\"font-size:83%;min-height:3.5em\"><br><div id=\"gws-output-pages-elements-homepage_additional_languages__als\"><style>#gws-output-pages-elements-homepage_additional_languages__als{font-size:small;margin-bottom:24px}#SIvCob{display:inline-block;line-height:28px;}#SIvCob a{padding:0 3px;}.H6sW5{display:inline-block;margin:0 2px;white-space:nowrap}.z4hgWe{display:inline-block;margin:0 2px}</style><div id=\"SIvCob\">Google er tilgængelig på:  <a href=\"https://www.google.com/setprefs?sig=0_CkokI4QiQZxcOAH09WMBc7k67uo%3D&amp;hl=fo&amp;source=homepage&amp;sa=X&amp;ved=0ahUKEwiri6Lm-YTkAhVF_CoKHdbsBzUQ2ZgBCAU\">Føroyskt</a>  </div></div></div><span id=\"footer\"><div style=\"font-size:10pt\"><div style=\"margin:19px auto;text-align:center\" id=\"fll\"><a href=\"/intl/da/ads/\">Annoncér med Google</a><a href=\"http://www.google.dk/intl/da/services/\">Virksomhedsløsninger</a><a href=\"/intl/da/about.html\">Alt om Google</a><a href=\"https://www.google.com/setprefdomain?prefdom=DK&amp;prev=https://www.google.dk/&amp;sig=K_pD_B3zdgasdVjebzZ-Sy5MxGIRc%3D\">Google.dk</a></div></div><p style=\"color:#767676;font-size:8pt\">&copy; 2019 - <a href=\"/intl/da/policies/privacy/\">Privatliv</a> - <a href=\"/intl/da/policies/terms/\">Vilkår</a></p></span></center><script nonce=\"APimhIyUsfy7XszJTRn6Ew==\">(function(){window.google.cdo={height:0,width:0};(function(){var a=window.innerWidth,b=window.innerHeight;if(!a||!b){var c=window.document,d=\"CSS1Compat\"==c.compatMode?c.documentElement:c.body;a=d.clientWidth;b=d.clientHeight}a&&b&&(a!=google.cdo.width||b!=google.cdo.height)&&google.log(\"\",\"\",\"/client_204?&atyp=i&biw=\"+a+\"&bih=\"+b+\"&ei=\"+google.kEI);}).call(this);})();(function(){var u=\\'/xjs/_/js/k\\\\x3dxjs.hp.en.3XKde6U3F_E.O/m\\\\x3dsb_he,d/am\\\\x3dABbUBA/d\\\\x3d1/rs\\\\x3dACT90oHt9X-Rgf7Gz8qpHDO3yg4xHrSv3Q\\';setTimeout(function(){var a=document.createElement(\"script\");a.src=u;google.timers&&google.timers.load&&google.tick&&google.tick(\"load\",\"xjsls\");document.body.appendChild(a)},0);})();(function(){window.google.xjsu=\\'/xjs/_/js/k\\\\x3dxjs.hp.en.3XKde6U3F_E.O/m\\\\x3dsb_he,d/am\\\\x3dABbUBA/d\\\\x3d1/rs\\\\x3dACT90oHt9X-Rgf7Gz8qpHDO3yg4xHrSv3Q\\';})();function _DumpException(e){throw e;}\\nfunction _F_installCss(c){}\\n(function(){google.spjs=false;google.snet=true;google.em=[];google.emw=false;})();google.sm=1;(function(){var pmc=\\'{\\\\x22Qnk92g\\\\x22:{},\\\\x22RWGcrA\\\\x22:{},\\\\x22U5B21g\\\\x22:{},\\\\x22YFCs/g\\\\x22:{},\\\\x22ZI/YVQ\\\\x22:{},\\\\x22d\\\\x22:{},\\\\x22mVopag\\\\x22:{},\\\\x22sb_he\\\\x22:{\\\\x22agen\\\\x22:true,\\\\x22cgen\\\\x22:true,\\\\x22client\\\\x22:\\\\x22heirloom-hp\\\\x22,\\\\x22dh\\\\x22:true,\\\\x22dhqt\\\\x22:true,\\\\x22ds\\\\x22:\\\\x22\\\\x22,\\\\x22ffql\\\\x22:\\\\x22en\\\\x22,\\\\x22fl\\\\x22:true,\\\\x22host\\\\x22:\\\\x22google.com\\\\x22,\\\\x22isbh\\\\x22:28,\\\\x22jsonp\\\\x22:true,\\\\x22msgs\\\\x22:{\\\\x22cibl\\\\x22:\\\\x22Ryd søgning\\\\x22,\\\\x22dym\\\\x22:\\\\x22Mente du:\\\\x22,\\\\x22lcky\\\\x22:\\\\x22Jeg prøver lykken\\\\x22,\\\\x22lml\\\\x22:\\\\x22Få flere oplysninger\\\\x22,\\\\x22oskt\\\\x22:\\\\x22Inputværktøjer\\\\x22,\\\\x22psrc\\\\x22:\\\\x22Denne søgning blev fjernet fra din \\\\\\\\u003Ca href\\\\x3d\\\\\\\\\\\\x22/history\\\\\\\\\\\\x22\\\\\\\\u003EWebhistorik\\\\\\\\u003C/a\\\\\\\\u003E\\\\x22,\\\\x22psrl\\\\x22:\\\\x22Fjern\\\\x22,\\\\x22sbit\\\\x22:\\\\x22Søg efter billede\\\\x22,\\\\x22srch\\\\x22:\\\\x22Google-søgning\\\\x22},\\\\x22ovr\\\\x22:{},\\\\x22pq\\\\x22:\\\\x22\\\\x22,\\\\x22refpd\\\\x22:true,\\\\x22rfs\\\\x22:[],\\\\x22sbpl\\\\x22:24,\\\\x22sbpr\\\\x22:24,\\\\x22scd\\\\x22:10,\\\\x22sce\\\\x22:5,\\\\x22stok\\\\x22:\\\\x22_VfjLA-BZGHplHwd9VyfqzhINOY\\\\x22,\\\\x22uhde\\\\x22:false}}\\';google.pmc=JSON.parse(pmc);})();</script>        </body></html>'"
      ]
     },
     "execution_count": 12,
     "metadata": {},
     "output_type": "execute_result"
    }
   ],
   "source": [
    "response.text\n"
   ]
  },
  {
   "cell_type": "markdown",
   "metadata": {
    "slideshow": {
     "slide_type": "subslide"
    }
   },
   "source": [
    "**Now** we are ready to get some data "
   ]
  },
  {
   "cell_type": "markdown",
   "metadata": {
    "slideshow": {
     "slide_type": "slide"
    }
   },
   "source": [
    "## **3 basic examples**\n",
    "![](http://www.cluttercoach.net/wp/wp-content/uploads/2012/01/clapper-board-dreamstime_xs_22607452-300x300.jpg)"
   ]
  },
  {
   "cell_type": "markdown",
   "metadata": {
    "slideshow": {
     "slide_type": "slide"
    }
   },
   "source": [
    "### ** collecting data on display **\n",
    "** static webpage example **\n",
    "\n",
    "visit the following website (https://www.basketball-reference.com/leagues/NBA_2018.html).\n",
    "\n",
    "The page displays tables of data that we want to collect.\n",
    "Tomorrow you will see how to parse such a table, but for now I want to show you a neat function that has already implemented this."
   ]
  },
  {
   "cell_type": "code",
   "execution_count": 13,
   "metadata": {
    "slideshow": {
     "slide_type": "subslide"
    }
   },
   "outputs": [],
   "source": [
    "url = 'https://www.basketball-reference.com/leagues/NBA_2018.html' # link to the website\n",
    "import pandas as pd \n",
    "dfs = pd.read_html(url) # parses all tables found on the page."
   ]
  },
  {
   "cell_type": "code",
   "execution_count": 14,
   "metadata": {
    "slideshow": {
     "slide_type": "subslide"
    }
   },
   "outputs": [],
   "source": [
    "EC_df = pd.read_html(url,attrs={'id':'confs_standings_E'}) # only parse the tables with attribute confs_standings_E"
   ]
  },
  {
   "cell_type": "markdown",
   "metadata": {
    "slideshow": {
     "slide_type": "slide"
    }
   },
   "source": [
    "### ** collecting data behind the display**\n",
    "** dynamic webpage example **\n",
    "\n",
    "Websites that continually show new data (jobsites, real-estate pages, social media), are as a rule dynamic webpages, where the whole page is not send as raw HTML. Instead a set of instructions (JavaScripts) on how to build it is send. Within those instructions we can often find direct calls to the data displayed.\n",
    "\n",
    "Click on the following link: https://trends.google.com/trends/explore?date=all&geo=DK&q=H%C3%A5ndbold,Fodbold\n",
    "\n",
    "Here we want to collect the data behind the graph. Open your browsers **>Network Monitor<** tool and search for the request that contains the data.\n"
   ]
  },
  {
   "cell_type": "code",
   "execution_count": 15,
   "metadata": {
    "slideshow": {
     "slide_type": "subslide"
    }
   },
   "outputs": [
    {
     "data": {
      "text/plain": [
       "False"
      ]
     },
     "execution_count": 15,
     "metadata": {},
     "output_type": "execute_result"
    }
   ],
   "source": [
    "import requests\n",
    "url = 'https://trends.google.com/trends/api/widgetdata/multiline?hl=da&tz=-120&req={\"time\":\"2004-01-01+2018-08-07\",\"resolution\":\"MONTH\",\"locale\":\"da\",\"comparisonItem\":[{\"geo\":{\"country\":\"DK\"},\"complexKeywordsRestriction\":{\"keyword\":[{\"type\":\"BROAD\",\"value\":\"Håndbold\"}]}},{\"geo\":{\"country\":\"DK\"},\"complexKeywordsRestriction\":{\"keyword\":[{\"type\":\"BROAD\",\"value\":\"Fodbold\"}]}}],\"requestOptions\":{\"property\":\"\",\"backend\":\"IZG\",\"category\":0}}&token=APP6_UEAAAAAW2s2Bpioky7lfJMWt4LDyhLInpC0jFzC&tz=-120'\n",
    "response,call_id = connector.get(url,'google_trends')\n",
    "response.ok"
   ]
  },
  {
   "cell_type": "markdown",
   "metadata": {
    "slideshow": {
     "slide_type": "subslide"
    }
   },
   "source": [
    "----------\n",
    "now we unpack and plot the data \n",
    "\n",
    "----------"
   ]
  },
  {
   "cell_type": "code",
   "execution_count": 16,
   "metadata": {
    "slideshow": {
     "slide_type": "subslide"
    }
   },
   "outputs": [
    {
     "ename": "JSONDecodeError",
     "evalue": "Expecting value: line 1 column 1 (char 0)",
     "output_type": "error",
     "traceback": [
      "\u001b[0;31m---------------------------------------------------------------------------\u001b[0m",
      "\u001b[0;31mJSONDecodeError\u001b[0m                           Traceback (most recent call last)",
      "\u001b[0;32m<ipython-input-16-64e02aa47748>\u001b[0m in \u001b[0;36m<module>\u001b[0;34m\u001b[0m\n\u001b[1;32m      4\u001b[0m \u001b[0mget_ipython\u001b[0m\u001b[0;34m(\u001b[0m\u001b[0;34m)\u001b[0m\u001b[0;34m.\u001b[0m\u001b[0mrun_line_magic\u001b[0m\u001b[0;34m(\u001b[0m\u001b[0;34m'matplotlib'\u001b[0m\u001b[0;34m,\u001b[0m \u001b[0;34m'inline'\u001b[0m\u001b[0;34m)\u001b[0m\u001b[0;34m\u001b[0m\u001b[0;34m\u001b[0m\u001b[0m\n\u001b[1;32m      5\u001b[0m \u001b[0mplt\u001b[0m\u001b[0;34m.\u001b[0m\u001b[0mstyle\u001b[0m\u001b[0;34m.\u001b[0m\u001b[0muse\u001b[0m\u001b[0;34m(\u001b[0m\u001b[0;34m'ggplot'\u001b[0m\u001b[0;34m)\u001b[0m\u001b[0;34m\u001b[0m\u001b[0;34m\u001b[0m\u001b[0m\n\u001b[0;32m----> 6\u001b[0;31m \u001b[0mdata\u001b[0m \u001b[0;34m=\u001b[0m \u001b[0mjson\u001b[0m\u001b[0;34m.\u001b[0m\u001b[0mloads\u001b[0m\u001b[0;34m(\u001b[0m\u001b[0mresponse\u001b[0m\u001b[0;34m.\u001b[0m\u001b[0mtext\u001b[0m\u001b[0;34m.\u001b[0m\u001b[0msplit\u001b[0m\u001b[0;34m(\u001b[0m\u001b[0;34m','\u001b[0m\u001b[0;34m,\u001b[0m\u001b[0;36m1\u001b[0m\u001b[0;34m)\u001b[0m\u001b[0;34m[\u001b[0m\u001b[0;36m1\u001b[0m\u001b[0;34m]\u001b[0m\u001b[0;34m.\u001b[0m\u001b[0mstrip\u001b[0m\u001b[0;34m(\u001b[0m\u001b[0;34m)\u001b[0m\u001b[0;34m)\u001b[0m\u001b[0;34m\u001b[0m\u001b[0;34m\u001b[0m\u001b[0m\n\u001b[0m\u001b[1;32m      7\u001b[0m \u001b[0mt\u001b[0m\u001b[0;34m,\u001b[0m\u001b[0my\u001b[0m\u001b[0;34m,\u001b[0m\u001b[0my1\u001b[0m \u001b[0;34m=\u001b[0m \u001b[0mzip\u001b[0m\u001b[0;34m(\u001b[0m\u001b[0;34m*\u001b[0m\u001b[0;34m[\u001b[0m\u001b[0;34m(\u001b[0m\u001b[0mi\u001b[0m\u001b[0;34m[\u001b[0m\u001b[0;34m'time'\u001b[0m\u001b[0;34m]\u001b[0m\u001b[0;34m,\u001b[0m\u001b[0mi\u001b[0m\u001b[0;34m[\u001b[0m\u001b[0;34m'value'\u001b[0m\u001b[0;34m]\u001b[0m\u001b[0;34m[\u001b[0m\u001b[0;36m0\u001b[0m\u001b[0;34m]\u001b[0m\u001b[0;34m,\u001b[0m\u001b[0mi\u001b[0m\u001b[0;34m[\u001b[0m\u001b[0;34m'value'\u001b[0m\u001b[0;34m]\u001b[0m\u001b[0;34m[\u001b[0m\u001b[0;36m1\u001b[0m\u001b[0;34m]\u001b[0m\u001b[0;34m)\u001b[0m \u001b[0;32mfor\u001b[0m \u001b[0mi\u001b[0m \u001b[0;32min\u001b[0m \u001b[0mdata\u001b[0m\u001b[0;34m[\u001b[0m\u001b[0;34m'default'\u001b[0m\u001b[0;34m]\u001b[0m\u001b[0;34m[\u001b[0m\u001b[0;34m'timelineData'\u001b[0m\u001b[0;34m]\u001b[0m\u001b[0;34m]\u001b[0m\u001b[0;34m)\u001b[0m\u001b[0;34m\u001b[0m\u001b[0;34m\u001b[0m\u001b[0m\n\u001b[1;32m      8\u001b[0m \u001b[0mt\u001b[0m \u001b[0;34m=\u001b[0m \u001b[0;34m[\u001b[0m\u001b[0mdatetime\u001b[0m\u001b[0;34m.\u001b[0m\u001b[0mdatetime\u001b[0m\u001b[0;34m.\u001b[0m\u001b[0mfromtimestamp\u001b[0m\u001b[0;34m(\u001b[0m\u001b[0mint\u001b[0m\u001b[0;34m(\u001b[0m\u001b[0mi\u001b[0m\u001b[0;34m)\u001b[0m\u001b[0;34m)\u001b[0m \u001b[0;32mfor\u001b[0m \u001b[0mi\u001b[0m \u001b[0;32min\u001b[0m \u001b[0mt\u001b[0m\u001b[0;34m]\u001b[0m\u001b[0;34m\u001b[0m\u001b[0;34m\u001b[0m\u001b[0m\n",
      "\u001b[0;32m~/bin/anaconda3/lib/python3.7/json/__init__.py\u001b[0m in \u001b[0;36mloads\u001b[0;34m(s, encoding, cls, object_hook, parse_float, parse_int, parse_constant, object_pairs_hook, **kw)\u001b[0m\n\u001b[1;32m    346\u001b[0m             \u001b[0mparse_int\u001b[0m \u001b[0;32mis\u001b[0m \u001b[0;32mNone\u001b[0m \u001b[0;32mand\u001b[0m \u001b[0mparse_float\u001b[0m \u001b[0;32mis\u001b[0m \u001b[0;32mNone\u001b[0m \u001b[0;32mand\u001b[0m\u001b[0;34m\u001b[0m\u001b[0;34m\u001b[0m\u001b[0m\n\u001b[1;32m    347\u001b[0m             parse_constant is None and object_pairs_hook is None and not kw):\n\u001b[0;32m--> 348\u001b[0;31m         \u001b[0;32mreturn\u001b[0m \u001b[0m_default_decoder\u001b[0m\u001b[0;34m.\u001b[0m\u001b[0mdecode\u001b[0m\u001b[0;34m(\u001b[0m\u001b[0ms\u001b[0m\u001b[0;34m)\u001b[0m\u001b[0;34m\u001b[0m\u001b[0;34m\u001b[0m\u001b[0m\n\u001b[0m\u001b[1;32m    349\u001b[0m     \u001b[0;32mif\u001b[0m \u001b[0mcls\u001b[0m \u001b[0;32mis\u001b[0m \u001b[0;32mNone\u001b[0m\u001b[0;34m:\u001b[0m\u001b[0;34m\u001b[0m\u001b[0;34m\u001b[0m\u001b[0m\n\u001b[1;32m    350\u001b[0m         \u001b[0mcls\u001b[0m \u001b[0;34m=\u001b[0m \u001b[0mJSONDecoder\u001b[0m\u001b[0;34m\u001b[0m\u001b[0;34m\u001b[0m\u001b[0m\n",
      "\u001b[0;32m~/bin/anaconda3/lib/python3.7/json/decoder.py\u001b[0m in \u001b[0;36mdecode\u001b[0;34m(self, s, _w)\u001b[0m\n\u001b[1;32m    335\u001b[0m \u001b[0;34m\u001b[0m\u001b[0m\n\u001b[1;32m    336\u001b[0m         \"\"\"\n\u001b[0;32m--> 337\u001b[0;31m         \u001b[0mobj\u001b[0m\u001b[0;34m,\u001b[0m \u001b[0mend\u001b[0m \u001b[0;34m=\u001b[0m \u001b[0mself\u001b[0m\u001b[0;34m.\u001b[0m\u001b[0mraw_decode\u001b[0m\u001b[0;34m(\u001b[0m\u001b[0ms\u001b[0m\u001b[0;34m,\u001b[0m \u001b[0midx\u001b[0m\u001b[0;34m=\u001b[0m\u001b[0m_w\u001b[0m\u001b[0;34m(\u001b[0m\u001b[0ms\u001b[0m\u001b[0;34m,\u001b[0m \u001b[0;36m0\u001b[0m\u001b[0;34m)\u001b[0m\u001b[0;34m.\u001b[0m\u001b[0mend\u001b[0m\u001b[0;34m(\u001b[0m\u001b[0;34m)\u001b[0m\u001b[0;34m)\u001b[0m\u001b[0;34m\u001b[0m\u001b[0;34m\u001b[0m\u001b[0m\n\u001b[0m\u001b[1;32m    338\u001b[0m         \u001b[0mend\u001b[0m \u001b[0;34m=\u001b[0m \u001b[0m_w\u001b[0m\u001b[0;34m(\u001b[0m\u001b[0ms\u001b[0m\u001b[0;34m,\u001b[0m \u001b[0mend\u001b[0m\u001b[0;34m)\u001b[0m\u001b[0;34m.\u001b[0m\u001b[0mend\u001b[0m\u001b[0;34m(\u001b[0m\u001b[0;34m)\u001b[0m\u001b[0;34m\u001b[0m\u001b[0;34m\u001b[0m\u001b[0m\n\u001b[1;32m    339\u001b[0m         \u001b[0;32mif\u001b[0m \u001b[0mend\u001b[0m \u001b[0;34m!=\u001b[0m \u001b[0mlen\u001b[0m\u001b[0;34m(\u001b[0m\u001b[0ms\u001b[0m\u001b[0;34m)\u001b[0m\u001b[0;34m:\u001b[0m\u001b[0;34m\u001b[0m\u001b[0;34m\u001b[0m\u001b[0m\n",
      "\u001b[0;32m~/bin/anaconda3/lib/python3.7/json/decoder.py\u001b[0m in \u001b[0;36mraw_decode\u001b[0;34m(self, s, idx)\u001b[0m\n\u001b[1;32m    353\u001b[0m             \u001b[0mobj\u001b[0m\u001b[0;34m,\u001b[0m \u001b[0mend\u001b[0m \u001b[0;34m=\u001b[0m \u001b[0mself\u001b[0m\u001b[0;34m.\u001b[0m\u001b[0mscan_once\u001b[0m\u001b[0;34m(\u001b[0m\u001b[0ms\u001b[0m\u001b[0;34m,\u001b[0m \u001b[0midx\u001b[0m\u001b[0;34m)\u001b[0m\u001b[0;34m\u001b[0m\u001b[0;34m\u001b[0m\u001b[0m\n\u001b[1;32m    354\u001b[0m         \u001b[0;32mexcept\u001b[0m \u001b[0mStopIteration\u001b[0m \u001b[0;32mas\u001b[0m \u001b[0merr\u001b[0m\u001b[0;34m:\u001b[0m\u001b[0;34m\u001b[0m\u001b[0;34m\u001b[0m\u001b[0m\n\u001b[0;32m--> 355\u001b[0;31m             \u001b[0;32mraise\u001b[0m \u001b[0mJSONDecodeError\u001b[0m\u001b[0;34m(\u001b[0m\u001b[0;34m\"Expecting value\"\u001b[0m\u001b[0;34m,\u001b[0m \u001b[0ms\u001b[0m\u001b[0;34m,\u001b[0m \u001b[0merr\u001b[0m\u001b[0;34m.\u001b[0m\u001b[0mvalue\u001b[0m\u001b[0;34m)\u001b[0m \u001b[0;32mfrom\u001b[0m \u001b[0;32mNone\u001b[0m\u001b[0;34m\u001b[0m\u001b[0;34m\u001b[0m\u001b[0m\n\u001b[0m\u001b[1;32m    356\u001b[0m         \u001b[0;32mreturn\u001b[0m \u001b[0mobj\u001b[0m\u001b[0;34m,\u001b[0m \u001b[0mend\u001b[0m\u001b[0;34m\u001b[0m\u001b[0;34m\u001b[0m\u001b[0m\n",
      "\u001b[0;31mJSONDecodeError\u001b[0m: Expecting value: line 1 column 1 (char 0)"
     ]
    }
   ],
   "source": [
    "import json # we use the json module to parse the json string.\n",
    "import matplotlib.pyplot as plt\n",
    "import datetime # datetime module is used to handle time information in python\n",
    "%matplotlib inline\n",
    "plt.style.use('ggplot')\n",
    "data = json.loads(response.text.split(',',1)[1].strip())\n",
    "t,y,y1 = zip(*[(i['time'],i['value'][0],i['value'][1]) for i in data['default']['timelineData']])\n",
    "t = [datetime.datetime.fromtimestamp(int(i)) for i in t]\n",
    "plt.figure(figsize=(15,5))\n",
    "plt.plot(t,y,label='Handball')\n",
    "plt.plot(t,y1,label='Football')\n",
    "plt.legend()\n",
    "plt.title('Danish Search Activity')\n",
    "plt.ylabel('google trends')"
   ]
  },
  {
   "cell_type": "markdown",
   "metadata": {
    "slideshow": {
     "slide_type": "slide"
    }
   },
   "source": [
    "** In-class exercise 1** \n",
    "* Click on the following link (https://coinmarketcap.com/currencies/bitcoin/#charts)\n",
    "* open the **>Network Monitor<** of your browser (refresh the page) and figure which request is collecting the data behind the chart. \n",
    "* Collect the data using requests.\n",
    "* Plot the \"price_usd\" data against time. Data comes as a nested dictionary. \n",
    "    * First you need to unpack this.\n",
    "    * Each datapoint is a [unix timestamp](https://en.wikipedia.org/wiki/Unix_time) in miliseconds and a price. \n",
    "    * To plot against time in python, you need to convert it to a datetime object using the ``datetime`` module. \n",
    "\n",
    "``t = datetime.datetime.fromtimestamp(unixtime_in_seconds)``"
   ]
  },
  {
   "cell_type": "code",
   "execution_count": 53,
   "metadata": {
    "collapsed": true,
    "slideshow": {
     "slide_type": "subslide"
    }
   },
   "outputs": [],
   "source": [
    "# solution goes here"
   ]
  },
  {
   "cell_type": "markdown",
   "metadata": {
    "slideshow": {
     "slide_type": "subslide"
    }
   },
   "source": [
    "## Navigating websites to collect links\n",
    "Now I will show you a few common ways of finding the links to the pages you want to scrape."
   ]
  },
  {
   "cell_type": "markdown",
   "metadata": {
    "slideshow": {
     "slide_type": "slide"
    }
   },
   "source": [
    "### Building URLS using a recognizable pattern.\n",
    "A nice trick is to understand how urls are constructed to communicate with a server. \n",
    "\n",
    "Lets look at how [jobindex.dk](https://www.jobindex.dk/) does it. We simply click around and take note at how the addressline changes.\n",
    "\n",
    "This will allow us to navigate the page, without having to parse information from the html or click any buttons.\n",
    "\n",
    "* / is like folders on your computer.\n",
    "* ? entails the start of a query with parameters \n",
    "* = defines a variable: e.g. page=1000 or offset = 100 or showNumber=20\n",
    "* & separates different parameters.\n",
    "* \\+ is html for whitespace"
   ]
  },
  {
   "cell_type": "markdown",
   "metadata": {
    "slideshow": {
     "slide_type": "slide"
    }
   },
   "source": [
    "### ** collecting unstructured data **\n",
    "Step 1. **Mapping** - Finding the pages to collect.\n",
    "\n",
    "Often times we need to crawl a set of pages, from a website, this means finding all the links we need to collect.\n",
    "Here is a simple example of doing that.\n",
    "\n",
    "Say we wanted to investigate the difference in how many hours of lectures and exercises the students on different universities and different study programs gets - if the ressources to exercises have been cut over the years, and whether this might affect dropout. To answer this question we decide to scrape the Course description of the university webpages. \n",
    "\n",
    "> First we look at the courses on UCPH: \n",
    "* Click on this link: https://kurser.ku.dk\n",
    "* Navigate to a page where links to courses are displayed. \n",
    "* Figure out a way to fetch those links.\n",
    "Here we look for the **\"a\"**-tag and the **\"href\"** attribute. \n",
    "\n",
    "Use your browsers **>Inspector<** to see the raw html that we want to parse.\n"
   ]
  },
  {
   "cell_type": "code",
   "execution_count": 22,
   "metadata": {
    "slideshow": {
     "slide_type": "subslide"
    }
   },
   "outputs": [],
   "source": [
    "# here I have found a list of courses at Anthropology UCPH\n",
    "url = 'https://kurser.ku.dk/archive/2016-2017/STUDYBOARD_0010'\n",
    "response, _ = connector.get(url,'course_mapping')"
   ]
  },
  {
   "cell_type": "code",
   "execution_count": 23,
   "metadata": {
    "slideshow": {
     "slide_type": "subslide"
    }
   },
   "outputs": [
    {
     "data": {
      "text/plain": [
       "'<!DOCTYPE html>\\r\\n<html lang=\"da\">\\r\\n<head>\\r\\n    <meta http-equiv=\"Content-Type\" content=\"text/html; charset=UTF-8\">\\r\\n    <meta http-equiv=\"X-UA-Compatible\" content=\"IE=edge\">\\r\\n    <meta name=\"viewport\" content=\"width=device-width, initial-scale=1\">\\r\\n    <meta name=\"description\" content=\"Københavns Universitet er med cirka 40.000 studerende og 9.000 medarbejdere en af Nordens største forsknings- og uddannelsesinstitutioner.\">\\r\\n    <meta name=\"author\" content=\"Københavns Universitet\">\\r\\n\\r\\n    <title>   \\r\\n    K&#248;benhavns Universitet - Tidligere kurser\\r\\n</title>\\r\\n\\r\\n    <link rel=\"apple-touch-icon\" href=\"https://bootstrap.secure.ku.dk/img/apple-touch-icon.png\">\\r\\n    <link rel=\"icon\" href=\"https://bootstrap.secure.ku.dk/img/favicon_fa.ico\">\\r\\n    <link href=\"https://bootstrap.secure.ku.dk/css/bootstrap.min.css\" rel=\"stylesheet\">\\r\\n    <link href=\"https://bootstrap.secure.ku.dk/css/multiple-select.min.css\" rel=\"stylesheet\">\\r\\n    <link href=\"https://bootstrap.secure.ku.dk/css/datatables.min.css\" rel=\"stylesheet\">\\r\\n    <link href=\"https://bootstrap.secure.ku.dk/css/kurser.ku.dk/kurser.css\" rel=\"stylesheet\">\\r\\n    <link href=\"https://bootstrap.secure.ku.dk/css/jquery.mmenu.css\" rel=\"stylesheet\">\\r\\n\\r\\n    <link href=\"/Content/styles.min.css?v=1\" rel=\"stylesheet\" type=\"text/css\"/>\\r\\n    <link href=\"/Content/print.min.css?v=2\" rel=\"stylesheet\" type=\"text/css\"/>\\r\\n\\r\\n    <script src=\"https://ajax.googleapis.com/ajax/libs/jquery/1.12.4/jquery.min.js\"></script>\\r\\n    <script src=\"https://code.jquery.com/jquery-migrate-1.2.1.js\"></script>\\r\\n    <script src=\"/Scripts/jquery.cookie.min.js\"></script>\\r\\n\\r\\n    <script src=\"https://bootstrap.secure.ku.dk/scripts/multiple-select.min.js\"></script>\\r\\n    <script src=\"https://bootstrap.secure.ku.dk/scripts/datatables.min.js\"></script>\\r\\n    <script src=\"/Scripts/numeric-comma.js\"></script>\\r\\n    \\r\\n\\r\\n    <script type=\"text/javascript\">\\r\\n        function setLanguage(language) {\\r\\n            $.cookie(\\'{KUCoursesPublicLanguage}\\', language, { expires: 3650 });\\r\\n            $.ajax(\"/unsetlanguage\",\\r\\n            {\\r\\n                type: \"POST\"\\r\\n            }).done(function () { location.reload(); });\\r\\n        }\\r\\n\\r\\n        $(function() {\\r\\n            var c = $.cookie(\\'accept_cookies\\');\\r\\n            if (c != \"yes\") {\\r\\n                $(\".privacy-policy\").slideToggle();\\r\\n                $(\"#accept_cookies\").click(function() {\\r\\n                    $.cookie(\\'accept_cookies\\', \"yes\", { expires: 365 });\\r\\n                    $(\".privacy-policy\").slideToggle();\\r\\n                });\\r\\n            }\\r\\n        });\\r\\n    </script>\\r\\n    <script src=\"/Scripts/ku.js?v=jeps3.0\"></script>\\r\\n    \\r\\n</head>\\r\\n<body>\\r\\n    \\r\\n    <nav id=\"mobileleftmenu\"></nav>\\r\\n    <nav class=\"jumpbox\" aria-label=\"Spring til indhold på Siden\" title=\"Spring til Indhold på Siden\">\\r\\n        <ul class=\"jump\">\\r\\n            <li>\\r\\n                <a href=\"ku-courses/#navbar\" title=\"Spring til sidens globalmenu\" accesskey=\"1\" class=\"btn btn-small btn-gray\"><i class=\"glyphicon glyphicon-menu-hamburger\"></i><span>Emnenavigation</span></a>\\r\\n            </li>\\r\\n            <li>\\r\\n                <a href=\"ku-courses/#searchinput\" title=\"Spring til Søgning\" accesskey=\"2\" class=\"btn btn-small btn-gray\"><i class=\"glyphicon glyphicon-search\"></i><span>Søgning</span></a>\\r\\n            </li>\\r\\n            <li>\\r\\n                <a href=\"ku-courses/#content\" title=\"Spring til Indhold på Siden\" accesskey=\"3\" class=\"btn btn-small btn-gray\"><i class=\"glyphicon glyphicon-list\"></i><span>Indhold</span></a>\\r\\n            </li>\\r\\n            <li>\\r\\n                <a href=\"ku-courses/#footer\" title=\"Spring til footerlinks\" accesskey=\"4\" class=\"btn btn-small btn-gray\"><i class=\"glyphicon glyphicon-list\"></i><span>Footerlinks</span></a>\\r\\n            </li>\\r\\n        </ul>\\r\\n    </nav>\\r\\n    <header>\\r\\n        <div class=\"navbar-inverse navbar-static-top ku-topbar\" role=\"navigation\">\\r\\n            <div class=\"container relative\">\\r\\n                <a class=\"topbar-logo\" href=\"http://www.ku.dk\" title=\"K&#248;benhavns Universitet\"></a>\\r\\n\\r\\n                <div id=\"topbar\" class=\"navbar-collapse collapse\">\\r\\n                    <!-- Global-top-menu START-->\\r\\n                            <ul id=\"topbar_menu\" class=\"nav navbar-nav navbar-right\">\\n    <li><a href=\"https://kalender.ku.dk/\">Kalender</a></li>\\n    <li><a href=\"https://findvej.ku.dk/\">Find vej</a></li>\\n    <li><a href=\"https://www.ku.dk/vejviser/\">Telefonbog</a></li>\\n    <li><a href=\"https://jobportal.ku.dk/\">Job</a></li>\\n    <li><a href=\"https://velkommen.ku.dk/indeks/\">A-Å-index</a></li>\\n    <li><a href=\"https://kunet.ku.dk/\">KUnet</a></li>\\n    <li><a id=\"lang-switch\" class=\"eng\" href=\"javascript:setLanguage(\\'en-GB\\');\">English</a></li>\\n</ul>\\n\\r\\n\\r\\n                    <!-- Global-top-menu END-->\\r\\n                </div>\\r\\n                <a id=\"hamburger\" href=\"#mobileleftmenu\" class=\"navbar-toggle leftmenu-toggle\" role=\"button\">\\r\\n                    <span class=\"icon-bar\"></span>\\r\\n                    <span class=\"icon-bar\"></span>\\r\\n                    <span class=\"icon-bar\"></span>\\r\\n                    <span class=\"sr-only\">Toggle navigation</span>\\r\\n                </a>\\r\\n            </div>\\r\\n        </div>\\r\\n    </header>\\r\\n    <nav id=\"kunav\" class=\"navbar navbar-default navbar-static-top ku-nav\">\\r\\n        <div class=\"container\">\\r\\n            <!-- Global-second-level-menu START-->\\r\\n                    \\r\\n<div id=\"navbar\" class=\"navbar-collapse collapse\">\\r\\n    <ul id=\"navbar_menu\" class=\"nav navbar-nav\">\\r\\n        <li class=\"dropdown\">\\r\\n            <a href=\"https://velkommen.ku.dk/uddannelse_oversigt\" class=\"dropdown-toggle disabled\" data-toggle=\"dropdown\" role=\"button\" aria-haspopup=\"true\" aria-expanded=\"false\">Uddannelser på KU</a>\\r\\n            <ul class=\"dropdown-menu\">\\r\\n                <li><a href=\"https://studier.ku.dk/bachelor\">Bachelor</a></li>\\r\\n                <li><a href=\"https://studier.ku.dk/kandidat\">Kandidat</a></li>\\r\\n                <li><a href=\"https://phd.ku.dk\">Ph.d.</a></li>\\r\\n                <li><a href=\"https://evu.ku.dk\">Efter- og videreuddannelse</a></li>\\r\\n            </ul>\\r\\n        </li>\\r\\n        <li class=\"dropdown\">\\r\\n            <a href=\"https://forskning.ku.dk\" class=\"dropdown-toggle disabled\" data-toggle=\"dropdown\" role=\"button\" aria-haspopup=\"true\" aria-expanded=\"false\">Forskning på KU</a>\\r\\n            <ul class=\"dropdown-menu\">\\r\\n                <li><a href=\"https://forskning.ku.dk/styrkeomraader\">Styrkeområder</a></li>\\r\\n                <li><a href=\"https://forskning.ku.dk/centre\">Forskningscentre</a></li>\\r\\n                <li><a href=\"https://phd.ku.dk\">Ph.d.-programmer</a></li>\\r\\n                <li><a href=\"https://forskning.ku.dk/find-en-forsker\">Find en forsker</a></li>\\r\\n            </ul>\\r\\n        </li>\\r\\n        <li class=\"dropdown\"><a class=\"dropdown-toggle disabled\" data-toggle=\"dropdown\" role=\"button\" aria-haspopup=\"true\" aria-expanded=\"false\" href=\"https://nyheder.ku.dk\">Nyheder</a>\\r\\n        </li>\\r\\n        <li class=\"dropdown\">\\r\\n            <a href=\"https://velkommen.ku.dk/samarbejde\" class=\"dropdown-toggle disabled\" data-toggle=\"dropdown\" role=\"button\" aria-haspopup=\"true\" aria-expanded=\"false\">Samarbejde</a>\\r\\n            <ul class=\"dropdown-menu\">\\r\\n                <li><a href=\"https://velkommen.ku.dk/internationalt-samarbejde\">Internationalt</a></li>\\r\\n                <li><a href=\"https://erhverv.ku.dk\">Erhverv</a></li>\\r\\n                <li><a href=\"https://erhverv.ku.dk/tilskud/erhvervsphd-postdoc\">ErhvervsPhD</a></li>\\r\\n                <li><a href=\"https://fokus.ku.dk\">Skoler og gymnasier</a></li>\\r\\n                <li><a href=\"https://alumni.ku.dk\">Alumni</a></li>\\r\\n            </ul>\\r\\n        </li>\\r\\n        <li class=\"dropdown\">\\r\\n            <a href=\"https://velkommen.ku.dk/besoeg\" class=\"dropdown-toggle disabled\" data-toggle=\"dropdown\" role=\"button\" aria-haspopup=\"true\" aria-expanded=\"false\">Besøg KU</a>\\r\\n            <ul class=\"dropdown-menu\">\\r\\n                <li><a href=\"https://velkommen.ku.dk/besoeg/museer\">Museer</a></li>\\r\\n                <li><a href=\"https://kubis.ku.dk\">Biblioteker</a></li>\\r\\n                <li><a href=\"https://fokus.ku.dk/besoeg\">For skoler og gymnasier</a></li>\\r\\n            </ul>\\r\\n        </li>\\r\\n        <li class=\"dropdown\">\\r\\n            <a href=\"https://velkommen.ku.dk\" class=\"dropdown-toggle disabled\" data-toggle=\"dropdown\" role=\"button\" aria-haspopup=\"true\" aria-expanded=\"false\">Om KU</a>\\r\\n            <ul class=\"dropdown-menu\">\\r\\n                <li><a href=\"https://universitetshistorie.ku.dk\">Historie</a></li>\\r\\n                <li><a href=\"https://velkommen.ku.dk/organisation\">Organisation</a></li>\\r\\n                <li><a href=\"https://velkommen.ku.dk/organisation/ledelse\">Ledelse</a></li>\\r\\n                <li><a href=\"https://velkommen.ku.dk/organisation/fakulteter\">Fakulteter</a></li>\\r\\n                <li><a href=\"https://velkommen.ku.dk/organisation/institutter\">Institutter</a></li>\\r\\n                <li><a href=\"https://velkommen.ku.dk/kontakt\">Kontakt</a></li>\\r\\n            </ul>\\r\\n        </li>\\r\\n    </ul>\\r\\n    <form class=\"navbar-form navbar-right search_form search_reset\" role=\"search\">\\r\\n        <div class=\"input-group\">\\r\\n            <input class=\"form-control\" type=\"text\" id=\"global_search_query\" placeholder=\"Søg...\" aria-label=\"Inputfelt til søgeord\">\\r\\n            <div class=\"input-group-btn btn-global-search\">\\r\\n                <button type=\"button\" id=\"search\" class=\"btn btn-default dropdown-toggle\" data-toggle=\"dropdown\" aria-haspopup=\"true\" aria-expanded=\"false\">Hele KU <span class=\"sr-only\">Vis søgemuligheder</span></button>\\r\\n                <ul id=\"searchfilter\" class=\"dropdown-menu dropdown-menu-right\">\\r\\n                </ul>\\r\\n                <button class=\"btn btn-default\" name=\"sa\" id=\"submit-button\" type=\"submit\" aria-label=\"Søg\"><i class=\"glyphicon glyphicon-search\"></i></button>\\r\\n            </div>\\r\\n        </div>\\r\\n    </form>\\r\\n</div>\\r\\n\\r\\n         \\r\\n            <!-- Global-second-level-menu END-->\\r\\n        </div>\\r\\n    </nav>\\r\\n\\r\\n<main tabindex=\"0\" id=\"content\">\\r\\n    <div class=\"container ku-branding\">\\r\\n        <div class=\"ku-branding-line\">\\r\\n            <div class=\"ku-branding-logo\">\\r\\n                <a title=\"kurser.ku.dk\" href=\"https://kurser.ku.dk\">\\r\\n                    <img class=\"logo-img\" src=\"https://bootstrap.secure.ku.dk/img/faelles.svg\" alt=\"Københavns Universitet\">\\r\\n                </a>\\r\\n            </div>\\r\\n            <div class=\"ku-branding-text\">\\r\\n                <div class=\"ku-branding-text-major\">\\r\\n    Arkiv\\r\\n</div>\\r\\n                <div class=\"ku-branding-text-sub\"></div>\\r\\n            </div>\\r\\n        </div>\\r\\n    </div>\\r\\n\\r\\n    <div class=\"container main-area\" id=\"main-area\">\\r\\n        \\r\\n\\r\\n<div class=\"row\">\\r\\n    <br />\\r\\n    <div class=\"col-xs-12\">\\r\\n            <form class=\"form-horizontal\" method=\"post\">\\r\\n                <div class=\"row\">\\r\\n                    <div class=\"col-xs-12 col-sm-6\">\\r\\n                        <div class=\"form-group\">\\r\\n                            <label class=\"label\" class=\"col-sm-4 control-label\">S&#248;g</label>\\r\\n                            <div class=\"col-sm-8\">\\r\\n                                <input class=\"form-control\" type=\"text\" value=\"\" name=\"searchWords\" />\\r\\n                            </div>\\r\\n                        </div>\\r\\n                        \\r\\n                        <div class=\"form-group\">\\r\\n                            <div class=\"col-xs-12\">\\r\\n                                <input class=\"btn btn-default\" type=\"submit\" value=\"S&#248;g\" />                                \\r\\n                            </div>\\r\\n                        </div>\\r\\n                    </div>\\r\\n                </div>\\r\\n            </form>\\r\\n\\r\\n       \\r\\n        <ul class=\"list-unstyled\">\\r\\n        <li><a href=\"/archive/2016-2017/course/AANA20001U\">AANA20001U - Introduktion til antropologi og etnografisk metode</a></li>\\r\\n        <li><a href=\"/archive/2016-2017/course/AANA20002U\">AANA20002U - Grundbegreber i sundhedsantropologi</a></li>\\r\\n        <li><a href=\"/archive/2016-2017/course/AANB05021U\">AANB05021U - Projektorienteret forl&#248;b</a></li>\\r\\n        <li><a href=\"/archive/2016-2017/course/AANB05023U\">AANB05023U - Introduction to Anthropology</a></li>\\r\\n        <li><a href=\"/archive/2016-2017/course/AANB05024U\">AANB05024U - Anthropology: Methodology and Analysis</a></li>\\r\\n        <li><a href=\"/archive/2016-2017/course/AANB05039U\">AANB05039U - Sommer 2016 - Etnografisk Film Metode - et &quot;hands-on&quot; modul</a></li>\\r\\n        <li><a href=\"/archive/2016-2017/course/AANB05044U\">AANB05044U - Danish Culture and Society</a></li>\\r\\n        <li><a href=\"/archive/2016-2017/course/AANB05059U\">AANB05059U - Statistik for antropologer - og andre med kvalitative kompetencer</a></li>\\r\\n        <li><a href=\"/archive/2016-2017/course/AANB05070U\">AANB05070U - Introduction to the Anthropology of Islam and the Middle East</a></li>\\r\\n        <li><a href=\"/archive/2016-2017/course/AANB05081U\">AANB05081U - Political Anthropology, introductory course</a></li>\\r\\n        <li><a href=\"/archive/2016-2017/course/AANB05082U\">AANB05082U - Anthropology and the Environment, Introductory course</a></li>\\r\\n        <li><a href=\"/archive/2016-2017/course/AANB05090U\">AANB05090U - Visual Anthropology</a></li>\\r\\n        <li><a href=\"/archive/2016-2017/course/AANB05091U\">AANB05091U - The Anthropology of Migration, Introductory Course</a></li>\\r\\n        <li><a href=\"/archive/2016-2017/course/AANB05093U\">AANB05093U - Medical Anthropology, Introductory Course</a></li>\\r\\n        <li><a href=\"/archive/2016-2017/course/AANB11001U\">AANB11001U - Antropologi I</a></li>\\r\\n        <li><a href=\"/archive/2016-2017/course/AANB11002U\">AANB11002U - Antropologi II</a></li>\\r\\n        <li><a href=\"/archive/2016-2017/course/AANB11003U\">AANB11003U - Faghistorie I</a></li>\\r\\n        <li><a href=\"/archive/2016-2017/course/AANB11004U\">AANB11004U - Faghistorie II</a></li>\\r\\n        <li><a href=\"/archive/2016-2017/course/AANB11007U\">AANB11007U - Anvendt antropologi</a></li>\\r\\n        <li><a href=\"/archive/2016-2017/course/AANB11008U\">AANB11008U - Videnskabsteori</a></li>\\r\\n        <li><a href=\"/archive/2016-2017/course/AANB11015U\">AANB11015U - Bachelorprojekt</a></li>\\r\\n        <li><a href=\"/archive/2016-2017/course/AANB11031U\">AANB11031U - CANCELLED - Visual Anthropology in practice</a></li>\\r\\n        <li><a href=\"/archive/2016-2017/course/AANB11036U\">AANB11036U - Ethnographic Approaches to Migration Issues in Scandinavia</a></li>\\r\\n        <li><a href=\"/archive/2016-2017/course/AANB11046U\">AANB11046U - The Anthropology of Religion, introductory course</a></li>\\r\\n        <li><a href=\"/archive/2016-2017/course/AANB11055U\">AANB11055U - Antropologisk Metode</a></li>\\r\\n        <li><a href=\"/archive/2016-2017/course/AANB11059U\">AANB11059U - Sommer 2017 - Evalueringsantropologi</a></li>\\r\\n        <li><a href=\"/archive/2016-2017/course/AANB11067U\">AANB11067U - Urban Anthropology</a></li>\\r\\n        <li><a href=\"/archive/2016-2017/course/AANB11068U\">AANB11068U - Summer 2016 Using anthropology&#39;s analytical tools to solve business problems</a></li>\\r\\n        <li><a href=\"/archive/2016-2017/course/AANB11074U\">AANB11074U - Summer 2017 - Sustainability in the Social and Human Sciences</a></li>\\r\\n        <li><a href=\"/archive/2016-2017/course/AANB11074X\">AANB11074X - Summer 2016 (Sustainability in the Social and Human Sciences)</a></li>\\r\\n        <li><a href=\"/archive/2016-2017/course/AANB11075U\">AANB11075U - Innovation og co-design</a></li>\\r\\n        <li><a href=\"/archive/2016-2017/course/AANB11076U\">AANB11076U - Protest, Resistance, Rebellion and Revolution</a></li>\\r\\n        <li><a href=\"/archive/2016-2017/course/AANB11077U\">AANB11077U - The Politics of Masculinity and Violence</a></li>\\r\\n        <li><a href=\"/archive/2016-2017/course/AANB11078U\">AANB11078U - MASCOT - Mapping of Scientific Controversies</a></li>\\r\\n        <li><a href=\"/archive/2016-2017/course/AANK13515U\">AANK13515U - Selvstudium af valgfrit antropologisk kursus</a></li>\\r\\n        <li><a href=\"/archive/2016-2017/course/AANK16004U\">AANK16004U - Kandidatspeciale</a></li>\\r\\n        <li><a href=\"/archive/2016-2017/course/AANK16011U\">AANK16011U - Anthropological Analyses</a></li>\\r\\n        <li><a href=\"/archive/2016-2017/course/AANK16012U\">AANK16012U - Anthropological Project Design</a></li>\\r\\n        <li><a href=\"/archive/2016-2017/course/AANK16013U\">AANK16013U - Fieldwork: Ethnography and Analysis</a></li>\\r\\n        <li><a href=\"/archive/2016-2017/course/AANK16014U\">AANK16014U - Master&#39;s Thesis</a></li>\\r\\n        <li><a href=\"/archive/2016-2017/course/AANK16100U\">AANK16100U - Medical Anthropology, advanced course</a></li>\\r\\n        <li><a href=\"/archive/2016-2017/course/AANK16101U\">AANK16101U - The Anthropology of Migration, advanced course</a></li>\\r\\n        <li><a href=\"/archive/2016-2017/course/AANK16102U\">AANK16102U - Anthropology and the Environment, advanced course - CANCELLED IN AUTUMN 2016</a></li>\\r\\n        <li><a href=\"/archive/2016-2017/course/AANK16104U\">AANK16104U - Organizational Anthropology</a></li>\\r\\n        <li><a href=\"/archive/2016-2017/course/AANK16105U\">AANK16105U - Anthropology of Intensity: Desire, Becoming &amp; Virtual Encounters - CANCELLED</a></li>\\r\\n        <li><a href=\"/archive/2016-2017/course/AANK16106U\">AANK16106U - Gender Matters</a></li>\\r\\n        <li><a href=\"/archive/2016-2017/course/AANK16107U\">AANK16107U - Economic Anthropology</a></li>\\r\\n        <li><a href=\"/archive/2016-2017/course/AANK16108U\">AANK16108U - CANCELLED - Contemporary South Asia: Reason and Religion</a></li>\\r\\n        <li><a href=\"/archive/2016-2017/course/AANK16109U\">AANK16109U - Heritagizing Pasts, Presents and Futures</a></li>\\r\\n        <li><a href=\"/archive/2016-2017/course/AANK16110U\">AANK16110U - Forskningspraktikopgave - Deltagelse i f&#248;rste fase af initiativet Vidensbaseret Vordingborg</a></li>\\r\\n</ul>\\r\\n    </div>\\r\\n</div>\\r\\n\\r\\n\\r\\n\\r\\n    \\r\\n    </div>\\r\\n\\r\\n    <!-- Local footer -->\\r\\n    <div class=\"container local-footer\">\\r\\n        <hr>\\r\\n        <div class=\"row\">\\r\\n            <div class=\"col-xs-12 footer-address\">\\r\\n                <address>\\r\\n                    Hvis du har sp&#248;rgsm&#229;l til kurset, skal du henvende dig til din lokale studieadministration.\\r\\n                </address>\\r\\n            </div>\\r\\n        </div>\\r\\n    </div>\\r\\n</main>\\r\\n<!-- Accept cookies START-->\\r\\n        <div class=\"container-fluid privacy-policy\">\\r\\n  <div class=\"container\">\\r\\n    <div class=\"row\">\\r\\n      <div class=\"col-xs-8\">\\r\\n        <h2 class=\"h2\">Accept af cookies fra ku.dk</h2>\\r\\n        <p> Ku.dk bruger blandt andet cookies til at udarbejde statistik over anvendelsen af sitet.</p>\\r\\n        <p>Du kan altid slette cookies fra ku.dk igen.</p>\\r\\n      </div>\\r\\n      <div class=\"col-xs-4 text-right\">\\r\\n        <a class=\"btn btn-default\" id=\"accept_cookies\">Accepter cookies</a>\\r\\n        <a class=\"laes_mere_cookies\" href=\"https://velkommen.ku.dk/om-webstedet/cookie-og-privatlivspolitik/\">Læs mere om cookies på ku.dk</a>\\r\\n      </div>\\r\\n    </div>\\r\\n  </div>\\r\\n</div>\\r\\n\\r\\n\\r\\n<!-- Accept cookies END -->\\r\\n<!-- Footer START-->\\r\\n        <div id=\"globalfooter\" class=\"container-fluid\">\\r\\n  <div class=\"container\">\\r\\n    <div class=\"row footercontent clearfix\" role=\"menubar\">\\r\\n      <div class=\"col-xs-3 footercolumn\">\\r\\n        <h3 data-heading=\"toggle\" class=\"footer-heading visible-desktop\">Københavns Universitet</h3>\\r\\n        <ul class=\"footerlinks\">\\r\\n          <li><a href=\"https://om.ku.dk/ledelse-strategi/\" onclick=\"_gaq.push([\\'mainTracker._trackEvent\\', \\'Footer-dk\\', \\'klik\\', \\'Ledelse\\']);\">Ledelse</a></li>\\r\\n          <li><a href=\"https://om.ku.dk/organisation/administration/\" onclick=\"_gaq.push([\\'mainTracker._trackEvent\\', \\'Footer-dk\\', \\'klik\\', \\'Administration\\']);\">Administration</a></li>\\r\\n          <li><a href=\"https://om.ku.dk/organisation/fakulteter/\" onclick=\"_gaq.push([\\'mainTracker._trackEvent\\', \\'Footer-dk\\', \\'klik\\', \\'Fakulteter\\']);\">Fakulteter</a></li>\\r\\n          <li><a href=\"https://om.ku.dk/organisation/institutter/\" onclick=\"_gaq.push([\\'mainTracker._trackEvent\\', \\'Footer-dk\\', \\'klik\\', \\'Institutter\\']);\">Institutter</a></li>\\r\\n          <li><a href=\"https://forskning.ku.dk/centre/\" onclick=\"_gaq.push([\\'mainTracker._trackEvent\\', \\'Footer-dk\\', \\'klik\\', \\'Centre\\']);\">Forskningscentre</a></li>\\r\\n          <li><a href=\"https://vetschool.ku.dk/om/VetOmDyrehospitaler/\" onclick=\"_gaq.push([\\'mainTracker._trackEvent\\', \\'Footer-dk\\', \\'klik\\', \\'Dyrehospitaler\\']);\">Dyrehospitaler</a></li>\\r\\n          <li><a href=\"https://xn--tandlgeskolen-7fb.ku.dk/\" onclick=\"_gaq.push([\\'mainTracker._trackEvent\\', \\'Footer-dk\\', \\'klik\\', \\'Tandlægeskolen\\']);\">Tandlægeskolen</a></li>\\r\\n          <li><a href=\"https://kub.ku.dk/\" onclick=\"_gaq.push([\\'mainTracker._trackEvent\\', \\'Footer-dk\\', \\'klik\\', \\'Administration\\']);\">Biblioteker</a></li>\\r\\n          <li><a href=\"https://om.ku.dk/besoeg/museer/\" onclick=\"_gaq.push([\\'mainTracker._trackEvent\\', \\'Footer-dk\\', \\'klik\\', \\'Museer\\']);\">Museer</a></li>\\r\\n        </ul>\\r\\n      </div>\\r\\n      <div class=\"col-xs-3 footercolumn\">\\r\\n        <h3 data-heading=\"toggle\" class=\"footer-heading\">Kontakt</h3>\\r\\n        <ul class=\"footerlinks\">\\r\\n          <li><a href=\"https://findvej.ku.dk\" onclick=\"_gaq.push([\\'mainTracker._trackEvent\\', \\'Footer-dk\\', \\'klik\\', \\'Findvej\\']);\">Find vej</a></li>\\r\\n          <li><a href=\"https://ku.dk/vejviser/\" onclick=\"_gaq.push([\\'mainTracker._trackEvent\\', \\'Footer-dk\\', \\'klik\\', \\'Vejviser\\']);\">Find en medarbejder</a></li>\\r\\n          <li><a href=\"https://velkommen.ku.dk/kontakt/\" onclick=\"_gaq.push([\\'mainTracker._trackEvent\\', \\'Footer-dk\\', \\'klik\\', \\'Kontakt\\']);\">Kontakt KU</a></li>\\r\\n        </ul>\\r\\n        <h3 data-heading=\"toggle\" class=\"footer-heading\">Services</h3>\\r\\n        <ul class=\"footerlinks\">\\r\\n          <li><a href=\"https://nyheder.ku.dk/presseservice/\" onclick=\"_gaq.push([\\'mainTracker._trackEvent\\', \\'Footer-dk\\', \\'klik\\', \\'Presse\\']);\">Presseservice</a></li>\\r\\n          <li><a href=\"https://designguide.ku.dk\" onclick=\"_gaq.push([\\'mainTracker._trackEvent\\', \\'Footer-dk\\', \\'klik\\', \\'Design\\']);\">Designguide</a></li>\\r\\n          <li><a href=\"http://ku-shop.dk\" onclick=\"_gaq.push([\\'mainTracker._trackEvent\\', \\'Footer-dk\\', \\'klik\\', \\'Merchandise\\']);\">Merchandise</a></li>\\r\\n          <li><a href=\"https://it.ku.dk/kontakt/support_KU/\" onclick=\"_gaq.push([\\'mainTracker._trackEvent\\', \\'Footer-dk\\', \\'klik\\', \\'IT\\']);\">IT-support</a></li>\\r\\n          <li><a href=\"https://oko.ku.dk\" onclick=\"_gaq.push([\\'mainTracker._trackEvent\\', \\'Footer-dk\\', \\'klik\\', \\'CVR\\']);\">CVR, GLN (EAN) og bankoplysninger</a></li>\\r\\n        </ul>\\r\\n      </div>\\r\\n      <div class=\"col-xs-3 footercolumn\">\\r\\n        <h3 data-heading=\"toggle\" class=\"footer-heading\">For studerende og ansatte</h3>\\r\\n        <ul class=\"footerlinks\">\\r\\n          <li><a class=\"padlock\" href=\"https://kunet.ku.dk\" onclick=\"_gaq.push([\\'mainTracker._trackEvent\\', \\'Footer-dk\\', \\'klik\\', \\'KUnet\\']);\">KUnet</a>\\r\\n            <span class=\"icon icon-padlock\"></span>\\r\\n          </li>\\r\\n        </ul>\\r\\n        <h3 data-heading=\"toggle\" class=\"footer-heading\">Job og karriere</h3>\\r\\n        <ul class=\"footerlinks\">\\r\\n          <li><a href=\"https://jobportal.ku.dk\" onclick=\"_gaq.push([\\'mainTracker._trackEvent\\', \\'Footer-dk\\', \\'klik\\', \\'Jobportal\\']);\">Ledige stillinger</a></li>\\r\\n          <li><a href=\"https://karriere.ku.dk/da/\" onclick=\"_gaq.push([\\'mainTracker._trackEvent\\', \\'Footer-dk\\', \\'klik\\', \\'Jobbank\\']);\">Jobbank for studerende</a></li>\\r\\n          <li><a href=\"https://alumni.ku.dk\" onclick=\"_gaq.push([\\'mainTracker._trackEvent\\', \\'Footer-dk\\', \\'klik\\', \\'Alumne\\']);\">Alumne</a></li>\\r\\n        </ul>\\r\\n        <h3 data-heading=\"toggle\" class=\"footer-heading\">Nødsituationer</h3>\\r\\n        <ul class=\"footerlinks\">\\r\\n          <li><a href=\"https://akut.ku.dk\" onclick=\"_gaq.push([\\'mainTracker._trackEvent\\', \\'Footer-dk\\', \\'klik\\', \\'Akut\\']);\">KU\\'s sikkerhedsberedskab</a></li>\\r\\n        </ul>\\r\\n      </div>\\r\\n      <div class=\"col-xs-3 footercolumn\">\\r\\n        <h3 data-heading=\"toggle\" class=\"footer-heading\">Web</h3>\\r\\n        <ul class=\"footerlinks\">\\r\\n          <li><a href=\"https://om.ku.dk/om-webstedet/\" onclick=\"_gaq.push([\\'mainTracker._trackEvent\\', \\'Footer-dk\\', \\'klik\\', \\'Om\\']);\">Om websitet</a></li>\\r\\n          <li><a href=\"https://om.ku.dk/om-webstedet/cookie-og-privatlivspolitik/\" onclick=\"_gaq.push([\\'mainTracker._trackEvent\\', \\'Footer-dk\\', \\'klik\\', \\'Cookies\\']);\">Cookies og privatlivspolitik</a></li>\\r\\n          <li><a href=\"https://informationssikkerhed.ku.dk\" onclick=\"_gaq.push([\\'mainTracker._trackEvent\\', \\'Footer-dk\\', \\'klik\\', \\'Sikkerhed\\']);\">Informationssikkerhed</a></li>\\r\\n          <li><a href=\"https://om.ku.dk/indeks/\" onclick=\"_gaq.push([\\'mainTracker._trackEvent\\', \\'Footer-dk\\', \\'klik\\', \\'Indeks\\']);\">A-Å-indeks</a></li>\\r\\n        </ul>\\r\\n        <div class=\"social-items\">\\r\\n          <h3 data-heading=\"open\" class=\"footer-heading\">Mød KU på</h3>\\r\\n          <div class=\"social-item\">\\r\\n            <a rel=\"noopener\" target=\"_blank\" href=\"https://www.facebook.com/universitet\" class=\"social-icon icon-facebook\" title=\"Facebook\" onclick=\"_gaq.push([\\'mainTracker._trackEvent\\', \\'Footer-dk\\', \\'klik\\', \\'Facebook\\']);\"></a>\\r\\n          </div>\\r\\n          <div class=\"social-item\">\\r\\n            <a rel=\"noopener\" target=\"_blank\" href=\"https://www.linkedin.com/school/university-of-copenhagen/\" class=\"social-icon icon-linkedin\" title=\"LinkedIn\" onclick=\"_gaq.push([\\'mainTracker._trackEvent\\', \\'Footer-dk\\', \\'klik\\', \\'LinkedIn\\']);\"></a>\\r\\n          </div>\\r\\n          <div class=\"social-item\">\\r\\n            <a rel=\"noopener\" target=\"_blank\" href=\"https://www.instagram.com/university_of_copenhagen/\" class=\"social-icon icon-instagram\" title=\"Instagram\" onclick=\"_gaq.push([\\'mainTracker._trackEvent\\', \\'Footer-dk\\', \\'klik\\', \\'Instagram\\']);\"></a>\\r\\n          </div>\\r\\n          <div class=\"social-item\">\\r\\n            <a rel=\"noopener\" target=\"_blank\" href=\"https://twitter.com/koebenhavns_uni\" class=\"social-icon icon-twitter\" title=\"Twitter\" onclick=\"_gaq.push([\\'mainTracker._trackEvent\\', \\'Footer-dk\\', \\'klik\\', \\'Twitter\\']);\"></a>\\r\\n          </div>\\r\\n          <!-- <div class=\"social-item\">\\r\\n                    <a rel=\"noopener\" target=\"_blank\" href=\"https://www.youtube.com/user/CopenhagenUniversity\" class=\"social-icon icon-youtube\" title=\"YouTube\" onClick=\"_gaq.push([\\'mainTracker._trackEvent\\', \\'Footer-dk\\', \\'klik\\', \\'Youtube\\']);\"></a>\\r\\n                </div> -->\\r\\n          <div class=\"social-item\">\\r\\n            <a rel=\"noopener\" target=\"_blank\" href=\"https://video.ku.dk\" class=\"social-icon icon-video\" title=\"KU Videoportal\" onclick=\"_gaq.push([\\'mainTracker._trackEvent\\', \\'Footer-dk\\', \\'klik\\', \\'Video\\']);\"></a>\\r\\n          </div>\\r\\n          <div class=\"social-item\">\\r\\n            <a href=\"https://om.ku.dk/apps/\" class=\"social-icon icon-phone\" title=\"KU Apps\" onclick=\"_gaq.push([\\'mainTracker._trackEvent\\', \\'Footer-dk\\', \\'klik\\', \\'Apps\\']);\"></a>\\r\\n          </div>\\r\\n          <div class=\"social-item\">\\r\\n            <a rel=\"noopener\" target=\"_blank\" href=\"https://www.futurity.org/university/university-of-copenhagen/\" class=\"social-icon icon-futurity\" title=\"futurity\" onclick=\"_gaq.push([\\'mainTracker._trackEvent\\', \\'Footer-dk\\', \\'klik\\', \\'Futurity\\']);\"></a>\\r\\n          </div>\\r\\n          <div class=\"social-item\">\\r\\n            <a rel=\"noopener\" target=\"_blank\" href=\"https://theconversation.com/institutions/university-of-copenhagen-1186\" class=\"social-icon icon-conversation\" title=\"The Conversation\" onclick=\"_gaq.push([\\'mainTracker._trackEvent\\', \\'Footer-dk\\', \\'klik\\', \\'Conversation\\']);\"></a>\\r\\n          </div>\\r\\n          <div class=\"social-item\">\\r\\n            <a rel=\"noopener\" target=\"_blank\" href=\"https://www.coursera.org/ucph\" class=\"social-icon icon-coursera\" title=\"Coursera\" onclick=\"_gaq.push([\\'mainTracker._trackEvent\\', \\'Footer-dk\\', \\'klik\\', \\'Coursera\\']);\"></a>\\r\\n          </div>\\r\\n        </div>\\r\\n      </div>\\r\\n    </div>\\r\\n  </div>\\r\\n</div>\\r\\n<script>\\r\\n  $(document).ready(function() {\\r\\n    // Check if the page is responsive\\r\\n    var $isResponsive = ($(\\'html\\').hasClass(\\'non-responsive\\')) ? true : false;\\r\\n    var $footerHeader = $(\\'#globalfooter .footer-heading[data-heading=\"toggle\"]\\');\\r\\n    var $footerColumn = $(\\'#globalfooter .footer-heading[data-heading=\"toggle\"] + .footerlinks\\');\\r\\n    var $cachedWidth = $(\\'body\\').prop(\\'clientWidth\\');\\r\\n    var collapseFooter = function(el, ev) {\\r\\n      // Collapse footer at lowest breakpoint\\r\\n      if ($isResponsive === false && window.matchMedia(\\'(max-width: 767px)\\').matches) {\\r\\n        ev.preventDefault();\\r\\n        $(el).next(\\'ul\\').slideToggle();\\r\\n        $(el).toggleClass(\\'open\\');\\r\\n      } else {\\r\\n        $(el).next(\\'ul\\').show();\\r\\n      }\\r\\n    };\\r\\n    $footerHeader.click(function(e) {\\r\\n      collapseFooter(this, e);\\r\\n    });\\r\\n    $(window).resize(function() {\\r\\n      var $newWidth = $(\\'body\\').prop(\\'clientWidth\\');\\r\\n      if ($isResponsive === false && $newWidth !== $cachedWidth) {\\r\\n        $footerHeader.removeClass(\\'open\\');\\r\\n        $footerColumn.removeAttr(\\'style\\');\\r\\n        $cachedWidth = $newWidth;\\r\\n      }\\r\\n    });\\r\\n  });\\r\\n</script>\\r\\n\\r\\n\\r\\n<!-- Footer END -->\\r\\n\\r\\n    \\r\\n\\r\\n\\r\\n<script type=\"text/javascript\">\\r\\n    var _gaq = _gaq || [];\\r\\n    _gaq.push([\\'mainTracker._setAccount\\', \\'UA-28098356-1\\']);\\r\\n    _gaq.push([\\'mainTracker._setDomainName\\', \\'ku.dk\\']);\\r\\n    _gaq.push([\\'mainTracker._setAllowHash\\', false]);\\r\\n    _gaq.push([\\'mainTracker._setAllowAnchor\\', true]);\\r\\n    _gaq.push([\\'mainTracker._setAllowLinker\\', true]);\\r\\n    _gaq.push([\\'mainTracker._trackPageview\\']);\\r\\n\\r\\n    _gaq.push([\\'legacyTracker._setAccount\\', \\'UA-28121749-2\\']);\\r\\n    _gaq.push([\\'legacyTracker._setDomainName\\', \\'ku.dk\\']);\\r\\n    _gaq.push([\\'legacyTracker._setAllowHash\\', false]);\\r\\n    _gaq.push([\\'legacyTracker._setAllowAnchor\\', true]);\\r\\n    _gaq.push([\\'legacyTracker._setAllowLinker\\', true]);\\r\\n    _gaq.push([\\'legacyTracker._trackPageview\\']);\\r\\n\\r\\n    (function () {\\r\\n        var ga = document.createElement(\\'script\\');\\r\\n        ga.type = \\'text/javascript\\';\\r\\n        ga.async = true;\\r\\n        ga.src = (\\'https:\\' == document.location.protocol ? \\'https://ssl\\' : \\'http://www\\') +\\r\\n            \\'.google-analytics.com/ga.js\\';\\r\\n        var s = document.getElementsByTagName(\\'script\\')[0];\\r\\n        s.parentNode.insertBefore(ga, s);\\r\\n    })();\\r\\n\\r\\n    /* This will load a central hosted javascript file with extended functionality for GA */\\r\\n    (function () {\\r\\n        var kuga = document.createElement(\\'script\\');\\r\\n        kuga.type = \\'text/javascript\\';\\r\\n        kuga.async = true;\\r\\n        kuga.src = \\'https:\\' == document.location.protocol\\r\\n            ? \\'https://bootstrap.secure.ku.dk/scripts/ga.extended.js\\'\\r\\n            : \\'http://cms.ku.dk/scripts_js/ga.extended.js\\';\\r\\n        var s = document.getElementsByTagName(\\'script\\')[1];\\r\\n        s.parentNode.insertBefore(kuga, s);\\r\\n    })();\\r\\n</script>\\r\\n    <script type=\"text/javascript\">\\r\\nsetTimeout(function(){var a=document.createElement(\"script\");\\r\\nvar b=document.getElementsByTagName(\"script\")[0];\\r\\na.src=document.location.protocol+\"//script.crazyegg.com/pages/scripts/0011/3222.js?\"+Math.floor(new Date().getTime()/3600000);\\r\\na.async=true;a.type=\"text/javascript\";b.parentNode.insertBefore(a,b)}, 1);\\r\\n    </script>\\r\\n\\r\\n<script src=\"https://bootstrap.secure.ku.dk/scripts/bootstrap.min.js\"></script>\\r\\n<script src=\"https://bootstrap.secure.ku.dk/scripts/jquery.mmenu.all.min.js\"></script>\\r\\n<script src=\"https://bootstrap.secure.ku.dk/scripts/ku-mobile-menu.js\"></script>\\r\\n<!-- Kurser.ku.dk -->\\r\\n<script src=\"https://bootstrap.secure.ku.dk/scripts/valid_search_engines_da.js\"></script>\\r\\n<script src=\"https://bootstrap.secure.ku.dk/scripts/search.js\"></script>\\r\\n    \\r\\n\\r\\n</body>\\r\\n</html>\\r\\n'"
      ]
     },
     "execution_count": 23,
     "metadata": {},
     "output_type": "execute_result"
    }
   ],
   "source": [
    "response.text"
   ]
  },
  {
   "cell_type": "markdown",
   "metadata": {
    "slideshow": {
     "slide_type": "subslide"
    }
   },
   "source": [
    "--------------\n",
    "After inspecting the html using our browsers Inspector tool, we can see that links occur after a href= pattern. \n",
    "Employing the python you already know we can use the ``string.split`` method to fetch the links.\n",
    "______________"
   ]
  },
  {
   "cell_type": "code",
   "execution_count": 24,
   "metadata": {
    "slideshow": {
     "slide_type": "subslide"
    }
   },
   "outputs": [
    {
     "data": {
      "text/plain": [
       "['/archive/2016-2017/course/AANK16104U', 'https://oko.ku.dk']"
      ]
     },
     "execution_count": 24,
     "metadata": {},
     "output_type": "execute_result"
    }
   ],
   "source": [
    "# we split by the pattern 'href=\"' and\n",
    "# skip the first element that was before the first occurrece of href\n",
    "link_locations = response.text.split('href=\"')[1:] \n",
    "###\n",
    "\n",
    "links = [] #define container for the links\n",
    "import random # good practice is to shuffle our data to inspect different data points each time.\n",
    "# we do this with the random.sample function.\n",
    "for link in random.sample(link_locations,len(link_locations)):\n",
    "    #print(link)\n",
    "    link = link.split('\"')[0]\n",
    "    links.append(link)\n",
    "links[0:2]"
   ]
  },
  {
   "cell_type": "code",
   "execution_count": 25,
   "metadata": {
    "slideshow": {
     "slide_type": "subslide"
    }
   },
   "outputs": [
    {
     "name": "stdout",
     "output_type": "stream",
     "text": [
      "138\n",
      "50\n"
     ]
    }
   ],
   "source": [
    "# links are relative to the domain: https://kurser.ku.dk/\n",
    "links = ['https://kurser.ku.dk'+ i for i in links]\n",
    "print(len(links))\n",
    "# only links with /archive/ in the name is a relevant course\n",
    "links = [link for link in links if '/archive/' in link]\n",
    "print(len(links))"
   ]
  },
  {
   "cell_type": "code",
   "execution_count": 26,
   "metadata": {
    "slideshow": {
     "slide_type": "subslide"
    }
   },
   "outputs": [
    {
     "name": "stdout",
     "output_type": "stream",
     "text": [
      "['https://kurser.ku.dk/archive/2016-2017/course/AANK16012U', 'https://kurser.ku.dk/archive/2016-2017/course/AANB05059U', 'https://kurser.ku.dk/archive/2016-2017/course/AANK16004U', 'https://kurser.ku.dk/archive/2016-2017/course/AANB05090U', 'https://kurser.ku.dk/archive/2016-2017/course/AANB11074U']\n"
     ]
    }
   ],
   "source": [
    "\n",
    "print(random.sample(links,5))"
   ]
  },
  {
   "cell_type": "markdown",
   "metadata": {
    "slideshow": {
     "slide_type": "slide"
    }
   },
   "source": [
    "** In-class exercise 2** Now it your turn to practice collecting links using the simple split method.\n",
    "\n",
    "The above example only collected links to courses in Anthropology. Now I want you to build a script that\n",
    "* first collects links to all the different studyboards here: https://kurser.ku.dk/archive/2016-2017\n",
    "\n",
    "* And next run through those to collect the links to all the courses at UCPH 2016-2017.\n",
    "\n",
    "* figure out how to get links from the other years (hint look at the urls).\n"
   ]
  },
  {
   "cell_type": "code",
   "execution_count": null,
   "metadata": {
    "collapsed": true,
    "slideshow": {
     "slide_type": "fragment"
    }
   },
   "outputs": [],
   "source": [
    "# solution goes here"
   ]
  },
  {
   "cell_type": "markdown",
   "metadata": {
    "slideshow": {
     "slide_type": "slide"
    }
   },
   "source": [
    "## Good practices\n",
    "* Transparency: send your email and name in the header so webmasters will know you are not a malicious actor.\n",
    "* Ratelimiting: Make sure you don't hit their servers to hard.\n",
    "* Reliability: \n",
    "    * Make sure the scraper can handle exceptions (e.g. bad connection) without crashing.\n",
    "    * Keep a log.\n",
    "    * Store raw data.\n"
   ]
  },
  {
   "cell_type": "code",
   "execution_count": 27,
   "metadata": {
    "slideshow": {
     "slide_type": "subslide"
    }
   },
   "outputs": [
    {
     "data": {
      "text/plain": [
       "{'User-Agent': 'python-requests/2.22.0', 'Accept-Encoding': 'gzip, deflate', 'Accept': '*/*', 'Connection': 'keep-alive', 'email': 'youremail', 'name': 'name'}"
      ]
     },
     "execution_count": 27,
     "metadata": {},
     "output_type": "execute_result"
    }
   ],
   "source": [
    "# Transparent scraping\n",
    "import requests\n",
    "#response = requests.get('https://www.google.com')\n",
    "session = requests.session()\n",
    "session.headers['email'] = 'youremail' \n",
    "session.headers['name'] = 'name'\n",
    "#session.headers['User-Agent'] = '' # sometimes you need to pose as another agent...\n",
    "session.headers"
   ]
  },
  {
   "cell_type": "markdown",
   "metadata": {
    "slideshow": {
     "slide_type": "fragment"
    }
   },
   "source": [
    "A quick tip is that you can change the user agent to a cellphone to obtain more simple formatting of the html. "
   ]
  },
  {
   "cell_type": "markdown",
   "metadata": {
    "slideshow": {
     "slide_type": "subslide"
    }
   },
   "source": [
    "# Reliability!\n",
    "When using found data, you are the curator and you are **responsible** for enscribing **trust** in the datacompilation.\n",
    "\n",
    "Reliability is ensured by an interative process, of inspection (many + randomly sampled), error detection and error handling.\n",
    "\n",
    "Build your scrape around making this process easy by:\n",
    "* logging information about the collection (e.g. servertime, size of response to plot weird behavior, size of response over time,  number of calls pr day, detection of holes in your data).\n",
    "* Storing raw data (before parsing it) to be able to backtrack problems, without having to wait for the error to come up.  "
   ]
  }
 ],
 "metadata": {
  "celltoolbar": "Slideshow",
  "kernelspec": {
   "display_name": "Python 3",
   "language": "python",
   "name": "python3"
  },
  "language_info": {
   "codemirror_mode": {
    "name": "ipython",
    "version": 3
   },
   "file_extension": ".py",
   "mimetype": "text/x-python",
   "name": "python",
   "nbconvert_exporter": "python",
   "pygments_lexer": "ipython3",
   "version": "3.7.3"
  },
  "latex_envs": {
   "bibliofile": "biblio.bib",
   "cite_by": "apalike",
   "current_citInitial": 1,
   "eqLabelWithNumbers": true,
   "eqNumInitial": 0
  },
  "toc": {
   "nav_menu": {
    "height": "328px",
    "width": "252px"
   },
   "navigate_menu": true,
   "number_sections": true,
   "sideBar": true,
   "threshold": 4,
   "toc_cell": false,
   "toc_section_display": "block",
   "toc_window_display": false
  }
 },
 "nbformat": 4,
 "nbformat_minor": 2
}
