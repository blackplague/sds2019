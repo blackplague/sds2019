{
 "cells": [
  {
   "cell_type": "markdown",
   "metadata": {
    "ExecuteTime": {
     "end_time": "2017-08-23T15:30:03.634114Z",
     "start_time": "2017-08-23T15:30:03.629294Z"
    }
   },
   "source": [
    "# Exercise Set 6: Data Structuring 2\n",
    "\n",
    "*Afternoon, August 14, 2019*\n",
    "\n",
    "In this Exercise Set we will continue working with the weather data you downloaded and saved in Exercise Set 4. \n",
    "\n",
    "> **_Note_**: to solve the bonus exercises in this exerise set you will need to apply the `.groupby()` method a few times. This has not yet been covered in the lectures (you will see it tomorrow).  \n",
    ">\n",
    "> `.groupby()` is a method of pandas dataframes, meaning we can call it like so: `data.groupby('colname')`. The method groups your dataset by a specified column, and applies any following changes within each of these groups. For a more detailed explanation see [this link](https://www.tutorialspoint.com/python_pandas/python_pandas_groupby.htm). The [documentation](https://pandas.pydata.org/pandas-docs/stable/generated/pandas.DataFrame.groupby.html) might also be useful.\n",
    "\n",
    "First load in the required modules and set up the plotting library:"
   ]
  },
  {
   "cell_type": "code",
   "execution_count": 2,
   "metadata": {},
   "outputs": [],
   "source": [
    "%matplotlib inline\n",
    "import pandas as pd\n",
    "import matplotlib.pyplot as plt"
   ]
  },
  {
   "cell_type": "markdown",
   "metadata": {},
   "source": [
    "## Exercise Section 6.1: Weather, part 2\n",
    "\n",
    "This section is the second part of three that analyzes NOAA data. The first part is Exercise Section 4.1, the last part is Exercise Section 7.2."
   ]
  },
  {
   "cell_type": "markdown",
   "metadata": {},
   "source": [
    "> **Ex. 6.1.1:** Load the CSV data you stored yesterday as part of Exercise Section 4.1. If you didn't manage to save the CSV file, you can use the code in [this gist](https://gist.github.com/Kristianuruplarsen/be3a14b226fc4c4d7b62c39de70307e4) to load in the NOAA data."
   ]
  },
  {
   "cell_type": "code",
   "execution_count": 32,
   "metadata": {},
   "outputs": [],
   "source": [
    "# [Answer to Ex. 6.1.1]\n",
    "import pandas as pd\n",
    "\n",
    "url = 'https://www1.ncdc.noaa.gov/pub/data/ghcn/daily/by_year/1864.csv.gz'\n",
    "\n",
    "df_weather = pd.read_csv(url,\n",
    "                         compression='gzip',\n",
    "                         header=None).iloc[:,:4]\n",
    "\n",
    "df_weather.columns = ['station', 'datetime', 'obs_type', 'obs_value']\n",
    "df_weather['obs_value'] = df_weather['obs_value'] / 10\n",
    "df_select = df_weather[(df_weather.station == 'ITE00100550') & (df_weather.obs_type == 'TMAX')].copy()\n",
    "df_select['TMAX_F'] = 32 + 1.8 * df_select['obs_value']\n",
    "df_sorted = df_select.reset_index(drop=True).sort_values(by=['obs_value'])"
   ]
  },
  {
   "cell_type": "code",
   "execution_count": 33,
   "metadata": {},
   "outputs": [
    {
     "name": "stdout",
     "output_type": "stream",
     "text": [
      "        station  datetime obs_type  obs_value  TMAX_F\n",
      "16  ITE00100550  18640117     TMAX       -6.3   20.66\n",
      "17  ITE00100550  18640118     TMAX       -5.0   23.00\n",
      "13  ITE00100550  18640114     TMAX       -5.0   23.00\n",
      "12  ITE00100550  18640113     TMAX       -4.3   24.26\n",
      "14  ITE00100550  18640115     TMAX       -3.1   26.42\n"
     ]
    }
   ],
   "source": [
    "print(df_sorted.head())"
   ]
  },
  {
   "cell_type": "markdown",
   "metadata": {},
   "source": [
    "> **Ex. 6.1.2:** Convert the date formatted as string to  datetime. Make a new column with the month for each observation."
   ]
  },
  {
   "cell_type": "code",
   "execution_count": 34,
   "metadata": {},
   "outputs": [
    {
     "name": "stdout",
     "output_type": "stream",
     "text": [
      "16    18640117\n",
      "17    18640118\n",
      "13    18640114\n",
      "12    18640113\n",
      "14    18640115\n",
      "Name: datetime, dtype: int64\n"
     ]
    }
   ],
   "source": [
    "print(df_sorted['datetime'].head())"
   ]
  },
  {
   "cell_type": "code",
   "execution_count": null,
   "metadata": {},
   "outputs": [],
   "source": []
  },
  {
   "cell_type": "code",
   "execution_count": 35,
   "metadata": {},
   "outputs": [
    {
     "name": "stdout",
     "output_type": "stream",
     "text": [
      "16   1864-01-17\n",
      "17   1864-01-18\n",
      "13   1864-01-14\n",
      "12   1864-01-13\n",
      "14   1864-01-15\n",
      "Name: datetime, dtype: datetime64[ns]\n"
     ]
    }
   ],
   "source": [
    "# [Answer to Ex. 6.1.2]\n",
    "\n",
    "df_sorted['datetime'] = pd.to_datetime(df_sorted['datetime'], format='%Y%m%d')\n",
    "\n",
    "#df_sorted['datetime'] = pd.to_datetime(df_sorted['datetime'], infer_datetime_format=True)\n",
    "\n",
    "print(df_sorted['datetime'].head())"
   ]
  },
  {
   "cell_type": "code",
   "execution_count": 39,
   "metadata": {},
   "outputs": [
    {
     "name": "stdout",
     "output_type": "stream",
     "text": [
      "        station   datetime obs_type  obs_value  TMAX_F  month\n",
      "16  ITE00100550 1864-01-17     TMAX       -6.3   20.66      1\n",
      "17  ITE00100550 1864-01-18     TMAX       -5.0   23.00      1\n",
      "13  ITE00100550 1864-01-14     TMAX       -5.0   23.00      1\n",
      "12  ITE00100550 1864-01-13     TMAX       -4.3   24.26      1\n",
      "14  ITE00100550 1864-01-15     TMAX       -3.1   26.42      1\n"
     ]
    }
   ],
   "source": [
    "from datetime import datetime\n",
    "\n",
    "def get_month(d: datetime) -> int:\n",
    "    return d.month\n",
    "\n",
    "df_sorted['month'] = df_sorted['datetime'].apply(get_month)\n",
    "\n",
    "print(df_sorted.head())"
   ]
  },
  {
   "cell_type": "code",
   "execution_count": 44,
   "metadata": {},
   "outputs": [
    {
     "name": "stdout",
     "output_type": "stream",
     "text": [
      "        station   datetime obs_type  obs_value  TMAX_F  month\n",
      "16  ITE00100550 1864-01-17     TMAX       -6.3   20.66      1\n",
      "17  ITE00100550 1864-01-18     TMAX       -5.0   23.00      1\n",
      "13  ITE00100550 1864-01-14     TMAX       -5.0   23.00      1\n",
      "12  ITE00100550 1864-01-13     TMAX       -4.3   24.26      1\n",
      "14  ITE00100550 1864-01-15     TMAX       -3.1   26.42      1\n"
     ]
    }
   ],
   "source": [
    "print(df_sorted.head())"
   ]
  },
  {
   "cell_type": "markdown",
   "metadata": {},
   "source": [
    "> **Ex. 6.1.3:** Set the datetime variable as temporal index and make a timeseries plot.\n",
    "\n",
    "> _Hint:_ for this you need to know a few methods of the pandas DataFrames and pandas Series objects. Look up `.set_index()` and `.plot()`. "
   ]
  },
  {
   "cell_type": "code",
   "execution_count": 47,
   "metadata": {},
   "outputs": [
    {
     "data": {
      "text/plain": [
       "<matplotlib.axes._subplots.AxesSubplot at 0x7fa3cce0fe10>"
      ]
     },
     "execution_count": 47,
     "metadata": {},
     "output_type": "execute_result"
    },
    {
     "data": {
      "image/png": "[encoded data removed]",
      "text/plain": [
       "<Figure size 432x288 with 1 Axes>"
      ]
     },
     "metadata": {
      "needs_background": "light"
     },
     "output_type": "display_data"
    }
   ],
   "source": [
    "# [Answer to Ex. 6.1.3]\n",
    "#df_sorted['datetime'] = pd.DatetimeIndex(df_sorted['datetime'])\n",
    "df_sorted.set_index('datetime')\n",
    "#print(df_sorted['datetime'].head())\n",
    "\n",
    "df_sorted.plot(x='datetime', y='obs_value')"
   ]
  },
  {
   "cell_type": "markdown",
   "metadata": {},
   "source": [
    "> **Ex. 6.1.4:** Extract the country code from the station name into a separate column.\n",
    "\n",
    "> _Hint:_ The station column contains a GHCND ID, given to each weather station by NOAA. The format of these ID's is a 2-3 letter country code, followed by a integer identifying the specific station. A simple approach is to assume a fixed length of the country ID. A more complex way would be to use the [`re`](https://docs.python.org/2/library/re.html) module. "
   ]
  },
  {
   "cell_type": "code",
   "execution_count": 50,
   "metadata": {},
   "outputs": [
    {
     "name": "stdout",
     "output_type": "stream",
     "text": [
      "        station   datetime obs_type  obs_value  TMAX_F  month country_code\n",
      "16  ITE00100550 1864-01-17     TMAX       -6.3   20.66      1          ITE\n",
      "17  ITE00100550 1864-01-18     TMAX       -5.0   23.00      1          ITE\n",
      "13  ITE00100550 1864-01-14     TMAX       -5.0   23.00      1          ITE\n",
      "12  ITE00100550 1864-01-13     TMAX       -4.3   24.26      1          ITE\n",
      "14  ITE00100550 1864-01-15     TMAX       -3.1   26.42      1          ITE\n"
     ]
    }
   ],
   "source": [
    "# [Answer to Ex. 6.1.4]\n",
    "import re\n",
    "\n",
    "country_code_matcher = re.compile('^[A-Z]{2,3}')\n",
    "\n",
    "def get_country_code(station_id: str) -> str:\n",
    "    return country_code_matcher.match(station_id).group()\n",
    "    \n",
    "df_sorted['country_code'] = df_sorted['station'].apply(get_country_code)\n",
    "\n",
    "print(df_sorted.head())"
   ]
  },
  {
   "cell_type": "markdown",
   "metadata": {},
   "source": [
    "> **Ex. 6.1.5:** Make a function that downloads and formats the weather data according to previous exercises in Exercise Section 4.1, 6.1. You should use data for ALL stations but still only select maximal temperature. _Bonus:_ To validate that your function works plot the temperature curve for each country in the same window. Use `plt.legend()` to add a legend. "
   ]
  },
  {
   "cell_type": "code",
   "execution_count": 4,
   "metadata": {},
   "outputs": [
    {
     "data": {
      "text/html": [
       "<div>\n",
       "<style scoped>\n",
       "    .dataframe tbody tr th:only-of-type {\n",
       "        vertical-align: middle;\n",
       "    }\n",
       "\n",
       "    .dataframe tbody tr th {\n",
       "        vertical-align: top;\n",
       "    }\n",
       "\n",
       "    .dataframe thead th {\n",
       "        text-align: right;\n",
       "    }\n",
       "</style>\n",
       "<table border=\"1\" class=\"dataframe\">\n",
       "  <thead>\n",
       "    <tr style=\"text-align: right;\">\n",
       "      <th></th>\n",
       "      <th>station</th>\n",
       "      <th>datetime</th>\n",
       "      <th>obs_type</th>\n",
       "      <th>obs_value</th>\n",
       "      <th>tmax_f</th>\n",
       "    </tr>\n",
       "  </thead>\n",
       "  <tbody>\n",
       "    <tr>\n",
       "      <th>845</th>\n",
       "      <td>SZ000006717</td>\n",
       "      <td>18640226</td>\n",
       "      <td>TMAX</td>\n",
       "      <td>-34.0</td>\n",
       "      <td>-29.20</td>\n",
       "    </tr>\n",
       "    <tr>\n",
       "      <th>577</th>\n",
       "      <td>SZ000006717</td>\n",
       "      <td>18640208</td>\n",
       "      <td>TMAX</td>\n",
       "      <td>-17.4</td>\n",
       "      <td>0.68</td>\n",
       "    </tr>\n",
       "    <tr>\n",
       "      <th>699</th>\n",
       "      <td>CA006158350</td>\n",
       "      <td>18640217</td>\n",
       "      <td>TMAX</td>\n",
       "      <td>-16.7</td>\n",
       "      <td>1.94</td>\n",
       "    </tr>\n",
       "    <tr>\n",
       "      <th>42</th>\n",
       "      <td>SZ000006717</td>\n",
       "      <td>18640103</td>\n",
       "      <td>TMAX</td>\n",
       "      <td>-16.5</td>\n",
       "      <td>2.30</td>\n",
       "    </tr>\n",
       "    <tr>\n",
       "      <th>16</th>\n",
       "      <td>CA006158350</td>\n",
       "      <td>18640102</td>\n",
       "      <td>TMAX</td>\n",
       "      <td>-16.1</td>\n",
       "      <td>3.02</td>\n",
       "    </tr>\n",
       "  </tbody>\n",
       "</table>\n",
       "</div>"
      ],
      "text/plain": [
       "         station  datetime obs_type  obs_value  tmax_f\n",
       "845  SZ000006717  18640226     TMAX      -34.0  -29.20\n",
       "577  SZ000006717  18640208     TMAX      -17.4    0.68\n",
       "699  CA006158350  18640217     TMAX      -16.7    1.94\n",
       "42   SZ000006717  18640103     TMAX      -16.5    2.30\n",
       "16   CA006158350  18640102     TMAX      -16.1    3.02"
      ]
     },
     "execution_count": 4,
     "metadata": {},
     "output_type": "execute_result"
    }
   ],
   "source": [
    "# [Answer to Ex. 6.1.5]\n",
    "\n",
    "def get_weather_data(year):\n",
    "    base_url = 'https://www1.ncdc.noaa.gov/pub/data/ghcn/daily/by_year/{}.csv.gz'\n",
    "    df_weather = pd.read_csv(base_url.format(str(year)),\n",
    "                            compression='gzip',\n",
    "                            header=None).iloc[:, :4] # Truncate rows to only the first 4 columns\n",
    "    # name the columns\n",
    "    df_weather.columns = ['station', 'datetime', 'obs_type', 'obs_value']\n",
    "    # Wrangle tempeture, it comes in tenth of degrees\n",
    "    df_weather['obs_value'] = df_weather['obs_value'] / 10\n",
    "    # Choose only the observation type TMAX\n",
    "    df_select_tmax = df_weather[(df_weather.obs_type == 'TMAX')].copy()\n",
    "    \n",
    "    df_select_tmax['tmax_f'] = 32 + 1.8 * df_select_tmax['obs_value']\n",
    "    df_sorted = df_select_tmax.reset_index(drop=True).sort_values(by=['obs_value'])\n",
    "    return df_sorted\n",
    "\n",
    "\n",
    "test_1864_df = get_weather_data(1864)\n",
    "test_1864_df.head()"
   ]
  },
  {
   "cell_type": "markdown",
   "metadata": {},
   "source": [
    "##  Exercise Section 6.2: \n",
    "\n",
    "In this section we will use [this dataset](https://archive.ics.uci.edu/ml/datasets/Adult) from the [UCI Machine Learning Repository](https://archive.ics.uci.edu/ml/datasets.html) to practice some basic operations on pandas dataframes. \n"
   ]
  },
  {
   "cell_type": "markdown",
   "metadata": {},
   "source": [
    "> **Ex. 6.2.1:** This link `'https://archive.ics.uci.edu/ml/machine-learning-databases/adult/adult.data'` leads to a comma-separated file with income data from a US census. Load the data into a pandas dataframe and show the 25th to 35th row.\n",
    "\n",
    "> _Hint #1:_ There are no column names in the dataset. Use the list `['age','workclass', 'fnlwgt', 'educ', 'educ_num', 'marital_status', 'occupation','relationship', 'race', 'sex','capital_gain', 'capital_loss', 'hours_per_week', 'native_country', 'wage']` as names. \n",
    "\n",
    "> _Hint #2:_ When you read in the csv, you might find that pandas includes whitespace in all of the cells. To get around this include the argument `skipinitialspace = True` to `read_csv()`. "
   ]
  },
  {
   "cell_type": "code",
   "execution_count": null,
   "metadata": {},
   "outputs": [],
   "source": [
    "# [Answer to Ex. 6.2.1]"
   ]
  },
  {
   "cell_type": "markdown",
   "metadata": {},
   "source": [
    "> **Ex. 6.2.2:** What is the missing value sign in this dataset? Replace all missing values with NA's understood by pandas. Then proceed to drop all rows containing any missing values with the  `dropna` method. How many rows are removed in this operation?\n",
    "\n",
    "> _Hint 1:_ if this doesn't work as expected you might want to take a look at the hint for 6.2.1 again.\n",
    " \n",
    "> _Hint 2:_ The NaN method from NumPy might be useful"
   ]
  },
  {
   "cell_type": "code",
   "execution_count": null,
   "metadata": {},
   "outputs": [],
   "source": [
    "# [Answer to Ex. 6.2.2]"
   ]
  },
  {
   "cell_type": "markdown",
   "metadata": {},
   "source": [
    "> **Ex. 6.2.3:** (_Bonus_) Is there any evidence of a gender-wage-gap in the data? Create a table showing the percentage of men and women earning more than 50K a year."
   ]
  },
  {
   "cell_type": "code",
   "execution_count": null,
   "metadata": {},
   "outputs": [],
   "source": [
    "# [Answer to Ex. 6.2.3]"
   ]
  },
  {
   "cell_type": "markdown",
   "metadata": {},
   "source": [
    "> **Ex. 6.2.4:** (_Bonus_) Group the data by years of education (`educ_num`) and marital status. Now plot the share of individuals who earn more than 50K for the two groups 'Divorced' and 'Married-civ-spouse' (normal marriage). Your final result should look like this: \n",
    "\n",
    "![](examplefig.png)\n",
    "\n",
    "> _Hint:_ the `.query()` method is extremely useful for filtering data."
   ]
  },
  {
   "cell_type": "code",
   "execution_count": null,
   "metadata": {},
   "outputs": [],
   "source": [
    "# [Answer to Ex. 6.2.4]"
   ]
  }
 ],
 "metadata": {
  "kernelspec": {
   "display_name": "Python 3",
   "language": "python",
   "name": "python3"
  },
  "language_info": {
   "codemirror_mode": {
    "name": "ipython",
    "version": 3
   },
   "file_extension": ".py",
   "mimetype": "text/x-python",
   "name": "python",
   "nbconvert_exporter": "python",
   "pygments_lexer": "ipython3",
   "version": "3.7.3"
  },
  "nav_menu": {},
  "toc": {
   "navigate_menu": true,
   "number_sections": false,
   "sideBar": true,
   "threshold": 6,
   "toc_cell": false,
   "toc_section_display": "block",
   "toc_window_display": true
  }
 },
 "nbformat": 4,
 "nbformat_minor": 2
}
