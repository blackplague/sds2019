{
 "cells": [
  {
   "cell_type": "code",
   "execution_count": 1,
   "metadata": {},
   "outputs": [],
   "source": [
    "### Define our Connector\n",
    "\n",
    "import requests,os,time\n",
    "def ratelimit(dt):\n",
    "    \"A function that handles the rate of your calls.\"\n",
    "    time.sleep(dt) # sleep one second.\n",
    "\n",
    "class Connector():\n",
    "  def __init__(self,logfile,overwrite_log=False,connector_type='requests',session=False,path2selenium='',n_tries = 5,timeout=30,waiting_time=0.5):\n",
    "    \"\"\"This Class implements a method for reliable connection to the internet and monitoring. \n",
    "    It handles simple errors due to connection problems, and logs a range of information for basic quality assessments\n",
    "    \n",
    "    Keyword arguments:\n",
    "    logfile -- path to the logfile\n",
    "    overwrite_log -- bool, defining if logfile should be cleared (rarely the case). \n",
    "    connector_type -- use the 'requests' module or the 'selenium'. Will have different since the selenium webdriver does not have a similar response object when using the get method, and monitoring the behavior cannot be automated in the same way.\n",
    "    session -- requests.session object. For defining custom headers and proxies.\n",
    "    path2selenium -- str, sets the path to the geckodriver needed when using selenium.\n",
    "    n_tries -- int, defines the number of retries the *get* method will try to avoid random connection errors.\n",
    "    timeout -- int, seconds the get request will wait for the server to respond, again to avoid connection errors.\n",
    "    \"\"\"\n",
    "    \n",
    "    ## Initialization function defining parameters. \n",
    "    self.n_tries = n_tries # For avoiding triviel error e.g. connection errors, this defines how many times it will retry.\n",
    "    self.timeout = timeout # Defining the maximum time to wait for a server to response.\n",
    "    self.waiting_time = waiting_time # define simple rate_limit parameter.\n",
    "    ## not implemented here, if you use selenium.\n",
    "    if connector_type=='selenium':\n",
    "      assert path2selenium!='', \"You need to specify the path to you geckodriver if you want to use Selenium\"\n",
    "      from selenium import webdriver \n",
    "      ## HIN download the latest geckodriver here: https://github.com/mozilla/geckodriver/releases\n",
    "\n",
    "      assert os.path.isfile(path2selenium),'You need to insert a valid path2selenium the path to your geckodriver. You can download the latest geckodriver here: https://github.com/mozilla/geckodriver/releases'\n",
    "      self.browser = webdriver.Firefox(executable_path=path2selenium) # start the browser with a path to the geckodriver.\n",
    "\n",
    "    self.connector_type = connector_type # set the connector_type\n",
    "    \n",
    "    if session: # set the custom session\n",
    "      self.session = session\n",
    "    else:\n",
    "      self.session = requests.session()\n",
    "    self.logfilename = logfile # set the logfile path\n",
    "    ## define header for the logfile\n",
    "    header = ['id','project','connector_type','t', 'delta_t', 'url', 'redirect_url','response_size', 'response_code','success','error']\n",
    "    if os.path.isfile(logfile):        \n",
    "      if overwrite_log==True:\n",
    "        self.log = open(logfile,'w')\n",
    "        self.log.write(';'.join(header))\n",
    "      else:\n",
    "        self.log = open(logfile,'a')\n",
    "    else:\n",
    "      self.log = open(logfile,'w')\n",
    "      self.log.write(';'.join(header))\n",
    "    ## load log \n",
    "    with open(logfile,'r') as f: # open file\n",
    "        \n",
    "      l = f.read().split('\\n') # read and split file by newlines.\n",
    "      ## set id\n",
    "      if len(l)<=1:\n",
    "        self.id = 0\n",
    "      else:\n",
    "        self.id = int(l[-1][0])+1\n",
    "            \n",
    "  def get(self,url,project_name):\n",
    "    \"\"\"Method for connector reliably to the internet, with multiple tries and simple error handling, as well as default logging function.\n",
    "    Input url and the project name for the log (i.e. is it part of mapping the domain, or is it the part of the final stage in the data collection).\n",
    "    \n",
    "    Keyword arguments:\n",
    "    url -- str, url\n",
    "    project_name -- str, Name used for analyzing the log. Use case could be the 'Mapping of domain','Meta_data_collection','main data collection'. \n",
    "    \"\"\"\n",
    "     \n",
    "    project_name = project_name.replace(';','-') # make sure the default csv seperator is not in the project_name.\n",
    "    if self.connector_type=='requests': # Determine connector method.\n",
    "      for _ in range(self.n_tries): # for loop defining number of retries with the requests method.\n",
    "        ratelimit(self.waiting_time)\n",
    "        t = time.time()\n",
    "        try: # error handling \n",
    "          response = self.session.get(url,timeout = self.timeout) # make get call\n",
    "\n",
    "          err = '' # define python error variable as empty assumming success.\n",
    "          success = True # define success variable\n",
    "          redirect_url = response.url # log current url, after potential redirects \n",
    "          dt = t - time.time() # define delta-time waiting for the server and downloading content.\n",
    "          size = len(response.text) # define variable for size of html content of the response.\n",
    "          response_code = response.status_code # log status code.\n",
    "          ## log...\n",
    "          call_id = self.id # get current unique identifier for the call\n",
    "          self.id+=1 # increment call id\n",
    "          #['id','project_name','connector_type','t', 'delta_t', 'url', 'redirect_url','response_size', 'response_code','success','error']\n",
    "          row = [call_id,project_name,self.connector_type,t,dt,url,redirect_url,size,response_code,success,err] # define row to be written in the log.\n",
    "          self.log.write('\\n'+';'.join(map(str,row))) # write log.\n",
    "          self.log.flush()\n",
    "          return response,call_id # return response and unique identifier.\n",
    "\n",
    "        except Exception as e: # define error condition\n",
    "          err = str(e) # python error\n",
    "          response_code = '' # blank response code \n",
    "          success = False # call success = False\n",
    "          size = 0 # content is empty.\n",
    "          redirect_url = '' # redirect url empty \n",
    "          dt = t - time.time() # define delta t\n",
    "\n",
    "          ## log...\n",
    "          call_id = self.id # define unique identifier\n",
    "          self.id+=1 # increment call_id\n",
    "\n",
    "          row = [call_id,project_name,self.connector_type,t,dt,url,redirect_url,size,response_code,success,err] # define row\n",
    "          self.log.write('\\n'+';'.join(map(str,row))) # write row to log.\n",
    "          self.log.flush()\n",
    "    else:\n",
    "      t = time.time()\n",
    "      ratelimit(self.waiting_time)\n",
    "      self.browser.get(url) # use selenium get method\n",
    "      ## log\n",
    "      call_id = self.id # define unique identifier for the call. \n",
    "      self.id+=1 # increment the call_id\n",
    "      err = '' # blank error message\n",
    "      success = '' # success blank\n",
    "      redirect_url = self.browser.current_url # redirect url.\n",
    "      dt = t - time.time() # get time for get method ... NOTE: not necessarily the complete load time.\n",
    "      size = len(self.browser.page_source) # get size of content ... NOTE: not necessarily correct, since selenium works in the background, and could still be loading.\n",
    "      response_code = '' # empty response code.\n",
    "      row = [call_id,project_name,self.connector_type,t,dt,url,redirect_url,size,response_code,success,err] # define row \n",
    "      self.log.write('\\n'+';'.join(map(str,row))) # write row to log file.\n",
    "      self.log.flush()\n",
    "    # Using selenium it will not return a response object, instead you should call the browser object of the connector.\n",
    "    ## connector.browser.page_source will give you the html.\n",
    "      return None,call_id"
   ]
  },
  {
   "cell_type": "markdown",
   "metadata": {},
   "source": [
    "# Session 10\n",
    "## Scraping 2 - Parsing\n",
    "*Snorre Ralund*"
   ]
  },
  {
   "cell_type": "markdown",
   "metadata": {},
   "source": [
    "Yesterday I gave you some powerful tricks. Tricks that will work when the data is already shipped in a neat format. However this is not the rule. Today we shall learn the art of parsing unstructured text and a more principled and advanced method of parsing HTML.\n",
    "\n",
    "This will help you build ***custom datasets*** within just a few hours or days work, that would have taken ***months*** to curate and clean manually."
   ]
  },
  {
   "cell_type": "markdown",
   "metadata": {},
   "source": [
    "## Agenda\n",
    "### Storing\n",
    "- for **replicability** and **data quality** \n",
    "- reading and writing of files.\n",
    "\n",
    "\n",
    "**Parsing and cleaning raw data** \n",
    "\n",
    "HTML\n",
    "* Understanding the basics of HTML syntax.\n",
    "* Traversing and Navigating HTML trees using BeautifulSoup. Examples include: \n",
    "    * Extracting Text from HTML, \n",
    "    * Extracting Tables, \n",
    "    * Parsing of \"unknown\" structures.\n",
    "_________________________\n",
    "Raw Text\n",
    "* Learning the of Regular Expressions for extracting patterns in strings. \n",
    "    * Very valuable when cleaning and validating data, and for information extraction from raw text.\n",
    "\n",
    "_________________________\n"
   ]
  },
  {
   "cell_type": "markdown",
   "metadata": {},
   "source": [
    "# Sidestep(1): APIS\n",
    "- Do not look for the backdoor if there is a front.\n",
    "    - Use the API if provided.\n",
    "\n",
    "\n",
    "- Create a developer account. \n",
    "- Learn how to Authenticate.\n",
    "    - Read the docs. \n",
    "- Construct your queries\n",
    "\n",
    "**Examples**\n",
    "- Twitter, YouTube, Reddit, Facebook, Github, Stackexchange and many more...\n",
    "- Google Translate, Transcribe and ML APIS\n"
   ]
  },
  {
   "cell_type": "markdown",
   "metadata": {},
   "source": [
    "# Sidestep(2): Interactions and Automated Browsing\n",
    "Sometimes scraping tasks demand interactions (e.g. login, scrolling, clicking), and a no XHR data can be found easily, so you need the browser to execute the scripts before you can get the data.\n",
    "\n",
    "Here we use the `Selenium` package in combination with the `geckodriver` - download the latest release [here](download the latest geckodriver here: https://github.com/mozilla/geckodriver/releases). It allows you to animate a browser. I won't go into detail here, but just wanted to mention it. \n",
    "\n",
    "Installation (and maintainance of compatability) can be a little tough, but instead of trawling through crazy stackoverflow threads about your Issue, my experience tells me that downloaded the latest release, and installing the latest selenium version is always the cure."
   ]
  },
  {
   "cell_type": "code",
   "execution_count": 4,
   "metadata": {},
   "outputs": [],
   "source": [
    "\n",
    "from selenium import webdriver\n",
    "## download the latest geckodriver here: https://github.com/mozilla/geckodriver/releases\n",
    "path2gecko = './geckodriver' # define path to your geckodriver\n",
    "browser = webdriver.Firefox(executable_path=path2gecko) # start the browser with a path to the geckodriver.\n",
    "browser.get('https://www.google.com') # opens a webpage using the browser objects get method."
   ]
  },
  {
   "cell_type": "markdown",
   "metadata": {
    "slideshow": {
     "slide_type": "slide"
    }
   },
   "source": [
    "## The HTML Tree\n",
    "HTML has a Tree structure. \n",
    "\n",
    "Each node in the tree has:\n",
    "        - Children, siblings, parents - descendants. \n",
    "        - Ids and attributes\n",
    "\n",
    "<img src=\"http://www.openbookproject.net/tutorials/getdown/css/images/lesson4/HTMLDOMTree.png\"/>\n"
   ]
  },
  {
   "cell_type": "markdown",
   "metadata": {},
   "source": [
    "## Important syntax and patterns\n",
    "_______________\n",
    "```html \n",
    "<p>The p tag indicates a paragraph <p/>\n",
    "```\n",
    "_______________\n",
    "```html \n",
    "<b>The b tag makes the text bold, giving us a clue to its importance </b>\n",
    "```\n",
    "output: <b>The b tag makes the text bold, giving us a clue to its importance </b>\n",
    "```html \n",
    "The <strong>tag</strong> makes the text bold, giving us a clue to its importance\n",
    "```\n",
    "\n",
    "output: The <strong>tag</strong> makes the text bold, giving us a clue to its importance\n",
    "\n",
    "```html \n",
    "<em>The em tag emphasize the text</em>, giving us a clue to its importance\n",
    "```\n",
    "\n",
    "output: <em>The em tag makes emphasize the text</em>, giving us a clue to its importance\n",
    "\n",
    "___________\n",
    "```html \n",
    "<h1>h1</h1><h2>h2</h2><h2>h3</h3><b>Headers give similar clues</b>\n",
    "```\n",
    "output:\n",
    "<h1>h1</h1><h2>h2</h2><h3>h3</h3><b>Headers give similar clues</b>\n",
    "_________________\n",
    "```html \n",
    "<a href=\"www.google.com\">The a tag creates a hyperlink <a/>\n",
    "```\n",
    "output: <a href=\"www.google.com\">The a tag creates a hyperlink <a/>\n",
    "_____________\n",
    "Finally you have the terrible and confusing iframe: \n",
    "```html\n",
    " <iframe src=\"https://www.google.com\"></iframe>\n",
    "```\n",
    "_________________"
   ]
  },
  {
   "cell_type": "markdown",
   "metadata": {
    "slideshow": {
     "slide_type": "subslide"
    }
   },
   "source": [
    "## How do we find our way around this tree?\n",
    "* extracting string patterns using .split and regular expresssions as we did yesterday.\n",
    "* Specifying paths using css-selectors,xpath syntax. \n",
    "* A more powerful and principled (+readable) way is to use the ```python``` module ```BeautifulSoup``` to parse and traverse the tree."
   ]
  },
  {
   "cell_type": "markdown",
   "metadata": {
    "slideshow": {
     "slide_type": "slide"
    }
   },
   "source": [
    "### Selectors \n",
    "Define a unique path to an element in the HTML tree.\n",
    "- quick but has to be hardcoded and also more likely to break.\n"
   ]
  },
  {
   "cell_type": "code",
   "execution_count": 5,
   "metadata": {
    "slideshow": {
     "slide_type": "fragment"
    }
   },
   "outputs": [
    {
     "ename": "WebDriverException",
     "evalue": "Message: Failed to decode response from marionette\n",
     "output_type": "error",
     "traceback": [
      "\u001b[0;31m---------------------------------------------------------------------------\u001b[0m",
      "\u001b[0;31mWebDriverException\u001b[0m                        Traceback (most recent call last)",
      "\u001b[0;32m<ipython-input-5-393c8ec18c37>\u001b[0m in \u001b[0;36m<module>\u001b[0;34m\u001b[0m\n\u001b[1;32m      1\u001b[0m \u001b[0;31m# selenium example\u001b[0m\u001b[0;34m\u001b[0m\u001b[0;34m\u001b[0m\u001b[0;34m\u001b[0m\u001b[0m\n\u001b[0;32m----> 2\u001b[0;31m \u001b[0mbrowser\u001b[0m\u001b[0;34m.\u001b[0m\u001b[0mget\u001b[0m\u001b[0;34m(\u001b[0m\u001b[0;34m'https://www.facebook.com'\u001b[0m\u001b[0;34m)\u001b[0m\u001b[0;34m\u001b[0m\u001b[0;34m\u001b[0m\u001b[0m\n\u001b[0m\u001b[1;32m      3\u001b[0m \u001b[0;31m# find login button.\u001b[0m\u001b[0;34m\u001b[0m\u001b[0;34m\u001b[0m\u001b[0;34m\u001b[0m\u001b[0m\n\u001b[1;32m      4\u001b[0m \u001b[0;34m\u001b[0m\u001b[0m\n\u001b[1;32m      5\u001b[0m \u001b[0;31m# define username\u001b[0m\u001b[0;34m\u001b[0m\u001b[0;34m\u001b[0m\u001b[0;34m\u001b[0m\u001b[0m\n",
      "\u001b[0;32m~/bin/anaconda3/lib/python3.7/site-packages/selenium/webdriver/remote/webdriver.py\u001b[0m in \u001b[0;36mget\u001b[0;34m(self, url)\u001b[0m\n\u001b[1;32m    331\u001b[0m         \u001b[0mLoads\u001b[0m \u001b[0ma\u001b[0m \u001b[0mweb\u001b[0m \u001b[0mpage\u001b[0m \u001b[0;32min\u001b[0m \u001b[0mthe\u001b[0m \u001b[0mcurrent\u001b[0m \u001b[0mbrowser\u001b[0m \u001b[0msession\u001b[0m\u001b[0;34m.\u001b[0m\u001b[0;34m\u001b[0m\u001b[0;34m\u001b[0m\u001b[0m\n\u001b[1;32m    332\u001b[0m         \"\"\"\n\u001b[0;32m--> 333\u001b[0;31m         \u001b[0mself\u001b[0m\u001b[0;34m.\u001b[0m\u001b[0mexecute\u001b[0m\u001b[0;34m(\u001b[0m\u001b[0mCommand\u001b[0m\u001b[0;34m.\u001b[0m\u001b[0mGET\u001b[0m\u001b[0;34m,\u001b[0m \u001b[0;34m{\u001b[0m\u001b[0;34m'url'\u001b[0m\u001b[0;34m:\u001b[0m \u001b[0murl\u001b[0m\u001b[0;34m}\u001b[0m\u001b[0;34m)\u001b[0m\u001b[0;34m\u001b[0m\u001b[0;34m\u001b[0m\u001b[0m\n\u001b[0m\u001b[1;32m    334\u001b[0m \u001b[0;34m\u001b[0m\u001b[0m\n\u001b[1;32m    335\u001b[0m     \u001b[0;34m@\u001b[0m\u001b[0mproperty\u001b[0m\u001b[0;34m\u001b[0m\u001b[0;34m\u001b[0m\u001b[0m\n",
      "\u001b[0;32m~/bin/anaconda3/lib/python3.7/site-packages/selenium/webdriver/remote/webdriver.py\u001b[0m in \u001b[0;36mexecute\u001b[0;34m(self, driver_command, params)\u001b[0m\n\u001b[1;32m    319\u001b[0m         \u001b[0mresponse\u001b[0m \u001b[0;34m=\u001b[0m \u001b[0mself\u001b[0m\u001b[0;34m.\u001b[0m\u001b[0mcommand_executor\u001b[0m\u001b[0;34m.\u001b[0m\u001b[0mexecute\u001b[0m\u001b[0;34m(\u001b[0m\u001b[0mdriver_command\u001b[0m\u001b[0;34m,\u001b[0m \u001b[0mparams\u001b[0m\u001b[0;34m)\u001b[0m\u001b[0;34m\u001b[0m\u001b[0;34m\u001b[0m\u001b[0m\n\u001b[1;32m    320\u001b[0m         \u001b[0;32mif\u001b[0m \u001b[0mresponse\u001b[0m\u001b[0;34m:\u001b[0m\u001b[0;34m\u001b[0m\u001b[0;34m\u001b[0m\u001b[0m\n\u001b[0;32m--> 321\u001b[0;31m             \u001b[0mself\u001b[0m\u001b[0;34m.\u001b[0m\u001b[0merror_handler\u001b[0m\u001b[0;34m.\u001b[0m\u001b[0mcheck_response\u001b[0m\u001b[0;34m(\u001b[0m\u001b[0mresponse\u001b[0m\u001b[0;34m)\u001b[0m\u001b[0;34m\u001b[0m\u001b[0;34m\u001b[0m\u001b[0m\n\u001b[0m\u001b[1;32m    322\u001b[0m             response['value'] = self._unwrap_value(\n\u001b[1;32m    323\u001b[0m                 response.get('value', None))\n",
      "\u001b[0;32m~/bin/anaconda3/lib/python3.7/site-packages/selenium/webdriver/remote/errorhandler.py\u001b[0m in \u001b[0;36mcheck_response\u001b[0;34m(self, response)\u001b[0m\n\u001b[1;32m    240\u001b[0m                 \u001b[0malert_text\u001b[0m \u001b[0;34m=\u001b[0m \u001b[0mvalue\u001b[0m\u001b[0;34m[\u001b[0m\u001b[0;34m'alert'\u001b[0m\u001b[0;34m]\u001b[0m\u001b[0;34m.\u001b[0m\u001b[0mget\u001b[0m\u001b[0;34m(\u001b[0m\u001b[0;34m'text'\u001b[0m\u001b[0;34m)\u001b[0m\u001b[0;34m\u001b[0m\u001b[0;34m\u001b[0m\u001b[0m\n\u001b[1;32m    241\u001b[0m             \u001b[0;32mraise\u001b[0m \u001b[0mexception_class\u001b[0m\u001b[0;34m(\u001b[0m\u001b[0mmessage\u001b[0m\u001b[0;34m,\u001b[0m \u001b[0mscreen\u001b[0m\u001b[0;34m,\u001b[0m \u001b[0mstacktrace\u001b[0m\u001b[0;34m,\u001b[0m \u001b[0malert_text\u001b[0m\u001b[0;34m)\u001b[0m\u001b[0;34m\u001b[0m\u001b[0;34m\u001b[0m\u001b[0m\n\u001b[0;32m--> 242\u001b[0;31m         \u001b[0;32mraise\u001b[0m \u001b[0mexception_class\u001b[0m\u001b[0;34m(\u001b[0m\u001b[0mmessage\u001b[0m\u001b[0;34m,\u001b[0m \u001b[0mscreen\u001b[0m\u001b[0;34m,\u001b[0m \u001b[0mstacktrace\u001b[0m\u001b[0;34m)\u001b[0m\u001b[0;34m\u001b[0m\u001b[0;34m\u001b[0m\u001b[0m\n\u001b[0m\u001b[1;32m    243\u001b[0m \u001b[0;34m\u001b[0m\u001b[0m\n\u001b[1;32m    244\u001b[0m     \u001b[0;32mdef\u001b[0m \u001b[0m_value_or_default\u001b[0m\u001b[0;34m(\u001b[0m\u001b[0mself\u001b[0m\u001b[0;34m,\u001b[0m \u001b[0mobj\u001b[0m\u001b[0;34m,\u001b[0m \u001b[0mkey\u001b[0m\u001b[0;34m,\u001b[0m \u001b[0mdefault\u001b[0m\u001b[0;34m)\u001b[0m\u001b[0;34m:\u001b[0m\u001b[0;34m\u001b[0m\u001b[0;34m\u001b[0m\u001b[0m\n",
      "\u001b[0;31mWebDriverException\u001b[0m: Message: Failed to decode response from marionette\n"
     ]
    }
   ],
   "source": [
    "# selenium example\n",
    "browser.get('https://www.facebook.com')\n",
    "# find login button.\n",
    "\n",
    "# define username\n",
    "\n",
    "# define password\n",
    "\n",
    "# click on the submit button"
   ]
  },
  {
   "cell_type": "markdown",
   "metadata": {},
   "source": [
    "## Parsing HTML with BeautifulSoup\n",
    "BeautifulSoup makes the html tree navigable. \n",
    "It allows you to:\n",
    "    * Search for elements by tag name and/or by attribute.\n",
    "    * Iterate through them, go up, sideways or down the tree.\n",
    "    * Furthermore it helps you with standard tasks such as extracting raw text from html,\n",
    "    which would be a very tedious task if you had to hardcode it using `.split` commands and using your own regular expressions will be unstable."
   ]
  },
  {
   "cell_type": "code",
   "execution_count": 6,
   "metadata": {},
   "outputs": [],
   "source": [
    "# scraping newspaper articles example.\n",
    "connector = Connector('log_sds_lecture10.csv')\n",
    "url = 'https://www.theguardian.com/us-news/2019/aug/14/taco-eating-contest-death-fresno-california'\n",
    "response,call_id = connector.get(url,'test_call')\n",
    "html = response.text"
   ]
  },
  {
   "cell_type": "code",
   "execution_count": 7,
   "metadata": {},
   "outputs": [],
   "source": [
    "from bs4 import BeautifulSoup\n",
    "soup = BeautifulSoup(html,'lxml') # parse the raw html using BeautifoulSoup"
   ]
  },
  {
   "cell_type": "code",
   "execution_count": 8,
   "metadata": {},
   "outputs": [
    {
     "data": {
      "text/plain": [
       "['#maincontent',\n",
       " 'https://www.theguardian.com/international',\n",
       " 'https://support.theguardian.com/contribute?INTCMP=header_support_contribute&acquisitionData=%7B%22source%22:%22GUARDIAN_WEB%22,%22componentType%22:%22ACQUISITIONS_HEADER%22,%22componentId%22:%22header_support_contribute%22%7D',\n",
       " 'https://support.theguardian.com/subscribe?INTCMP=header_support_subscribe&acquisitionData=%7B%22source%22:%22GUARDIAN_WEB%22,%22componentType%22:%22ACQUISITIONS_HEADER%22,%22componentId%22:%22header_support_subscribe%22%7D',\n",
       " 'https://support.theguardian.com/contribute?INTCMP=header_support_contribute&acquisitionData=%7B%22source%22:%22GUARDIAN_WEB%22,%22componentType%22:%22ACQUISITIONS_HEADER%22,%22componentId%22:%22header_support_contribute%22%7D']"
      ]
     },
     "execution_count": 8,
     "metadata": {},
     "output_type": "execute_result"
    }
   ],
   "source": [
    "# extract hyperlinks\n",
    "links = soup.find_all('a') # find all a tags -connoting a hyperlink.\n",
    "[link['href'] for link in links if link.has_attr('href')][0:5] # unpack the hyperlink from the a nodes."
   ]
  },
  {
   "cell_type": "code",
   "execution_count": 9,
   "metadata": {},
   "outputs": [
    {
     "name": "stdout",
     "output_type": "stream",
     "text": [
      "content__headline : Man dies after taco-eating contest in California\n"
     ]
    }
   ],
   "source": [
    "headline = soup.find('h1') # search for the first headline: h1 tag. \n",
    "name = headline['class'][0].strip() # use the class attribute name as column name.\n",
    "value = headline.text.strip() # extract text using build in method.\n",
    "print(name,':',value)"
   ]
  },
  {
   "cell_type": "code",
   "execution_count": 10,
   "metadata": {},
   "outputs": [],
   "source": [
    "article_text = soup.find('div',{'class':'content__article-body from-content-api js-article__body'}).text # find the content."
   ]
  },
  {
   "cell_type": "markdown",
   "metadata": {},
   "source": [
    "Say we are interested in how articles cite sources to back up their story i.e. their hyperlink behaviour within the article, and we want to see if the media has changed their behaviour.\n",
    "\n",
    "We know how to search for links. But the cool part is that we can search from anywhere in the HTML tree. This means that once we have located the article content node - as above - we can search from there. This results in hyperlinks used within the article text.\n"
   ]
  },
  {
   "cell_type": "code",
   "execution_count": 11,
   "metadata": {},
   "outputs": [],
   "source": [
    "# find the article_content node\n",
    "article_content = soup.find('div',{'class':'content__article-body from-content-api js-article__body'})\n",
    "# find citations within the article content.\n",
    "citations = article_content.find_all('a')"
   ]
  },
  {
   "cell_type": "code",
   "execution_count": 12,
   "metadata": {},
   "outputs": [],
   "source": [
    "citation_links = [] # define container to the hyperlinks\n",
    "for citation in citations: # iterate through each citation node\n",
    "    if citation.has_attr('data-link-name'): # check if it has the right attribute\n",
    "        if citation['data-link-name'] =='in body link': # and if the value of that attribute is correct\n",
    "            #print(citation['href'])\n",
    "            citation_links.append(citation['href']) #  add link to the container"
   ]
  },
  {
   "cell_type": "markdown",
   "metadata": {},
   "source": [
    "## Scraping without hardcoding every element to collect.  \n",
    "### Hands-on example: Continuing the Cryptomarket scrape. \n",
    "When scraping a large and diverse website or even crawling many different, it can be useful to design more generic parsing schemes, were you haven't seen all elements you want to keep before hand. In the following example I demonstrate a simple example of this.\n",
    "\n",
    "Imagine we wanted data on the Cryptomarkets:\n",
    "* Go to the front page of a [Cryptomarket page](https://coinmarketcap.com). Looking in the **>Network Monitor<** we find a XHR file (helping their search function) containing links to Cryptocoin. Now we have the link to each page we want to visit. \n",
    "\n",
    "Visit this example: http://coinmarketcap.com/currencies/ethereum/\n",
    "\n",
    "Yesterday we saw how to find the XHR file with the underlying data behind the Chart. Now we want all the metadata displayed. \n",
    "\n",
    "Using the inspector we find that the information we want is located by a node tagged with `ul` - *\"unordered list\"* tag - with the defining class attribute *'list-unstyled details-panel-item--links'*. And the information is located in the `li` tag *\"list item\"*.\n",
    "\n",
    "First we locate this node using the `find` method. \n"
   ]
  },
  {
   "cell_type": "code",
   "execution_count": 14,
   "metadata": {},
   "outputs": [],
   "source": [
    "url = 'https://coinmarketcap.com/currencies/ethereum/' # define the example url\n",
    "response, c = connector.get(url,'crypto_mapping') # \n",
    "soup = BeautifulSoup(response.text,'lxml') # parse the HTML"
   ]
  },
  {
   "cell_type": "code",
   "execution_count": 15,
   "metadata": {},
   "outputs": [],
   "source": [
    "list_node = soup.find('ul',{'class':'list-unstyled details-panel-item--links'}) # search for the ul node"
   ]
  },
  {
   "cell_type": "markdown",
   "metadata": {},
   "source": [
    "Now starting from this list_node, we can search for each list item - li node, using the find_all method."
   ]
  },
  {
   "cell_type": "code",
   "execution_count": 16,
   "metadata": {},
   "outputs": [],
   "source": [
    "list_items = list_node.find_all('li') # search for all list elements children of the list_node "
   ]
  },
  {
   "cell_type": "markdown",
   "metadata": {},
   "source": [
    "From this we extract the information. Without having to hardcode all extractions we exploit that each html node has a attribute ('title'). We can therefore just loop through each node, extracting the title attribute and the text. ***-- This furthermore allows us to scrape content we did not know was there.***\n",
    "\n",
    "We use the title as the key in the dictionary. The value we are interested in two things, either the *hyperlink*, or the the *text* on display."
   ]
  },
  {
   "cell_type": "code",
   "execution_count": 17,
   "metadata": {},
   "outputs": [
    {
     "data": {
      "text/plain": [
       "{'Rank': 'Rank 2',\n",
       " 'Website': 'https://www.ethereum.org/',\n",
       " 'Announcement': 'https://bitcointalk.org/index.php?topic=428589.0',\n",
       " 'Explorer': 'https://blockchain.coinmarketcap.com/chain/ethereum',\n",
       " 'Message Board': 'https://forum.ethereum.org/',\n",
       " 'Chat': 'https://gitter.im/orgs/ethereum/rooms',\n",
       " 'Source Code': 'https://github.com/ethereum',\n",
       " 'Technical Documentation': 'https://github.com/ethereum/wiki/wiki/White-Paper',\n",
       " 'Tags': 'Coin\\nMineable'}"
      ]
     },
     "execution_count": 17,
     "metadata": {},
     "output_type": "execute_result"
    }
   ],
   "source": [
    "d = {} # defining our container\n",
    "for list_item in list_items:\n",
    "    key = list_item.span['title'] # attributes of a node can be fetched with dictionary-like syntax.\n",
    "    if list_item.a!=None: # check if the node has a hyperlink.\n",
    "        value = list_item.a['href'] # list_item.a ==list_item.find('a') returns the first node found.\n",
    "    else:\n",
    "        value = list_item.text.strip()\n",
    "    d[key] = value\n",
    "d"
   ]
  },
  {
   "cell_type": "code",
   "execution_count": 280,
   "metadata": {},
   "outputs": [
    {
     "data": {
      "text/plain": [
       "'ethereum'"
      ]
     },
     "execution_count": 280,
     "metadata": {},
     "output_type": "execute_result"
    }
   ],
   "source": [
    "\n",
    "\n",
    "d['Source Code'],d['Source Code'].split('/')[-1]\n"
   ]
  },
  {
   "cell_type": "markdown",
   "metadata": {},
   "source": [
    "## Storage\n",
    "** For quality** \n",
    "- interactive process of improvements.\n",
    "- quality assessment based on the log is easier with the raw html responses stored.\n",
    "\n",
    "**For replicability**\n",
    "- documentation and transparancy"
   ]
  },
  {
   "cell_type": "code",
   "execution_count": 53,
   "metadata": {
    "collapsed": true
   },
   "outputs": [],
   "source": [
    "# start by defining a Project name\n",
    "project = 'erc_funding'\n",
    "import os # generel package for interacting with the system\n",
    "### among other things automate folder creation\n",
    "import os\n",
    "## create folder\n",
    "if not os.path.isdir(project):    # check if folder exist\n",
    "    os.mkdir(project)\n",
    "\n",
    "subfolders = ['/mapping','/raw_data','/parsed_data']\n",
    "\n",
    "for directory in subfolders: \n",
    "    if not os.path.isdir(directory):\n",
    "        os.mkdir(project+directory) # create subfolders\n"
   ]
  },
  {
   "cell_type": "markdown",
   "metadata": {},
   "source": [
    "## Reading and Writing\n",
    "\n",
    "### Text Encoding - from 0's and 1's to signs and letters.\n",
    "\n",
    "- utf-8 \n",
    "    - Most widely used standard that also handles emojiis \n",
    "- but others are also used so we need to be aware."
   ]
  },
  {
   "cell_type": "code",
   "execution_count": 55,
   "metadata": {
    "collapsed": true
   },
   "outputs": [],
   "source": [
    "# use the codecs module instead of open\n",
    "##f = open('testfile','w')\n",
    "import codecs\n",
    "f = codecs.open('testfile','w','utf-8') # open command with a specified encoding.\n",
    "f.write('😋 😎 😍 ')"
   ]
  },
  {
   "cell_type": "markdown",
   "metadata": {},
   "source": [
    "### if encoding error happens anyways use the `ftfy`-package"
   ]
  },
  {
   "cell_type": "code",
   "execution_count": 43,
   "metadata": {
    "collapsed": true
   },
   "outputs": [],
   "source": [
    "with open('encodingerror','w') as f:\n",
    "    f.write('æøåáé'.encode('utf-8').decode('latin1'))"
   ]
  },
  {
   "cell_type": "code",
   "execution_count": 45,
   "metadata": {},
   "outputs": [
    {
     "name": "stdout",
     "output_type": "stream",
     "text": [
      "Ã¦Ã¸Ã¥Ã¡Ã©\n",
      "æøåáé\n"
     ]
    }
   ],
   "source": [
    "import ftfy\n",
    "with open('encodingerror','r') as f:\n",
    "    \n",
    "    s = f.read()\n",
    "    print(s) # print the encoding error\n",
    "    print(ftfy.fix_text(s)) ## ftfy fixes the encoding error"
   ]
  },
  {
   "cell_type": "markdown",
   "metadata": {},
   "source": [
    "## Storage formats\n",
    "- json\n",
    "     - Works as a dictionary (almost). Good for adding metadata to each data point\n",
    "- multiple stacked json files.\n",
    "    - json strings seperated by e.g. '\\n\\r'. \n",
    "    - Good for large projects"
   ]
  },
  {
   "cell_type": "markdown",
   "metadata": {},
   "source": [
    "## Reading and Writing files from a folder"
   ]
  },
  {
   "cell_type": "markdown",
   "metadata": {},
   "source": [
    "### ERC example\n",
    "Imagine we wanted to analyze whether the European funding behaviour was biased towards certain countries and gender. We might decide to scrape who has received funding from the ERC.\n",
    "https://erc.europa.eu/\n",
    "\n",
    "* First we figure find navigate the grant listings.\n",
    "* Next we figure out how to page these results. \n",
    "* And finally we want to grab the information.\n"
   ]
  },
  {
   "cell_type": "code",
   "execution_count": 196,
   "metadata": {},
   "outputs": [
    {
     "data": {
      "application/vnd.jupyter.widget-view+json": {
       "model_id": "42362d512ffb47928fd578cdc943da1d"
      }
     },
     "metadata": {},
     "output_type": "display_data"
    },
    {
     "name": "stdout",
     "output_type": "stream",
     "text": [
      "\n"
     ]
    }
   ],
   "source": [
    "from tqdm import tqdm_notebook as tqdm # Module for tracking progress. conda install -c conda-forge tqdm\n",
    "connector = Connector('erc_log.csv',overwrite_log=True)\n",
    "\n",
    "base_url = 'https://erc.europa.eu/projects-figures/erc-funded-projects/results?items_per_page=100&search_api_views_fulltext=&'\n",
    "n_pages = 10004//100+1\n",
    "for i in tqdm(range(0,n_pages)):\n",
    "    # define the url\n",
    "    url = base_url+'page=%d'%i\n",
    "    # download the url\n",
    "    response,call_id = connector.get(url,'erc_mapping')\n",
    "        \n",
    "    ## dump the raw html response\n",
    "    file_path = project+'/mapping'+'/%d'%call_id\n",
    "    with codecs.open(file_path,'w','utf-8') as f:\n",
    "        f.write(response.text)"
   ]
  },
  {
   "cell_type": "markdown",
   "metadata": {},
   "source": [
    "## Parsing the results"
   ]
  },
  {
   "cell_type": "code",
   "execution_count": 197,
   "metadata": {},
   "outputs": [
    {
     "name": "stdout",
     "output_type": "stream",
     "text": [
      "101\n"
     ]
    }
   ],
   "source": [
    "## First we list the files\n",
    "import os\n",
    "path = project+'/mapping/'\n",
    "files = [path+filename for filename in os.listdir(path)]\n",
    "print(len(files))"
   ]
  },
  {
   "cell_type": "code",
   "execution_count": 198,
   "metadata": {},
   "outputs": [
    {
     "data": {
      "text/plain": [
       "'erc_funding/mapping/25'"
      ]
     },
     "execution_count": 198,
     "metadata": {},
     "output_type": "execute_result"
    }
   ],
   "source": [
    "## Start with a random page and create a parsing scheme\n",
    "import random \n",
    "filename = random.choice(files)\n",
    "filename"
   ]
  },
  {
   "cell_type": "code",
   "execution_count": 61,
   "metadata": {
    "collapsed": true
   },
   "outputs": [],
   "source": [
    "## read the file\n",
    "with codecs.open(filename,'r','utf-8') as f:\n",
    "    html = f.read()"
   ]
  },
  {
   "cell_type": "code",
   "execution_count": 73,
   "metadata": {
    "collapsed": true
   },
   "outputs": [],
   "source": [
    "## load the raw html into a Beautifulsoup object\n",
    "from bs4 import BeautifulSoup\n",
    "import bs4"
   ]
  },
  {
   "cell_type": "code",
   "execution_count": 199,
   "metadata": {
    "collapsed": true
   },
   "outputs": [],
   "source": [
    "import pandas as pd\n",
    "def parse_erc(filename):\n",
    "    # read the file\n",
    "    with codecs.open(filename,'r','utf-8') as f:\n",
    "        html = f.read()\n",
    "    # turn raw string into a navigable html tree.\n",
    "    soup = BeautifulSoup(html,'lxml')\n",
    "    # find result list.\n",
    "    result_list = soup.find('div',{'class':'view-content'}) # find elements using tag name and class attribute\n",
    "    # loop through the \"children\" nodes of the result list node.\n",
    "    data = [] # define container for the parsed datapoints\n",
    "    for child in result_list.children:\n",
    "        if type(child)==bs4.NavigableString: #check if it is a string or a html node. \n",
    "            continue # If it is a string the next part of the loop will be skipped.\n",
    "            \n",
    "        # the \"child\" is now the node containing the ERC research project information.\n",
    "        ## structured as a pseudo table with rows containing a title and a value. \n",
    "        # define datapoint container\n",
    "        d = {}\n",
    "        # iterate through the content of the \"pseudo\" table.\n",
    "        for grand_child in child.children:\n",
    "            if type(grand_child)==bs4.NavigableString:\n",
    "                continue # same procedure\n",
    "            # use the span tag as separator between the column name and the value.\n",
    "            spans = grand_child.findAll('span')\n",
    "            # setup two different conditions.\n",
    "            if len(spans)==2:\n",
    "                key,value = spans\n",
    "            else: # special case.\n",
    "                key,value = [i for i in list(grand_child.find('span').children) if not type(i)==bs4.NavigableString]\n",
    "            # add the datapoint to the it to the data container `d`\n",
    "            d[key.text] = value.text # get the text of the two nodes using the object specific method .text        \n",
    "            # Using the strong tag to find Founding amount in the raw summary text.\n",
    "            ### The strong tag is a general heuristic.\n",
    "            strong = grand_child.findAll('strong') # using the findAll method to locate the text marked with the 'strong' tag \n",
    "            if len(strong)>0: # check if node contains the strong tag.\n",
    "                for node in strong: # if so iterate through it.\n",
    "                    key = node.text # get the text\n",
    "                    value = str(node.next.next) # get the value using the heuristic that \n",
    "    #                print(key,node.next,value)\n",
    "                    d[key] = value\n",
    "        # clean values for whitespace\n",
    "        d = {key:value.strip() for key,value in d.items()}\n",
    "        # add meta data for merging with the log\n",
    "        d['filename'] = filename\n",
    "        data.append(d) # append it to the data container.\n",
    "    # convert to dataframe\n",
    "    df = pd.DataFrame(data)\n",
    "    return df\n",
    "\n"
   ]
  },
  {
   "cell_type": "code",
   "execution_count": 200,
   "metadata": {},
   "outputs": [
    {
     "data": {
      "application/vnd.jupyter.widget-view+json": {
       "model_id": "13a7e62fcc7641c2905749ee19265737"
      }
     },
     "metadata": {},
     "output_type": "display_data"
    },
    {
     "name": "stdout",
     "output_type": "stream",
     "text": [
      "\n"
     ]
    }
   ],
   "source": [
    "# run it on all pages\n",
    "# import tqdm for monitoring the progress.\n",
    "from tqdm import tqdm_notebook as tqdm\n",
    "dfs = []\n",
    "for filename in tqdm(files):\n",
    "    dfs.append(parse_erc(filename))\n",
    "df = pd.concat(dfs)"
   ]
  },
  {
   "cell_type": "markdown",
   "metadata": {},
   "source": [
    "## Reliability and Data quality (1)\n",
    "** For the Exam**: Dedicate a Notebook to the analysis of data quality\n",
    "\n",
    "### Inspect the data\n",
    "- Does the number of data point match our expectation?\n",
    "- Counting Nan values and empty strings\n",
    "- Do Random Inspections"
   ]
  },
  {
   "cell_type": "code",
   "execution_count": 185,
   "metadata": {},
   "outputs": [
    {
     "data": {
      "text/html": [
       "<div>\n",
       "<style scoped>\n",
       "    .dataframe tbody tr th:only-of-type {\n",
       "        vertical-align: middle;\n",
       "    }\n",
       "\n",
       "    .dataframe tbody tr th {\n",
       "        vertical-align: top;\n",
       "    }\n",
       "\n",
       "    .dataframe thead th {\n",
       "        text-align: right;\n",
       "    }\n",
       "</style>\n",
       "<table border=\"1\" class=\"dataframe\">\n",
       "  <thead>\n",
       "    <tr style=\"text-align: right;\">\n",
       "      <th></th>\n",
       "      <th>Summary</th>\n",
       "      <th>Call Details</th>\n",
       "      <th>Duration</th>\n",
       "      <th>Host Institution (HI)</th>\n",
       "      <th>Max ERC Funding</th>\n",
       "      <th>Project</th>\n",
       "      <th>Project acronym</th>\n",
       "      <th>Researcher (PI)</th>\n",
       "      <th>Summary</th>\n",
       "      <th>filename</th>\n",
       "    </tr>\n",
       "  </thead>\n",
       "  <tbody>\n",
       "    <tr>\n",
       "      <th>47</th>\n",
       "      <td>Wave-particle interactions are ubiquitous in n...</td>\n",
       "      <td>Starting Grant (StG), PE2, ERC-2018-STG</td>\n",
       "      <td>Start date: 2019-05-01, End date: 2024-04-30</td>\n",
       "      <td>UNIVERSIDAD DE SEVILLA</td>\n",
       "      <td>1 512 250 €</td>\n",
       "      <td>Taming the particle transport in magnetized pl...</td>\n",
       "      <td>3D-FIREFLUC</td>\n",
       "      <td>Eleonora VIEZZER</td>\n",
       "      <td>Wave-particle interactions are ubiquitous in n...</td>\n",
       "      <td>erc_funding/mapping/56</td>\n",
       "    </tr>\n",
       "    <tr>\n",
       "      <th>37</th>\n",
       "      <td>Topological insulators constitute a novel clas...</td>\n",
       "      <td>Advanced Grant (AdG), PE3, ERC-2010-AdG_20100224</td>\n",
       "      <td>Start date: 2011-04-01, End date: 2016-03-31</td>\n",
       "      <td>JULIUS-MAXIMILIANS-UNIVERSITAT WURZBURG</td>\n",
       "      <td>2 419 590 €</td>\n",
       "      <td>Exploring the physics of 3-dimensional topolog...</td>\n",
       "      <td>3-TOP</td>\n",
       "      <td>Laurens Wigbolt Molenkamp</td>\n",
       "      <td>Topological insulators constitute a novel clas...</td>\n",
       "      <td>erc_funding/mapping/31</td>\n",
       "    </tr>\n",
       "    <tr>\n",
       "      <th>86</th>\n",
       "      <td>This project investigates the two-way relation...</td>\n",
       "      <td>Starting Grant (StG), LS2, ERC-2017-STG</td>\n",
       "      <td>Start date: 2018-04-01, End date: 2023-03-31</td>\n",
       "      <td>CENTRE NATIONAL DE LA RECHERCHE SCIENTIFIQUE CNRS</td>\n",
       "      <td>1 499 750 €</td>\n",
       "      <td>Spatio-temporal Organization and Expression of...</td>\n",
       "      <td>4D-GenEx</td>\n",
       "      <td>Antoine COULON</td>\n",
       "      <td>This project investigates the two-way relation...</td>\n",
       "      <td>erc_funding/mapping/72</td>\n",
       "    </tr>\n",
       "    <tr>\n",
       "      <th>63</th>\n",
       "      <td>At the end of their life, stars spread their i...</td>\n",
       "      <td>Starting Grant (StG), PE9, ERC-2013-StG</td>\n",
       "      <td>Start date: 2013-09-01, End date: 2018-08-31</td>\n",
       "      <td>CENTRE NATIONAL DE LA RECHERCHE SCIENTIFIQUE CNRS</td>\n",
       "      <td>1 166 231 €</td>\n",
       "      <td>3D Interstellar Chemo-physical Evolution</td>\n",
       "      <td>3DICE</td>\n",
       "      <td>Valentine Wakelam</td>\n",
       "      <td>At the end of their life, stars spread their i...</td>\n",
       "      <td>erc_funding/mapping/27</td>\n",
       "    </tr>\n",
       "    <tr>\n",
       "      <th>63</th>\n",
       "      <td>At the end of their life, stars spread their i...</td>\n",
       "      <td>Starting Grant (StG), PE9, ERC-2013-StG</td>\n",
       "      <td>Start date: 2013-09-01, End date: 2018-08-31</td>\n",
       "      <td>CENTRE NATIONAL DE LA RECHERCHE SCIENTIFIQUE CNRS</td>\n",
       "      <td>1 166 231 €</td>\n",
       "      <td>3D Interstellar Chemo-physical Evolution</td>\n",
       "      <td>3DICE</td>\n",
       "      <td>Valentine Wakelam</td>\n",
       "      <td>At the end of their life, stars spread their i...</td>\n",
       "      <td>erc_funding/mapping/8</td>\n",
       "    </tr>\n",
       "    <tr>\n",
       "      <th>57</th>\n",
       "      <td>Antigenic variation is a widely employed strat...</td>\n",
       "      <td>Starting Grant (StG), LS6, ERC-2016-STG</td>\n",
       "      <td>Start date: 2017-04-01, End date: 2022-03-31</td>\n",
       "      <td>LUDWIG-MAXIMILIANS-UNIVERSITAET MUENCHEN</td>\n",
       "      <td>1 498 175 €</td>\n",
       "      <td>The role of three-dimensional genome architect...</td>\n",
       "      <td>3D_Tryps</td>\n",
       "      <td>Tim Nicolai SIEGEL</td>\n",
       "      <td>Antigenic variation is a widely employed strat...</td>\n",
       "      <td>erc_funding/mapping/38</td>\n",
       "    </tr>\n",
       "    <tr>\n",
       "      <th>94</th>\n",
       "      <td>It was early predicted by M. Green and coeval ...</td>\n",
       "      <td>Starting Grant (StG), PE7, ERC-2017-STG</td>\n",
       "      <td>Start date: 2018-02-01, End date: 2023-01-31</td>\n",
       "      <td>UNIVERSIDAD AUTONOMA DE MADRID</td>\n",
       "      <td>1 499 719 €</td>\n",
       "      <td>4-Colours/2-Junctions of III-V semiconductors ...</td>\n",
       "      <td>4SUNS</td>\n",
       "      <td>María Nair LOPEZ MARTINEZ</td>\n",
       "      <td>It was early predicted by M. Green and coeval ...</td>\n",
       "      <td>erc_funding/mapping/74</td>\n",
       "    </tr>\n",
       "    <tr>\n",
       "      <th>2</th>\n",
       "      <td>The overall goal of 14Constraint is to enhance...</td>\n",
       "      <td>Advanced Grant (AdG), PE10, ERC-2015-AdG</td>\n",
       "      <td>Start date: 2016-12-01, End date: 2021-11-30</td>\n",
       "      <td>MAX-PLANCK-GESELLSCHAFT ZUR FORDERUNG DER WISS...</td>\n",
       "      <td>2 283 747 €</td>\n",
       "      <td>Radiocarbon constraints for models of C cyclin...</td>\n",
       "      <td>14Constraint</td>\n",
       "      <td>Susan Trumbore</td>\n",
       "      <td>The overall goal of 14Constraint is to enhance...</td>\n",
       "      <td>erc_funding/mapping/2</td>\n",
       "    </tr>\n",
       "    <tr>\n",
       "      <th>75</th>\n",
       "      <td>Understanding the many-body physics of strongl...</td>\n",
       "      <td>Starting Grant (StG), PE2, ERC-2011-StG_20101014</td>\n",
       "      <td>Start date: 2011-08-01, End date: 2016-07-31</td>\n",
       "      <td>RUPRECHT-KARLS-UNIVERSITAET HEIDELBERG</td>\n",
       "      <td>1 469 040 €</td>\n",
       "      <td>Three-Component Fermi Gas Lattice Experiment</td>\n",
       "      <td>3FLEX</td>\n",
       "      <td>Selim Jochim</td>\n",
       "      <td>Understanding the many-body physics of strongl...</td>\n",
       "      <td>erc_funding/mapping/39</td>\n",
       "    </tr>\n",
       "    <tr>\n",
       "      <th>83</th>\n",
       "      <td>Electronic doping, the control over the charge...</td>\n",
       "      <td>Proof of Concept (PoC),  ERC-2018-PoC</td>\n",
       "      <td>Start date: 2019-06-01, End date: 2020-11-30</td>\n",
       "      <td>TECHNISCHE UNIVERSITEIT DELFT</td>\n",
       "      <td>150 000 €</td>\n",
       "      <td>Designing Devices by Doping on Demand</td>\n",
       "      <td>4D</td>\n",
       "      <td>Arjan HOUTEPEN</td>\n",
       "      <td>Electronic doping, the control over the charge...</td>\n",
       "      <td>erc_funding/mapping/99</td>\n",
       "    </tr>\n",
       "  </tbody>\n",
       "</table>\n",
       "</div>"
      ],
      "text/plain": [
       "                                    \\r\\n  Summary\\r\\n  \\\n",
       "47  Wave-particle interactions are ubiquitous in n...   \n",
       "37  Topological insulators constitute a novel clas...   \n",
       "86  This project investigates the two-way relation...   \n",
       "63  At the end of their life, stars spread their i...   \n",
       "63  At the end of their life, stars spread their i...   \n",
       "57  Antigenic variation is a widely employed strat...   \n",
       "94  It was early predicted by M. Green and coeval ...   \n",
       "2   The overall goal of 14Constraint is to enhance...   \n",
       "75  Understanding the many-body physics of strongl...   \n",
       "83  Electronic doping, the control over the charge...   \n",
       "\n",
       "                                        Call Details  \\\n",
       "47           Starting Grant (StG), PE2, ERC-2018-STG   \n",
       "37  Advanced Grant (AdG), PE3, ERC-2010-AdG_20100224   \n",
       "86           Starting Grant (StG), LS2, ERC-2017-STG   \n",
       "63           Starting Grant (StG), PE9, ERC-2013-StG   \n",
       "63           Starting Grant (StG), PE9, ERC-2013-StG   \n",
       "57           Starting Grant (StG), LS6, ERC-2016-STG   \n",
       "94           Starting Grant (StG), PE7, ERC-2017-STG   \n",
       "2           Advanced Grant (AdG), PE10, ERC-2015-AdG   \n",
       "75  Starting Grant (StG), PE2, ERC-2011-StG_20101014   \n",
       "83             Proof of Concept (PoC),  ERC-2018-PoC   \n",
       "\n",
       "                                        Duration  \\\n",
       "47  Start date: 2019-05-01, End date: 2024-04-30   \n",
       "37  Start date: 2011-04-01, End date: 2016-03-31   \n",
       "86  Start date: 2018-04-01, End date: 2023-03-31   \n",
       "63  Start date: 2013-09-01, End date: 2018-08-31   \n",
       "63  Start date: 2013-09-01, End date: 2018-08-31   \n",
       "57  Start date: 2017-04-01, End date: 2022-03-31   \n",
       "94  Start date: 2018-02-01, End date: 2023-01-31   \n",
       "2   Start date: 2016-12-01, End date: 2021-11-30   \n",
       "75  Start date: 2011-08-01, End date: 2016-07-31   \n",
       "83  Start date: 2019-06-01, End date: 2020-11-30   \n",
       "\n",
       "                                Host Institution (HI) Max ERC Funding  \\\n",
       "47                             UNIVERSIDAD DE SEVILLA     1 512 250 €   \n",
       "37            JULIUS-MAXIMILIANS-UNIVERSITAT WURZBURG     2 419 590 €   \n",
       "86  CENTRE NATIONAL DE LA RECHERCHE SCIENTIFIQUE CNRS     1 499 750 €   \n",
       "63  CENTRE NATIONAL DE LA RECHERCHE SCIENTIFIQUE CNRS     1 166 231 €   \n",
       "63  CENTRE NATIONAL DE LA RECHERCHE SCIENTIFIQUE CNRS     1 166 231 €   \n",
       "57           LUDWIG-MAXIMILIANS-UNIVERSITAET MUENCHEN     1 498 175 €   \n",
       "94                     UNIVERSIDAD AUTONOMA DE MADRID     1 499 719 €   \n",
       "2   MAX-PLANCK-GESELLSCHAFT ZUR FORDERUNG DER WISS...     2 283 747 €   \n",
       "75             RUPRECHT-KARLS-UNIVERSITAET HEIDELBERG     1 469 040 €   \n",
       "83                      TECHNISCHE UNIVERSITEIT DELFT       150 000 €   \n",
       "\n",
       "                                              Project Project acronym  \\\n",
       "47  Taming the particle transport in magnetized pl...     3D-FIREFLUC   \n",
       "37  Exploring the physics of 3-dimensional topolog...           3-TOP   \n",
       "86  Spatio-temporal Organization and Expression of...        4D-GenEx   \n",
       "63           3D Interstellar Chemo-physical Evolution           3DICE   \n",
       "63           3D Interstellar Chemo-physical Evolution           3DICE   \n",
       "57  The role of three-dimensional genome architect...        3D_Tryps   \n",
       "94  4-Colours/2-Junctions of III-V semiconductors ...           4SUNS   \n",
       "2   Radiocarbon constraints for models of C cyclin...    14Constraint   \n",
       "75       Three-Component Fermi Gas Lattice Experiment           3FLEX   \n",
       "83              Designing Devices by Doping on Demand              4D   \n",
       "\n",
       "              Researcher (PI)  \\\n",
       "47           Eleonora VIEZZER   \n",
       "37  Laurens Wigbolt Molenkamp   \n",
       "86             Antoine COULON   \n",
       "63          Valentine Wakelam   \n",
       "63          Valentine Wakelam   \n",
       "57         Tim Nicolai SIEGEL   \n",
       "94  María Nair LOPEZ MARTINEZ   \n",
       "2              Susan Trumbore   \n",
       "75               Selim Jochim   \n",
       "83             Arjan HOUTEPEN   \n",
       "\n",
       "                                              Summary                filename  \n",
       "47  Wave-particle interactions are ubiquitous in n...  erc_funding/mapping/56  \n",
       "37  Topological insulators constitute a novel clas...  erc_funding/mapping/31  \n",
       "86  This project investigates the two-way relation...  erc_funding/mapping/72  \n",
       "63  At the end of their life, stars spread their i...  erc_funding/mapping/27  \n",
       "63  At the end of their life, stars spread their i...   erc_funding/mapping/8  \n",
       "57  Antigenic variation is a widely employed strat...  erc_funding/mapping/38  \n",
       "94  It was early predicted by M. Green and coeval ...  erc_funding/mapping/74  \n",
       "2   The overall goal of 14Constraint is to enhance...   erc_funding/mapping/2  \n",
       "75  Understanding the many-body physics of strongl...  erc_funding/mapping/39  \n",
       "83  Electronic doping, the control over the charge...  erc_funding/mapping/99  "
      ]
     },
     "execution_count": 185,
     "metadata": {},
     "output_type": "execute_result"
    }
   ],
   "source": [
    "## RANDOM INSPECTION\n",
    "df.sample(10)"
   ]
  },
  {
   "cell_type": "code",
   "execution_count": 215,
   "metadata": {},
   "outputs": [
    {
     "data": {
      "text/plain": [
       "(10004, 10004)"
      ]
     },
     "execution_count": 215,
     "metadata": {},
     "output_type": "execute_result"
    }
   ],
   "source": [
    "## ERC lists 10004\n",
    "len(df), len(df.drop_duplicates())"
   ]
  },
  {
   "cell_type": "code",
   "execution_count": 221,
   "metadata": {},
   "outputs": [
    {
     "data": {
      "image/png": "[encoded data removed]",
      "text/plain": [
       "<Figure size 432x288 with 1 Axes>"
      ]
     },
     "metadata": {},
     "output_type": "display_data"
    },
    {
     "data": {
      "image/png": "[encoded data removed]",
      "text/plain": [
       "<Figure size 432x288 with 1 Axes>"
      ]
     },
     "metadata": {},
     "output_type": "display_data"
    },
    {
     "data": {
      "image/png": "[encoded data removed]",
      "text/plain": [
       "<Figure size 432x288 with 1 Axes>"
      ]
     },
     "metadata": {},
     "output_type": "display_data"
    },
    {
     "data": {
      "image/png": "[encoded data removed]",
      "text/plain": [
       "<Figure size 432x288 with 1 Axes>"
      ]
     },
     "metadata": {},
     "output_type": "display_data"
    },
    {
     "data": {
      "image/png": "[encoded data removed]",
      "text/plain": [
       "<Figure size 432x288 with 1 Axes>"
      ]
     },
     "metadata": {},
     "output_type": "display_data"
    },
    {
     "data": {
      "image/png": "[encoded data removed]",
      "text/plain": [
       "<Figure size 432x288 with 1 Axes>"
      ]
     },
     "metadata": {},
     "output_type": "display_data"
    },
    {
     "data": {
      "image/png": "[encoded data removed]",
      "text/plain": [
       "<Figure size 432x288 with 1 Axes>"
      ]
     },
     "metadata": {},
     "output_type": "display_data"
    },
    {
     "data": {
      "image/png": "[encoded data removed]",
      "text/plain": [
       "<Figure size 432x288 with 1 Axes>"
      ]
     },
     "metadata": {},
     "output_type": "display_data"
    },
    {
     "data": {
      "image/png": "[encoded data removed]",
      "text/plain": [
       "<Figure size 432x288 with 1 Axes>"
      ]
     },
     "metadata": {},
     "output_type": "display_data"
    },
    {
     "data": {
      "image/png": "[encoded data removed]",
      "text/plain": [
       "<Figure size 432x288 with 1 Axes>"
      ]
     },
     "metadata": {},
     "output_type": "display_data"
    }
   ],
   "source": [
    "## Count Nan values\n",
    "df.apply(lambda x: x.isna().sum())\n",
    "## Plot length of the String\n",
    "for col in df.columns:\n",
    "    plt.figure()\n",
    "    plt.hist(df[col].fillna('').apply(len))\n",
    "    plt.title(col)\n"
   ]
  },
  {
   "cell_type": "markdown",
   "metadata": {},
   "source": [
    "### Do simple descriptives to see if everything make sense"
   ]
  },
  {
   "cell_type": "code",
   "execution_count": 203,
   "metadata": {},
   "outputs": [
    {
     "data": {
      "text/plain": [
       "CENTRE NATIONAL DE LA RECHERCHE SCIENTIFIQUE CNRS                     507\n",
       "THE CHANCELLOR MASTERS AND SCHOLARS OF THE UNIVERSITY OF CAMBRIDGE    262\n",
       "THE CHANCELLOR, MASTERS AND SCHOLARS OF THE UNIVERSITY OF OXFORD      260\n",
       "MAX-PLANCK-GESELLSCHAFT ZUR FORDERUNG DER WISSENSCHAFTEN EV           240\n",
       "UNIVERSITY COLLEGE LONDON                                             184\n",
       "WEIZMANN INSTITUTE OF SCIENCE                                         183\n",
       "EIDGENOESSISCHE TECHNISCHE HOCHSCHULE ZUERICH                         172\n",
       "ECOLE POLYTECHNIQUE FEDERALE DE LAUSANNE                              170\n",
       "THE HEBREW UNIVERSITY OF JERUSALEM                                    138\n",
       "IMPERIAL COLLEGE OF SCIENCE TECHNOLOGY AND MEDICINE                   122\n",
       "INSTITUT NATIONAL DE LA SANTE ET DE LA RECHERCHE MEDICALE             116\n",
       "THE UNIVERSITY OF EDINBURGH                                           109\n",
       "KOBENHAVNS UNIVERSITET                                                 96\n",
       "LUDWIG-MAXIMILIANS-UNIVERSITAET MUENCHEN                               96\n",
       "TEL AVIV UNIVERSITY                                                    93\n",
       "Name: Host Institution (HI), dtype: int64"
      ]
     },
     "execution_count": 203,
     "metadata": {},
     "output_type": "execute_result"
    }
   ],
   "source": [
    "df['Host Institution (HI)'].value_counts().head(15)"
   ]
  },
  {
   "cell_type": "code",
   "execution_count": 204,
   "metadata": {},
   "outputs": [
    {
     "data": {
      "text/plain": [
       "Susana Marcos Celestino    4\n",
       "Jacob KLEIN                4\n",
       "Andreas HERRMANN           3\n",
       "Didier Trono               3\n",
       "Eduard Arzt                3\n",
       "Name: Researcher (PI), dtype: int64"
      ]
     },
     "execution_count": 204,
     "metadata": {},
     "output_type": "execute_result"
    }
   ],
   "source": [
    "df['Researcher (PI)'].value_counts().head()"
   ]
  },
  {
   "cell_type": "code",
   "execution_count": 207,
   "metadata": {},
   "outputs": [
    {
     "data": {
      "text/plain": [
       "INTERACT    8\n",
       "IMAGINE     5\n",
       "COSMOS      5\n",
       "SMART       5\n",
       "QUEST       4\n",
       "Name: Project acronym, dtype: int64"
      ]
     },
     "execution_count": 207,
     "metadata": {},
     "output_type": "execute_result"
    }
   ],
   "source": [
    "df['Project acronym'].value_counts().head()"
   ]
  },
  {
   "cell_type": "markdown",
   "metadata": {},
   "source": [
    "## Reliability and Data quality (2)\n",
    "### Visualize the Log"
   ]
  },
  {
   "cell_type": "code",
   "execution_count": 222,
   "metadata": {
    "collapsed": true
   },
   "outputs": [],
   "source": [
    "# Load the LOG\n",
    "import pandas as pd\n",
    "log_df = pd.read_csv('erc_log.csv',sep=';') # load the ;-separated log \n",
    "import matplotlib.pyplot as plt\n",
    "%matplotlib inline\n",
    "import seaborn as sns"
   ]
  },
  {
   "cell_type": "code",
   "execution_count": 242,
   "metadata": {
    "collapsed": true
   },
   "outputs": [],
   "source": [
    "dt = log_df.dt.values[0]"
   ]
  },
  {
   "cell_type": "code",
   "execution_count": null,
   "metadata": {
    "collapsed": true
   },
   "outputs": [],
   "source": []
  },
  {
   "cell_type": "code",
   "execution_count": 249,
   "metadata": {
    "collapsed": true
   },
   "outputs": [],
   "source": [
    "import datetime\n",
    "# Convert the time column 't' to datetime \n",
    "#log_df['dt'] = log_df.t.apply(datetime.datetime.fromtimestamp)\n",
    "log_df['dt'] = pd.to_datetime(log_df.t,unit='s')"
   ]
  },
  {
   "cell_type": "code",
   "execution_count": 226,
   "metadata": {},
   "outputs": [
    {
     "data": {
      "image/png": "[encoded data removed]",
      "text/plain": [
       "<Figure size 1080x288 with 1 Axes>"
      ]
     },
     "metadata": {},
     "output_type": "display_data"
    }
   ],
   "source": [
    "# Plot the time it took to make the call\n",
    "plt.figure(figsize=(15,4))\n",
    "plt.plot(log_df.dt,log_df.delta_t)\n",
    "plt.ylabel('Delta t')\n",
    "plt.xlabel('Scraping progress')\n",
    "import datetime"
   ]
  },
  {
   "cell_type": "code",
   "execution_count": 227,
   "metadata": {},
   "outputs": [
    {
     "data": {
      "text/plain": [
       "[<matplotlib.lines.Line2D at 0x114dbde48>]"
      ]
     },
     "execution_count": 227,
     "metadata": {},
     "output_type": "execute_result"
    },
    {
     "data": {
      "image/png": "[encoded data removed]",
      "text/plain": [
       "<Figure size 1080x288 with 1 Axes>"
      ]
     },
     "metadata": {},
     "output_type": "display_data"
    }
   ],
   "source": [
    "# Plot the response size over time.\n",
    "plt.figure(figsize=(15,4))\n",
    "plt.ylabel('Size of response')\n",
    "plt.xlabel('Scraping progress')\n",
    "plt.plot(log_df.dt,log_df.response_size)"
   ]
  },
  {
   "cell_type": "code",
   "execution_count": 231,
   "metadata": {},
   "outputs": [
    {
     "data": {
      "text/plain": [
       "<matplotlib.collections.PathCollection at 0x11807aba8>"
      ]
     },
     "execution_count": 231,
     "metadata": {},
     "output_type": "execute_result"
    },
    {
     "data": {
      "image/png": "[encoded data removed]",
      "text/plain": [
       "<Figure size 432x288 with 1 Axes>"
      ]
     },
     "metadata": {},
     "output_type": "display_data"
    }
   ],
   "source": [
    "# Plot the delta_t against the response_size. These two should correlate pretty well.\n",
    "plt.scatter(log_df.delta_t,log_df.response_size)"
   ]
  },
  {
   "cell_type": "code",
   "execution_count": 250,
   "metadata": {},
   "outputs": [
    {
     "data": {
      "text/plain": [
       "dt_hour\n",
       "2019-08-16 05:00:00.000000000    True\n",
       "2019-08-16 05:00:00.000000999    True\n",
       "Name: success, dtype: bool"
      ]
     },
     "execution_count": 250,
     "metadata": {},
     "output_type": "execute_result"
    }
   ],
   "source": [
    "## Investigate errors\n",
    "log_df.success.value_counts() ## Count errors\n",
    "## Groupby time\n",
    "# round the time for aggregation\n",
    "log_df['dt_minute'] = log_df.dt.apply(lambda x: x-datetime.timedelta(seconds=x.second,microseconds=x.microsecond))\n",
    "log_df['dt_hour'] = log_df.dt.apply(lambda x: x-datetime.timedelta(minutes=x.minute,seconds=x.second,microseconds=x.microsecond))\n",
    "log_df.groupby('dt_hour').success.mean()\n"
   ]
  },
  {
   "cell_type": "markdown",
   "metadata": {
    "slideshow": {
     "slide_type": "slide"
    }
   },
   "source": [
    "# Extracting patterns from Raw Text"
   ]
  },
  {
   "cell_type": "markdown",
   "metadata": {
    "slideshow": {
     "slide_type": "fragment"
    }
   },
   "source": [
    "of course you already now your basic string operations:\n",
    "\n",
    "`string.split\n",
    "string.strip\n",
    "string.replace`\n",
    "\n",
    "And sometimes this will be enough, but sometimes it is not."
   ]
  },
  {
   "cell_type": "markdown",
   "metadata": {
    "slideshow": {
     "slide_type": "slide"
    }
   },
   "source": [
    "# Regular Expressions\n",
    "![](https://cdn-images-1.medium.com/max/800/0*j1f-EFL7TDtf6K0o.jpg)"
   ]
  },
  {
   "cell_type": "markdown",
   "metadata": {
    "slideshow": {
     "slide_type": "subslide"
    }
   },
   "source": [
    "Regex can be a little terrifying:\n",
    "\n",
    "`pattern = '(?:(?:\\r\\n)?[ \\t])*(?:(?:(?:[^()<>@,;:\\\\\".\\[\\] \\000-\\031]+(?:(?:(?:\\r\\n)?[ \\t])+|\\Z|(?=[\\[\"()<>@,;:\\\\\".\\[\\]]))|\"(?:[^\\\"\\r\\\\]|\\\\.|(?:(?:\\r\\n)?[ \\t]))*\"(?:(?:\\r\\n)?[ \\t])*)(?:\\.(?:(?:\\r\\n)?[ \\t])*(?:[^()<>@,;:\\\\\".\\[\\] \\000-\\031]+(?:(?:(?:\\r\\n)?[ \\t])+|\\Z|(?=[\\[\"()<>@,;:\\\\\".\\[\\]]))|\"(?:[^\\\"\\r\\\\]|\\\\.|(?:(?:\\r\\n)?[ \\t]))*\"(?:(?:\\r\\n)?[ \\t])*))*@(?:(?:\\r\\n)?[ \\t])*(?:[^()<>@,;:\\\\\".\\[\\] \\000-\\031]+(?:(?:(?:\\r\\n)?[ \\t])+|\\Z|(?=[\\[\"()<>@,;:\\\\\".\\[\\]]))|\\[([^\\[\\]\\r\\\\]|\\\\.)*\\](?:(?:\\r\\n)?[ \\t])*)(?:\\.(?:(?:\\r\\n)?[ \\t])*(?:[^()<>@,;:\\\\\".\\[\\] \\000-\\031]+(?:(?:(?:\\r\\n)?[ \\t])+|\\Z|(?=[\\[\"()<>@,;:\\\\\".\\[\\]]))|\\[([^\\[\\]\\r\\\\]|\\\\.)*\\](?:(?:\\r\\n)?[ \\t])*))*|(?:[^()<>@,;:\\\\\".\\[\\] \\000-\\031]+(?:(?:(?:\\r\\n)?[ \\t])+|\\Z|(?=[\\[\"()<>@,;:\\\\\".\\[\\]]))|\"(?:[^\\\"\\r\\\\]|\\\\.|(?:(?:\\r\\n)?[ \\t]))*\"(?:(?:\\r\\n)?[ \\t])*)*\\<(?:(?:\\r\\n)?[ \\t])*(?:@(?:[^()<>@,;:\\\\\".\\[\\] \\000-\\031]+(?:(?:(?:\\r\\n)?[ \\t])+|\\Z|(?=[\\[\"()<>@,;:\\\\\".\\[\\]]))|\\[([^\\[\\]\\r\\\\]|\\\\.)*\\](?:(?:\\r\\n)?[ \\t])*)(?:\\.(?:(?:\\r\\n)?[ \\t])*(?:[^()<>@,;:\\\\\".\\[\\] \\000-\\031]+(?:(?:(?:\\r\\n)?[ \\t])+|\\Z|(?=[\\[\"()<>@,;:\\\\\".\\[\\]]))|\\[([^\\[\\]\\r\\\\]|\\\\.)*\\](?:(?:\\r\\n)?[ \\t])*))*(?:,@(?:(?:\\r\\n)?[ \\t])*(?:[^()<>@,;:\\\\\".\\[\\] \\000-\\031]+(?:(?:(?:\\r\\n)?[ \\t])+|\\Z|(?=[\\[\"()<>@,;:\\\\\".\\[\\]]))|\\[([^\\[\\]\\r\\\\]|\\\\.)*\\](?:(?:\\r\\n)?[ \\t])*)(?:\\.(?:(?:\\r\\n)?[ \\t])*(?:[^()<>@,;:\\\\\".\\[\\] \\000-\\031]+(?:(?:(?:\\r\\n)?[ \\t])+|\\Z|(?=[\\[\"()<>@,;:\\\\\".\\[\\]]))|\\[([^\\[\\]\\r\\\\]|\\\\.)*\\](?:(?:\\r\\n)?[ \\t])*))*)*:(?:(?:\\r\\n)?[ \\t])*)?(?:[^()<>@,;:\\\\\".\\[\\] \\000-\\031]+(?:(?:(?:\\r\\n)?[ \\t])+|\\Z|(?=[\\[\"()<>@,;:\\\\\".\\[\\]]))|\"(?:[^\\\"\\r\\\\]|\\\\.|(?:(?:\\r\\n)?[ \\t]))*\"(?:(?:\\r\\n)?[ \\t])*)(?:\\.(?:(?:\\r\\n)?[ \\t])*(?:[^()<>@,;:\\\\\".\\[\\] \\000-\\031]+(?:(?:(?:\\r\\n)?[ \\t])+|\\Z|(?=[\\[\"()<>@,;:\\\\\".\\[\\]]))|\"(?:[^\\\"\\r\\\\]|\\\\.|(?:(?:\\r\\n)?[ \\t]))*\"(?:(?:\\r\\n)?[ \\t])*))*@(?:(?:\\r\\n)?[ \\t])*(?:[^()<>@,;:\\\\\".\\[\\] \\000-\\031]+(?:(?:(?:\\r\\n)?[ \\t])+|\\Z|(?=[\\[\"()<>@,;:\\\\\".\\[\\]]))|\\[([^\\[\\]\\r\\\\]|\\\\.)*\\](?:(?:\\r\\n)?[ \\t])*)(?:\\.(?:(?:\\r\\n)?[ \\t])*(?:[^()<>@,;:\\\\\".\\[\\] \\000-\\031]+(?:(?:(?:\\r\\n)?[ \\t])+|\\Z|(?=[\\[\"()<>@,;:\\\\\".\\[\\]]))|\\[([^\\[\\]\\r\\\\]|\\\\.)*\\](?:(?:\\r\\n)?[ \\t])*))*\\>(?:(?:\\r\\n)?[ \\t])*)|(?:[^()<>@,;:\\\\\".\\[\\] \\000-\\031]+(?:(?:(?:\\r\\n)?[ \\t])+|\\Z|(?=[\\[\"()<>@,;:\\\\\".\\[\\]]))|\"(?:[^\\\"\\r\\\\]|\\\\.|(?:(?:\\r\\n)?[ \\t]))*\"(?:(?:\\r\\n)?[ \\t])*)*:(?:(?:\\r\\n)?[ \\t])*(?:(?:(?:[^()<>@,;:\\\\\".\\[\\] \\000-\\031]+(?:(?:(?:\\r\\n)?[ \\t])+|\\Z|(?=[\\[\"()<>@,;:\\\\\".\\[\\]]))|\"(?:[^\\\"\\r\\\\]|\\\\.|(?:(?:\\r\\n)?[ \\t]))*\"(?:(?:\\r\\n)?[ \\t])*)(?:\\.(?:(?:\\r\\n)?[ \\t])*(?:[^()<>@,;:\\\\\".\\[\\] \\000-\\031]+(?:(?:(?:\\r\\n)?[ \\t])+|\\Z|(?=[\\[\"()<>@,;:\\\\\".\\[\\]]))|\"(?:[^\\\"\\r\\\\]|\\\\.|(?:(?:\\r\\n)?[ \\t]))*\"(?:(?:\\r\\n)?[ \\t])*))*@(?:(?:\\r\\n)?[ \\t])*(?:[^()<>@,;:\\\\\".\\[\\] \\000-\\031]+(?:(?:(?:\\r\\n)?[ \\t])+|\\Z|(?=[\\[\"()<>@,;:\\\\\".\\[\\]]))|\\[([^\\[\\]\\r\\\\]|\\\\.)*\\](?:(?:\\r\\n)?[ \\t])*)(?:\\.(?:(?:\\r\\n)?[ \\t])*(?:[^()<>@,;:\\\\\".\\[\\] \\000-\\031]+(?:(?:(?:\\r\\n)?[ \\t])+|\\Z|(?=[\\[\"()<>@,;:\\\\\".\\[\\]]))|\\[([^\\[\\]\\r\\\\]|\\\\.)*\\](?:(?:\\r\\n)?[ \\t])*))*|(?:[^()<>@,;:\\\\\".\\[\\] \\000-\\031]+(?:(?:(?:\\r\\n)?[ \\t])+|\\Z|(?=[\\[\"()<>@,;:\\\\\".\\[\\]]))|\"(?:[^\\\"\\r\\\\]|\\\\.|(?:(?:\\r\\n)?[ \\t]))*\"(?:(?:\\r\\n)?[ \\t])*)*\\<(?:(?:\\r\\n)?[ \\t])*(?:@(?:[^()<>@,;:\\\\\".\\[\\] \\000-\\031]+(?:(?:(?:\\r\\n)?[ \\t])+|\\Z|(?=[\\[\"()<>@,;:\\\\\".\\[\\]]))|\\[([^\\[\\]\\r\\\\]|\\\\.)*\\](?:(?:\\r\\n)?[ \\t])*)(?:\\.(?:(?:\\r\\n)?[ \\t])*(?:[^()<>@,;:\\\\\".\\[\\] \\000-\\031]+(?:(?:(?:\\r\\n)?[ \\t])+|\\Z|(?=[\\[\"()<>@,;:\\\\\".\\[\\]]))|\\[([^\\[\\]\\r\\\\]|\\\\.)*\\](?:(?:\\r\\n)?[ \\t])*))*(?:,@(?:(?:\\r\\n)?[ \\t])*(?:[^()<>@,;:\\\\\".\\[\\] \\000-\\031]+(?:(?:(?:\\r\\n)?[ \\t])+|\\Z|(?=[\\[\"()<>@,;:\\\\\".\\[\\]]))|\\[([^\\[\\]\\r\\\\]|\\\\.)*\\](?:(?:\\r\\n)?[ \\t])*)(?:\\.(?:(?:\\r\\n)?[ \\t])*(?:[^()<>@,;:\\\\\".\\[\\] \\000-\\031]+(?:(?:(?:\\r\\n)?[ \\t])+|\\Z|(?=[\\[\"()<>@,;:\\\\\".\\[\\]]))|\\[([^\\[\\]\\r\\\\]|\\\\.)*\\](?:(?:\\r\\n)?[ \\t])*))*)*:(?:(?:\\r\\n)?[ \\t])*)?(?:[^()<>@,;:\\\\\".\\[\\] \\000-\\031]+(?:(?:(?:\\r\\n)?[ \\t])+|\\Z|(?=[\\[\"()<>@,;:\\\\\".\\[\\]]))|\"(?:[^\\\"\\r\\\\]|\\\\.|(?:(?:\\r\\n)?[ \\t]))*\"(?:(?:\\r\\n)?[ \\t])*)(?:\\.(?:(?:\\r\\n)?[ \\t])*(?:[^()<>@,;:\\\\\".\\[\\] \\000-\\031]+(?:(?:(?:\\r\\n)?[ \\t])+|\\Z|(?=[\\[\"()<>@,;:\\\\\".\\[\\]]))|\"(?:[^\\\"\\r\\\\]|\\\\.|(?:(?:\\r\\n)?[ \\t]))*\"(?:(?:\\r\\n)?[ \\t])*))*@(?:(?:\\r\\n)?[ \\t])*(?:[^()<>@,;:\\\\\".\\[\\] \\000-\\031]+(?:(?:(?:\\r\\n)?[ \\t])+|\\Z|(?=[\\[\"()<>@,;:\\\\\".\\[\\]]))|\\[([^\\[\\]\\r\\\\]|\\\\.)*\\](?:(?:\\r\\n)?[ \\t])*)(?:\\.(?:(?:\\r\\n)?[ \\t])*(?:[^()<>@,;:\\\\\".\\[\\] \\000-\\031]+(?:(?:(?:\\r\\n)?[ \\t])+|\\Z|(?=[\\[\"()<>@,;:\\\\\".\\[\\]]))|\\[([^\\[\\]\\r\\\\]|\\\\.)*\\](?:(?:\\r\\n)?[ \\t])*))*\\>(?:(?:\\r\\n)?[ \\t])*)(?:,\\s*(?:(?:[^()<>@,;:\\\\\".\\[\\] \\000-\\031]+(?:(?:(?:\\r\\n)?[ \\t])+|\\Z|(?=[\\[\"()<>@,;:\\\\\".\\[\\]]))|\"(?:[^\\\"\\r\\\\]|\\\\.|(?:(?:\\r\\n)?[ \\t]))*\"(?:(?:\\r\\n)?[ \\t])*)(?:\\.(?:(?:\\r\\n)?[ \\t])*(?:[^()<>@,;:\\\\\".\\[\\] \\000-\\031]+(?:(?:(?:\\r\\n)?[ \\t])+|\\Z|(?=[\\[\"()<>@,;:\\\\\".\\[\\]]))|\"(?:[^\\\"\\r\\\\]|\\\\.|(?:(?:\\r\\n)?[ \\t]))*\"(?:(?:\\r\\n)?[ \\t])*))*@(?:(?:\\r\\n)?[ \\t])*(?:[^()<>@,;:\\\\\".\\[\\] \\000-\\031]+(?:(?:(?:\\r\\n)?[ \\t])+|\\Z|(?=[\\[\"()<>@,;:\\\\\".\\[\\]]))|\\[([^\\[\\]\\r\\\\]|\\\\.)*\\](?:(?:\\r\\n)?[ \\t])*)(?:\\.(?:(?:\\r\\n)?[ \\t])*(?:[^()<>@,;:\\\\\".\\[\\] \\000-\\031]+(?:(?:(?:\\r\\n)?[ \\t])+|\\Z|(?=[\\[\"()<>@,;:\\\\\".\\[\\]]))|\\[([^\\[\\]\\r\\\\]|\\\\.)*\\](?:(?:\\r\\n)?[ \\t])*))*|(?:[^()<>@,;:\\\\\".\\[\\] \\000-\\031]+(?:(?:(?:\\r\\n)?[ \\t])+|\\Z|(?=[\\[\"()<>@,;:\\\\\".\\[\\]]))|\"(?:[^\\\"\\r\\\\]|\\\\.|(?:(?:\\r\\n)?[ \\t]))*\"(?:(?:\\r\\n)?[ \\t])*)*\\<(?:(?:\\r\\n)?[ \\t])*(?:@(?:[^()<>@,;:\\\\\".\\[\\] \\000-\\031]+(?:(?:(?:\\r\\n)?[ \\t])+|\\Z|(?=[\\[\"()<>@,;:\\\\\".\\[\\]]))|\\[([^\\[\\]\\r\\\\]|\\\\.)*\\](?:(?:\\r\\n)?[ \\t])*)(?:\\.(?:(?:\\r\\n)?[ \\t])*(?:[^()<>@,;:\\\\\".\\[\\] \\000-\\031]+(?:(?:(?:\\r\\n)?[ \\t])+|\\Z|(?=[\\[\"()<>@,;:\\\\\".\\[\\]]))|\\[([^\\[\\]\\r\\\\]|\\\\.)*\\](?:(?:\\r\\n)?[ \\t])*))*(?:,@(?:(?:\\r\\n)?[ \\t])*(?:[^()<>@,;:\\\\\".\\[\\] \\000-\\031]+(?:(?:(?:\\r\\n)?[ \\t])+|\\Z|(?=[\\[\"()<>@,;:\\\\\".\\[\\]]))|\\[([^\\[\\]\\r\\\\]|\\\\.)*\\](?:(?:\\r\\n)?[ \\t])*)(?:\\.(?:(?:\\r\\n)?[ \\t])*(?:[^()<>@,;:\\\\\".\\[\\] \\000-\\031]+(?:(?:(?:\\r\\n)?[ \\t])+|\\Z|(?=[\\[\"()<>@,;:\\\\\".\\[\\]]))|\\[([^\\[\\]\\r\\\\]|\\\\.)*\\](?:(?:\\r\\n)?[ \\t])*))*)*:(?:(?:\\r\\n)?[ \\t])*)?(?:[^()<>@,;:\\\\\".\\[\\] \\000-\\031]+(?:(?:(?:\\r\\n)?[ \\t])+|\\Z|(?=[\\[\"()<>@,;:\\\\\".\\[\\]]))|\"(?:[^\\\"\\r\\\\]|\\\\.|(?:(?:\\r\\n)?[ \\t]))*\"(?:(?:\\r\\n)?[ \\t])*)(?:\\.(?:(?:\\r\\n)?[ \\t])*(?:[^()<>@,;:\\\\\".\\[\\] \\000-\\031]+(?:(?:(?:\\r\\n)?[ \\t])+|\\Z|(?=[\\[\"()<>@,;:\\\\\".\\[\\]]))|\"(?:[^\\\"\\r\\\\]|\\\\.|(?:(?:\\r\\n)?[ \\t]))*\"(?:(?:\\r\\n)?[ \\t])*))*@(?:(?:\\r\\n)?[ \\t])*(?:[^()<>@,;:\\\\\".\\[\\] \\000-\\031]+(?:(?:(?:\\r\\n)?[ \\t])+|\\Z|(?=[\\[\"()<>@,;:\\\\\".\\[\\]]))|\\[([^\\[\\]\\r\\\\]|\\\\.)*\\](?:(?:\\r\\n)?[ \\t])*)(?:\\.(?:(?:\\r\\n)?[ \\t])*(?:[^()<>@,;:\\\\\".\\[\\] \\000-\\031]+(?:(?:(?:\\r\\n)?[ \\t])+|\\Z|(?=[\\[\"()<>@,;:\\\\\".\\[\\]]))|\\[([^\\[\\]\\r\\\\]|\\\\.)*\\](?:(?:\\r\\n)?[ \\t])*))*\\>(?:(?:\\r\\n)?[ \\t])*))*)?;\\s*)'`\n"
   ]
  },
  {
   "cell_type": "markdown",
   "metadata": {
    "slideshow": {
     "slide_type": "subslide"
    }
   },
   "source": [
    "However creating regular expressions is also fun, fun as in Suduko, and it is extremely valuable when working with any kind of text: e.g. Automating otherwise tedious manual tasks when cleaning a data set, searching, extracting and substituting specific patterns.\n",
    "\n",
    "Examples could be: \n",
    "- Extract currency and amount from raw text: $ 20, 10.000 dollars 10,000 £\n",
    "- email addresses: here you want to design a pattern (as above), that captures only the uses of @ within an email.\n",
    "- urls. Here you are trying to define all the different ways of writing urls (https, http, no http). \n",
    "- Dates. Again many variations: 17th of June 2017, 06/17/17 or 17. June 17\n",
    "- addresses, \n",
    "- phone numbers: 8888888 or 88 88 88 88 or +45 88 88 88 88,\n",
    "- emojiies in text. Capturing all the different ways of expressing smiley faces with one regular expression. \n",
    "\n",
    "\n"
   ]
  },
  {
   "cell_type": "markdown",
   "metadata": {
    "slideshow": {
     "slide_type": "subslide"
    }
   },
   "source": [
    "** Regular Expression syntax **\n",
    "\n",
    "Ressources:\n",
    "Best way to learn is to practice, and with interactive examples. Two good ressources are here:\n",
    "* Community and interactive playground [here](http://regexr.com/)\n",
    "* Interactive tutorial [here](https://regexone.com/)\n",
    "* or you can use your notebook.\n",
    "\n",
    "Lookup all special characters [here](https://www.regular-expressions.info/refquick.html)\n",
    "\n",
    "* \\+ = 1 or more times  -- e.g. \"a+\" will match: \"a\", and \"aaa\"\n",
    "* \\* = 0 or more times  -- e.g. \"ba*\" will match: \"b\", and \"ba\", and \"baaa\"\n",
    "* {3} = exactly three times --- e.g. \"ba{3}\" will match \"baaa\", but not \"baa\"\n",
    "* ? = once or none\n",
    "* \\\\ = escape character, used to find characters that has special meaning with regex: e.g. \\+ \\*\n",
    "* [] = allows you to define a set of characters\n",
    "* ^ = applied within a set, it becomes the inverse of the set defined. Applied outside a set it entails the beginning of a string. $ entails the end of a string.\n",
    "* . = any characters except line break\n",
    "* | = or statement. -- e.g. a|b means find characters a or b.\n",
    "* \\d = digits\n",
    "* \\D = any-non-digits.\n",
    "* \\s = whitespace-separator\n",
    "\n",
    "Sequences\n",
    "* (?:) = Defines a Non-capturing group. -- e.g. \"(?:abc)+\", will match \"abc\" and \"abcabcabc\", but not \"aabbcc\"\n",
    "* (?=)\t= Positive lookahead - only match a certain pattern if a certain pattern comes after it.\n",
    "* (?!)\t= Negative lookahead - only match a certain pattern if **not** a certain pattern comes after it.\n",
    "* (?<=)\t= Positive lookbehind - only match a certain pattern if a certain pattern precedes it.\n",
    "* (?<!) = Negative lookbehind - only match a certain pattern if **not** a certain pattern precedes it."
   ]
  },
  {
   "cell_type": "markdown",
   "metadata": {
    "slideshow": {
     "slide_type": "slide"
    }
   },
   "source": [
    "## Regular expressions (2): define - inspect - refine\n",
    "You are trying to balance getting (and learning/exploring) all the different variations of e.g. an emojii. while also making sure not to include ordinary use of :. \n",
    "\n",
    "This means iterating through many steps, some expressions being too broad others being to narrow, and others not matching all that you need.\n",
    "\n",
    "I developed a small module for this that you can use. Just run the following piece of code to download, save and import the module.\n",
    "\n",
    "```python \n",
    "# download module\n",
    "url = 'https://raw.githubusercontent.com/snorreralund/explore_regex/master/explore_regex.py'\n",
    "response = requests.get(url)\n",
    "# write script to your folder to create a locate module\n",
    "with open('explore_regex.py','w') as f:\n",
    "    f.write(response.text)\n",
    "# import local module\n",
    "import explore_regex as e_re\n",
    "```"
   ]
  },
  {
   "cell_type": "markdown",
   "metadata": {},
   "source": [
    "## Lets do an example\n",
    "first we get a dataset to play with. \n",
    "We download the following link using pandas and dump it to your local machine using the `pd.to_csv()` method."
   ]
  },
  {
   "cell_type": "code",
   "execution_count": 1,
   "metadata": {
    "collapsed": true
   },
   "outputs": [],
   "source": [
    "import pandas as pd\n",
    "import re\n",
    "path2data = 'https://raw.githubusercontent.com/snorreralund/scraping_seminar/master/danish_review_sample.csv'\n",
    "df = pd.read_csv(path2data)\n",
    "df.to_csv('danish_review_sample.csv',index=False)\n",
    "\n",
    "digit_re = re.compile('[0-9]+') # compiled regular expression for matching digits\n",
    "df['hasNumber'] = df.reviewBody.apply(lambda x: len(digit_re.findall(x))>0) # check if it has a number\n"
   ]
  },
  {
   "cell_type": "code",
   "execution_count": 2,
   "metadata": {
    "collapsed": true
   },
   "outputs": [],
   "source": [
    "sample_string = '\\n'.join(df[df.hasNumber].sample(2000).reviewBody)"
   ]
  },
  {
   "cell_type": "code",
   "execution_count": 3,
   "metadata": {
    "collapsed": true
   },
   "outputs": [],
   "source": [
    "import explore_regex as e_re\n",
    "%matplotlib inline"
   ]
  },
  {
   "cell_type": "code",
   "execution_count": 4,
   "metadata": {},
   "outputs": [
    {
     "name": "stdout",
     "output_type": "stream",
     "text": [
      "------ Pattern: kr\t Matched 1071 patterns -----\n",
      "Found 0 overlaps between the expressions:\n",
      "        pattern1: kr \t and\n",
      "        pattern2: kr\n",
      "        1071 included in pattern1 and not in the pattern2\n",
      "        1071 was included in pattern2 and not in pattern1\n",
      "------ Pattern: [0-9]+kr\t Matched 83 patterns -----\n",
      "Found 166 overlaps between the expressions:\n",
      "        pattern1: [0-9]+kr \t and\n",
      "        pattern2: kr\n",
      "        0 included in pattern1 and not in the pattern2\n",
      "        988 was included in pattern2 and not in pattern1\n",
      "------ Pattern: [0-9]+(?:[,.][0-9]+)?kr\t Matched 83 patterns -----\n",
      "Found 166 overlaps between the expressions:\n",
      "        pattern1: [0-9]+(?:[,.][0-9]+)?kr \t and\n",
      "        pattern2: kr\n",
      "        0 included in pattern1 and not in the pattern2\n",
      "        988 was included in pattern2 and not in pattern1\n",
      "------ Pattern: [0-9]+(?:[,.][0-9]+)?\\s{0,2}kr\t Matched 343 patterns -----\n",
      "Found 686 overlaps between the expressions:\n",
      "        pattern1: [0-9]+(?:[,.][0-9]+)?\\s{0,2}kr \t and\n",
      "        pattern2: kr\n",
      "        0 included in pattern1 and not in the pattern2\n",
      "        728 was included in pattern2 and not in pattern1\n",
      "------ Pattern: [0-9]+(?:[,.][0-9]+)?\\s{0,5}kr(?:oner)?\t Matched 343 patterns -----\n",
      "Found 686 overlaps between the expressions:\n",
      "        pattern1: [0-9]+(?:[,.][0-9]+)?\\s{0,5}kr(?:oner)? \t and\n",
      "        pattern2: kr\n",
      "        0 included in pattern1 and not in the pattern2\n",
      "        728 was included in pattern2 and not in pattern1\n",
      "Match: 2500kr\tContext:ris på ca 2500kr. Jeg godt\n",
      "Match: 700kr\tContext:egrej for 700kr og modtog\n",
      "Match: 270kr\tContext:k det til 270kr hvilket j\n",
      "Match: 0kr\tContext:es tid og 0kr i kassen)\n",
      "Match: 235kr\tContext:drengen. (235kr.)\n",
      "Det vi\n",
      "Match: 3500kr\tContext:en pc til 3500kr ved brugt\n",
      "Match: 5000kr\tContext:ert brugt 5000kr på jeres \n",
      "Match: 299kr\tContext: watt til 299kr sidste år\n",
      "Match: 356kr\tContext:pr måned (356kr!) fra min\n",
      "Match: 180kr\tContext:eg af med 180kr mere??\n",
      "\n",
      "C\n"
     ]
    }
   ],
   "source": [
    "# money example\n",
    "#explore_money = ExploreRegex(sample_string)\n",
    "explore_money = e_re.ExploreRegex(sample_string)\n",
    "first = 'kr'\n",
    "second = '[0-9]+kr'\n",
    "third = '[0-9]+(?:[,.][0-9]+)?kr'\n",
    "fourth = '[0-9]+(?:[,.][0-9]+)?\\s{0,2}kr'\n",
    "final = '[0-9]+(?:[,.][0-9]+)?\\s{0,5}kr(?:oner)?'\n",
    "patterns = [first,second,third,fourth,final]\n",
    "for pattern in patterns:\n",
    "    explore_money.explore_difference(pattern,patterns[0])\n",
    "explore_money.explore_pattern(second)"
   ]
  },
  {
   "cell_type": "code",
   "execution_count": 5,
   "metadata": {},
   "outputs": [
    {
     "name": "stdout",
     "output_type": "stream",
     "text": [
      "------ Pattern: kr\t Matched 1071 patterns -----\n",
      "------ Pattern: [0-9]+kr\t Matched 83 patterns -----\n",
      "------ Pattern: [0-9]+(?:[,.][0-9]+)?kr\t Matched 83 patterns -----\n",
      "------ Pattern: [0-9]+(?:[,.][0-9]+)?\\s{0,2}kr\t Matched 343 patterns -----\n",
      "------ Pattern: [0-9]+(?:[,.][0-9]+)?\\s{0,5}kr(?:oner)?\t Matched 343 patterns -----\n"
     ]
    },
    {
     "data": {
      "image/png": "[encoded data removed]",
      "text/plain": [
       "<matplotlib.figure.Figure at 0x1b8e916e908>"
      ]
     },
     "metadata": {},
     "output_type": "display_data"
    }
   ],
   "source": [
    "explore_money.report('soft')"
   ]
  },
  {
   "cell_type": "code",
   "execution_count": 6,
   "metadata": {},
   "outputs": [
    {
     "name": "stdout",
     "output_type": "stream",
     "text": [
      "------ Pattern: kr\t Matched 1071 patterns -----\n",
      "------ Pattern: [0-9]+kr\t Matched 83 patterns -----\n",
      "------ Pattern: [0-9]+(?:[,.][0-9]+)?kr\t Matched 83 patterns -----\n",
      "------ Pattern: [0-9]+(?:[,.][0-9]+)?\\s{0,2}kr\t Matched 343 patterns -----\n",
      "------ Pattern: [0-9]+(?:[,.][0-9]+)?\\s{0,5}kr(?:oner)?\t Matched 343 patterns -----\n"
     ]
    },
    {
     "data": {
      "image/png": "[encoded data removed]",
      "text/plain": [
       "<matplotlib.figure.Figure at 0x1b8e94d0358>"
      ]
     },
     "metadata": {},
     "output_type": "display_data"
    }
   ],
   "source": [
    "explore_money.report('hard')"
   ]
  },
  {
   "cell_type": "code",
   "execution_count": 7,
   "metadata": {},
   "outputs": [
    {
     "name": "stdout",
     "output_type": "stream",
     "text": [
      "[0-9]+(?:[,.][0-9]+)?\\s{0,2}kr [0-9]+(?:[,.][0-9]+)?\\s{0,5}kr(?:oner)?\n",
      "Found 686 overlaps between the expressions:\n",
      "        pattern1: [0-9]+(?:[,.][0-9]+)?\\s{0,2}kr \t and\n",
      "        pattern2: [0-9]+(?:[,.][0-9]+)?\\s{0,5}kr(?:oner)?\n",
      "        0 included in pattern1 and not in the pattern2\n",
      "        0 was included in pattern2 and not in pattern1\n"
     ]
    },
    {
     "data": {
      "text/plain": [
       "([], [])"
      ]
     },
     "execution_count": 7,
     "metadata": {},
     "output_type": "execute_result"
    }
   ],
   "source": [
    "print(explore_money.patterns[3],explore_money.patterns[4])\n",
    "explore_money.explore_difference(explore_money.patterns[3],explore_money.patterns[4])"
   ]
  }
 ],
 "metadata": {
  "kernelspec": {
   "display_name": "Python 3",
   "language": "python",
   "name": "python3"
  },
  "language_info": {
   "codemirror_mode": {
    "name": "ipython",
    "version": 3
   },
   "file_extension": ".py",
   "mimetype": "text/x-python",
   "name": "python",
   "nbconvert_exporter": "python",
   "pygments_lexer": "ipython3",
   "version": "3.7.3"
  },
  "latex_envs": {
   "bibliofile": "biblio.bib",
   "cite_by": "apalike",
   "current_citInitial": 1,
   "eqLabelWithNumbers": true,
   "eqNumInitial": 0
  },
  "toc": {
   "nav_menu": {
    "height": "365px",
    "width": "252px"
   },
   "navigate_menu": true,
   "number_sections": true,
   "sideBar": true,
   "threshold": 4,
   "toc_cell": false,
   "toc_section_display": "block",
   "toc_window_display": false
  }
 },
 "nbformat": 4,
 "nbformat_minor": 2
}
